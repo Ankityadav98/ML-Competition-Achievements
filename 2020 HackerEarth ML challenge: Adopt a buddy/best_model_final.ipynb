{
 "cells": [
  {
   "cell_type": "markdown",
   "metadata": {},
   "source": [
    "# Importing Libraries"
   ]
  },
  {
   "cell_type": "code",
   "execution_count": 1,
   "metadata": {},
   "outputs": [],
   "source": [
    "import pandas as pd\n",
    "import numpy as np\n",
    "import matplotlib.pyplot as plt\n",
    "import seaborn as sns\n",
    "%matplotlib inline"
   ]
  },
  {
   "cell_type": "markdown",
   "metadata": {},
   "source": [
    "# Loading the dataset"
   ]
  },
  {
   "cell_type": "code",
   "execution_count": 2,
   "metadata": {},
   "outputs": [],
   "source": [
    "train= pd.read_csv('train.csv')\n",
    "test= pd.read_csv('test.csv')"
   ]
  },
  {
   "cell_type": "code",
   "execution_count": 3,
   "metadata": {},
   "outputs": [
    {
     "data": {
      "text/html": [
       "<div>\n",
       "<style scoped>\n",
       "    .dataframe tbody tr th:only-of-type {\n",
       "        vertical-align: middle;\n",
       "    }\n",
       "\n",
       "    .dataframe tbody tr th {\n",
       "        vertical-align: top;\n",
       "    }\n",
       "\n",
       "    .dataframe thead th {\n",
       "        text-align: right;\n",
       "    }\n",
       "</style>\n",
       "<table border=\"1\" class=\"dataframe\">\n",
       "  <thead>\n",
       "    <tr style=\"text-align: right;\">\n",
       "      <th></th>\n",
       "      <th>pet_id</th>\n",
       "      <th>issue_date</th>\n",
       "      <th>listing_date</th>\n",
       "      <th>condition</th>\n",
       "      <th>color_type</th>\n",
       "      <th>length(m)</th>\n",
       "      <th>height(cm)</th>\n",
       "      <th>X1</th>\n",
       "      <th>X2</th>\n",
       "      <th>breed_category</th>\n",
       "      <th>pet_category</th>\n",
       "    </tr>\n",
       "  </thead>\n",
       "  <tbody>\n",
       "    <tr>\n",
       "      <td>0</td>\n",
       "      <td>ANSL_69903</td>\n",
       "      <td>2016-07-10 00:00:00</td>\n",
       "      <td>2016-09-21 16:25:00</td>\n",
       "      <td>2.0</td>\n",
       "      <td>Brown Tabby</td>\n",
       "      <td>0.80</td>\n",
       "      <td>7.78</td>\n",
       "      <td>13</td>\n",
       "      <td>9</td>\n",
       "      <td>0.0</td>\n",
       "      <td>1</td>\n",
       "    </tr>\n",
       "    <tr>\n",
       "      <td>1</td>\n",
       "      <td>ANSL_66892</td>\n",
       "      <td>2013-11-21 00:00:00</td>\n",
       "      <td>2018-12-27 17:47:00</td>\n",
       "      <td>1.0</td>\n",
       "      <td>White</td>\n",
       "      <td>0.72</td>\n",
       "      <td>14.19</td>\n",
       "      <td>13</td>\n",
       "      <td>9</td>\n",
       "      <td>0.0</td>\n",
       "      <td>2</td>\n",
       "    </tr>\n",
       "    <tr>\n",
       "      <td>2</td>\n",
       "      <td>ANSL_69750</td>\n",
       "      <td>2014-09-28 00:00:00</td>\n",
       "      <td>2016-10-19 08:24:00</td>\n",
       "      <td>NaN</td>\n",
       "      <td>Brown</td>\n",
       "      <td>0.15</td>\n",
       "      <td>40.90</td>\n",
       "      <td>15</td>\n",
       "      <td>4</td>\n",
       "      <td>2.0</td>\n",
       "      <td>4</td>\n",
       "    </tr>\n",
       "    <tr>\n",
       "      <td>3</td>\n",
       "      <td>ANSL_71623</td>\n",
       "      <td>2016-12-31 00:00:00</td>\n",
       "      <td>2019-01-25 18:30:00</td>\n",
       "      <td>1.0</td>\n",
       "      <td>White</td>\n",
       "      <td>0.62</td>\n",
       "      <td>17.82</td>\n",
       "      <td>0</td>\n",
       "      <td>1</td>\n",
       "      <td>0.0</td>\n",
       "      <td>2</td>\n",
       "    </tr>\n",
       "    <tr>\n",
       "      <td>4</td>\n",
       "      <td>ANSL_57969</td>\n",
       "      <td>2017-09-28 00:00:00</td>\n",
       "      <td>2017-11-19 09:38:00</td>\n",
       "      <td>2.0</td>\n",
       "      <td>Black</td>\n",
       "      <td>0.50</td>\n",
       "      <td>11.06</td>\n",
       "      <td>18</td>\n",
       "      <td>4</td>\n",
       "      <td>0.0</td>\n",
       "      <td>1</td>\n",
       "    </tr>\n",
       "  </tbody>\n",
       "</table>\n",
       "</div>"
      ],
      "text/plain": [
       "       pet_id           issue_date         listing_date  condition  \\\n",
       "0  ANSL_69903  2016-07-10 00:00:00  2016-09-21 16:25:00        2.0   \n",
       "1  ANSL_66892  2013-11-21 00:00:00  2018-12-27 17:47:00        1.0   \n",
       "2  ANSL_69750  2014-09-28 00:00:00  2016-10-19 08:24:00        NaN   \n",
       "3  ANSL_71623  2016-12-31 00:00:00  2019-01-25 18:30:00        1.0   \n",
       "4  ANSL_57969  2017-09-28 00:00:00  2017-11-19 09:38:00        2.0   \n",
       "\n",
       "    color_type  length(m)  height(cm)  X1  X2  breed_category  pet_category  \n",
       "0  Brown Tabby       0.80        7.78  13   9             0.0             1  \n",
       "1        White       0.72       14.19  13   9             0.0             2  \n",
       "2        Brown       0.15       40.90  15   4             2.0             4  \n",
       "3        White       0.62       17.82   0   1             0.0             2  \n",
       "4        Black       0.50       11.06  18   4             0.0             1  "
      ]
     },
     "execution_count": 3,
     "metadata": {},
     "output_type": "execute_result"
    }
   ],
   "source": [
    "train.head()"
   ]
  },
  {
   "cell_type": "code",
   "execution_count": 4,
   "metadata": {},
   "outputs": [],
   "source": [
    "train['breed_category']=train['breed_category'].astype(int)"
   ]
  },
  {
   "cell_type": "code",
   "execution_count": 5,
   "metadata": {},
   "outputs": [
    {
     "data": {
      "text/plain": [
       "condition        -0.483503\n",
       "length(m)         0.007229\n",
       "height(cm)        0.011647\n",
       "X1                0.240729\n",
       "X2                0.052530\n",
       "breed_category    1.000000\n",
       "pet_category      0.209230\n",
       "Name: breed_category, dtype: float64"
      ]
     },
     "execution_count": 5,
     "metadata": {},
     "output_type": "execute_result"
    }
   ],
   "source": [
    "train.corr()['breed_category']"
   ]
  },
  {
   "cell_type": "code",
   "execution_count": 6,
   "metadata": {},
   "outputs": [
    {
     "data": {
      "text/plain": [
       "pet_id               0\n",
       "issue_date           0\n",
       "listing_date         0\n",
       "condition         1477\n",
       "color_type           0\n",
       "length(m)            0\n",
       "height(cm)           0\n",
       "X1                   0\n",
       "X2                   0\n",
       "breed_category       0\n",
       "pet_category         0\n",
       "dtype: int64"
      ]
     },
     "execution_count": 6,
     "metadata": {},
     "output_type": "execute_result"
    }
   ],
   "source": [
    "train.isna().sum()"
   ]
  },
  {
   "cell_type": "code",
   "execution_count": 7,
   "metadata": {},
   "outputs": [
    {
     "name": "stdout",
     "output_type": "stream",
     "text": [
      "<class 'pandas.core.frame.DataFrame'>\n",
      "RangeIndex: 18834 entries, 0 to 18833\n",
      "Data columns (total 11 columns):\n",
      "pet_id            18834 non-null object\n",
      "issue_date        18834 non-null object\n",
      "listing_date      18834 non-null object\n",
      "condition         17357 non-null float64\n",
      "color_type        18834 non-null object\n",
      "length(m)         18834 non-null float64\n",
      "height(cm)        18834 non-null float64\n",
      "X1                18834 non-null int64\n",
      "X2                18834 non-null int64\n",
      "breed_category    18834 non-null int32\n",
      "pet_category      18834 non-null int64\n",
      "dtypes: float64(3), int32(1), int64(3), object(4)\n",
      "memory usage: 1.5+ MB\n"
     ]
    }
   ],
   "source": [
    "train.info()"
   ]
  },
  {
   "cell_type": "code",
   "execution_count": 8,
   "metadata": {},
   "outputs": [],
   "source": [
    "data= pd.concat([train,test],sort=False)"
   ]
  },
  {
   "cell_type": "code",
   "execution_count": 9,
   "metadata": {},
   "outputs": [
    {
     "data": {
      "text/html": [
       "<div>\n",
       "<style scoped>\n",
       "    .dataframe tbody tr th:only-of-type {\n",
       "        vertical-align: middle;\n",
       "    }\n",
       "\n",
       "    .dataframe tbody tr th {\n",
       "        vertical-align: top;\n",
       "    }\n",
       "\n",
       "    .dataframe thead th {\n",
       "        text-align: right;\n",
       "    }\n",
       "</style>\n",
       "<table border=\"1\" class=\"dataframe\">\n",
       "  <thead>\n",
       "    <tr style=\"text-align: right;\">\n",
       "      <th></th>\n",
       "      <th>pet_id</th>\n",
       "      <th>issue_date</th>\n",
       "      <th>listing_date</th>\n",
       "      <th>condition</th>\n",
       "      <th>color_type</th>\n",
       "      <th>length(m)</th>\n",
       "      <th>height(cm)</th>\n",
       "      <th>X1</th>\n",
       "      <th>X2</th>\n",
       "      <th>breed_category</th>\n",
       "      <th>pet_category</th>\n",
       "    </tr>\n",
       "  </thead>\n",
       "  <tbody>\n",
       "    <tr>\n",
       "      <td>8067</td>\n",
       "      <td>ANSL_66809</td>\n",
       "      <td>2016-02-10 00:00:00</td>\n",
       "      <td>2017-03-10 14:56:00</td>\n",
       "      <td>2.0</td>\n",
       "      <td>Brown</td>\n",
       "      <td>0.82</td>\n",
       "      <td>36.08</td>\n",
       "      <td>13</td>\n",
       "      <td>9</td>\n",
       "      <td>NaN</td>\n",
       "      <td>NaN</td>\n",
       "    </tr>\n",
       "    <tr>\n",
       "      <td>8068</td>\n",
       "      <td>ANSL_59041</td>\n",
       "      <td>2015-12-07 00:00:00</td>\n",
       "      <td>2018-02-12 00:00:00</td>\n",
       "      <td>0.0</td>\n",
       "      <td>Tan</td>\n",
       "      <td>0.49</td>\n",
       "      <td>27.54</td>\n",
       "      <td>13</td>\n",
       "      <td>9</td>\n",
       "      <td>NaN</td>\n",
       "      <td>NaN</td>\n",
       "    </tr>\n",
       "    <tr>\n",
       "      <td>8069</td>\n",
       "      <td>ANSL_60034</td>\n",
       "      <td>2015-12-08 00:00:00</td>\n",
       "      <td>2017-01-04 17:19:00</td>\n",
       "      <td>0.0</td>\n",
       "      <td>Black</td>\n",
       "      <td>0.98</td>\n",
       "      <td>37.19</td>\n",
       "      <td>0</td>\n",
       "      <td>7</td>\n",
       "      <td>NaN</td>\n",
       "      <td>NaN</td>\n",
       "    </tr>\n",
       "    <tr>\n",
       "      <td>8070</td>\n",
       "      <td>ANSL_58066</td>\n",
       "      <td>2016-06-28 00:00:00</td>\n",
       "      <td>2017-07-20 18:19:00</td>\n",
       "      <td>NaN</td>\n",
       "      <td>Black</td>\n",
       "      <td>0.79</td>\n",
       "      <td>23.83</td>\n",
       "      <td>0</td>\n",
       "      <td>2</td>\n",
       "      <td>NaN</td>\n",
       "      <td>NaN</td>\n",
       "    </tr>\n",
       "    <tr>\n",
       "      <td>8071</td>\n",
       "      <td>ANSL_69436</td>\n",
       "      <td>2016-02-02 00:00:00</td>\n",
       "      <td>2017-02-28 16:47:00</td>\n",
       "      <td>0.0</td>\n",
       "      <td>Black</td>\n",
       "      <td>0.64</td>\n",
       "      <td>24.51</td>\n",
       "      <td>0</td>\n",
       "      <td>1</td>\n",
       "      <td>NaN</td>\n",
       "      <td>NaN</td>\n",
       "    </tr>\n",
       "  </tbody>\n",
       "</table>\n",
       "</div>"
      ],
      "text/plain": [
       "          pet_id           issue_date         listing_date  condition  \\\n",
       "8067  ANSL_66809  2016-02-10 00:00:00  2017-03-10 14:56:00        2.0   \n",
       "8068  ANSL_59041  2015-12-07 00:00:00  2018-02-12 00:00:00        0.0   \n",
       "8069  ANSL_60034  2015-12-08 00:00:00  2017-01-04 17:19:00        0.0   \n",
       "8070  ANSL_58066  2016-06-28 00:00:00  2017-07-20 18:19:00        NaN   \n",
       "8071  ANSL_69436  2016-02-02 00:00:00  2017-02-28 16:47:00        0.0   \n",
       "\n",
       "     color_type  length(m)  height(cm)  X1  X2  breed_category  pet_category  \n",
       "8067      Brown       0.82       36.08  13   9             NaN           NaN  \n",
       "8068        Tan       0.49       27.54  13   9             NaN           NaN  \n",
       "8069      Black       0.98       37.19   0   7             NaN           NaN  \n",
       "8070      Black       0.79       23.83   0   2             NaN           NaN  \n",
       "8071      Black       0.64       24.51   0   1             NaN           NaN  "
      ]
     },
     "execution_count": 9,
     "metadata": {},
     "output_type": "execute_result"
    }
   ],
   "source": [
    "data.tail()"
   ]
  },
  {
   "cell_type": "code",
   "execution_count": 10,
   "metadata": {},
   "outputs": [
    {
     "name": "stdout",
     "output_type": "stream",
     "text": [
      "<class 'pandas.core.frame.DataFrame'>\n",
      "Int64Index: 26906 entries, 0 to 8071\n",
      "Data columns (total 11 columns):\n",
      "pet_id            26906 non-null object\n",
      "issue_date        26906 non-null object\n",
      "listing_date      26906 non-null object\n",
      "condition         24810 non-null float64\n",
      "color_type        26906 non-null object\n",
      "length(m)         26906 non-null float64\n",
      "height(cm)        26906 non-null float64\n",
      "X1                26906 non-null int64\n",
      "X2                26906 non-null int64\n",
      "breed_category    18834 non-null float64\n",
      "pet_category      18834 non-null float64\n",
      "dtypes: float64(5), int64(2), object(4)\n",
      "memory usage: 2.5+ MB\n"
     ]
    }
   ],
   "source": [
    "data.info()"
   ]
  },
  {
   "cell_type": "markdown",
   "metadata": {},
   "source": [
    "# Value counts for the different variables"
   ]
  },
  {
   "cell_type": "code",
   "execution_count": 11,
   "metadata": {},
   "outputs": [
    {
     "data": {
      "text/plain": [
       "Black                6575\n",
       "White                3486\n",
       "Brown                2592\n",
       "Brown Tabby          2399\n",
       "Tan                  1934\n",
       "Blue                 1235\n",
       "Orange Tabby         1123\n",
       "Red                   742\n",
       "Brown Brindle         718\n",
       "Tricolor              664\n",
       "Blue Tabby            557\n",
       "Tortie                512\n",
       "Calico                495\n",
       "Gray                  436\n",
       "Chocolate             392\n",
       "Torbie                341\n",
       "Cream Tabby           260\n",
       "Cream                 240\n",
       "Sable                 232\n",
       "Fawn                  215\n",
       "Yellow                208\n",
       "Buff                  183\n",
       "Lynx Point            173\n",
       "Blue Merle            134\n",
       "Seal Point            115\n",
       "Gray Tabby             96\n",
       "Black Brindle          92\n",
       "Black Tabby            86\n",
       "Flame Point            74\n",
       "Brown Merle            61\n",
       "Orange                 56\n",
       "Black Smoke            42\n",
       "Blue Tick              41\n",
       "Gold                   40\n",
       "Tortie Point           34\n",
       "Red Tick               34\n",
       "Silver                 34\n",
       "Silver Tabby           26\n",
       "Red Merle              25\n",
       "Blue Point             23\n",
       "Yellow Brindle         23\n",
       "Lilac Point            22\n",
       "Calico Point           17\n",
       "Chocolate Point        17\n",
       "Apricot                16\n",
       "Blue Cream             15\n",
       "Green                  13\n",
       "Blue Smoke             12\n",
       "Pink                   11\n",
       "Blue Tiger             11\n",
       "Silver Lynx Point       7\n",
       "Agouti                  6\n",
       "Brown Tiger             4\n",
       "Liver                   4\n",
       "Liver Tick              2\n",
       "Black Tiger             1\n",
       "Name: color_type, dtype: int64"
      ]
     },
     "execution_count": 11,
     "metadata": {},
     "output_type": "execute_result"
    }
   ],
   "source": [
    "data['color_type'].value_counts()"
   ]
  },
  {
   "cell_type": "code",
   "execution_count": 12,
   "metadata": {},
   "outputs": [
    {
     "data": {
      "text/plain": [
       "0.0    9000\n",
       "1.0    8357\n",
       "2.0    1477\n",
       "Name: breed_category, dtype: int64"
      ]
     },
     "execution_count": 12,
     "metadata": {},
     "output_type": "execute_result"
    }
   ],
   "source": [
    "data['breed_category'].value_counts()"
   ]
  },
  {
   "cell_type": "code",
   "execution_count": 13,
   "metadata": {
    "scrolled": true
   },
   "outputs": [
    {
     "data": {
      "text/plain": [
       "2.0    10621\n",
       "1.0     7184\n",
       "4.0      941\n",
       "0.0       88\n",
       "Name: pet_category, dtype: int64"
      ]
     },
     "execution_count": 13,
     "metadata": {},
     "output_type": "execute_result"
    }
   ],
   "source": [
    "data['pet_category'].value_counts()"
   ]
  },
  {
   "cell_type": "code",
   "execution_count": 14,
   "metadata": {},
   "outputs": [
    {
     "data": {
      "text/plain": [
       "1.0    9747\n",
       "0.0    8966\n",
       "2.0    6097\n",
       "Name: condition, dtype: int64"
      ]
     },
     "execution_count": 14,
     "metadata": {},
     "output_type": "execute_result"
    }
   ],
   "source": [
    "data['condition'].value_counts()"
   ]
  },
  {
   "cell_type": "code",
   "execution_count": 15,
   "metadata": {},
   "outputs": [
    {
     "data": {
      "text/plain": [
       "0     15397\n",
       "13     6088\n",
       "7      2111\n",
       "16      858\n",
       "15      775\n",
       "18      754\n",
       "17      367\n",
       "9       144\n",
       "12      103\n",
       "11       83\n",
       "1        83\n",
       "8        65\n",
       "2        32\n",
       "6        15\n",
       "4        10\n",
       "10        9\n",
       "5         5\n",
       "14        3\n",
       "19        3\n",
       "3         1\n",
       "Name: X1, dtype: int64"
      ]
     },
     "execution_count": 15,
     "metadata": {},
     "output_type": "execute_result"
    }
   ],
   "source": [
    "data['X1'].value_counts()"
   ]
  },
  {
   "cell_type": "code",
   "execution_count": 16,
   "metadata": {},
   "outputs": [
    {
     "data": {
      "text/plain": [
       "1    12232\n",
       "9     7314\n",
       "7     5120\n",
       "4     1771\n",
       "2      257\n",
       "3      101\n",
       "8       82\n",
       "5       17\n",
       "6        6\n",
       "0        6\n",
       "Name: X2, dtype: int64"
      ]
     },
     "execution_count": 16,
     "metadata": {},
     "output_type": "execute_result"
    }
   ],
   "source": [
    "data['X2'].value_counts()"
   ]
  },
  {
   "cell_type": "markdown",
   "metadata": {},
   "source": [
    "#### Converting height(cm) into height(m)"
   ]
  },
  {
   "cell_type": "code",
   "execution_count": 17,
   "metadata": {},
   "outputs": [],
   "source": [
    "data['height(m)']=data['height(cm)'].apply(lambda x: x/100)\n",
    "data.drop(columns=['height(cm)'],inplace=True)"
   ]
  },
  {
   "cell_type": "code",
   "execution_count": 18,
   "metadata": {},
   "outputs": [
    {
     "data": {
      "text/plain": [
       "condition         1.000000\n",
       "length(m)        -0.006294\n",
       "X1                0.338600\n",
       "X2                0.383901\n",
       "breed_category   -0.483503\n",
       "pet_category     -0.041660\n",
       "height(m)        -0.008879\n",
       "Name: condition, dtype: float64"
      ]
     },
     "execution_count": 18,
     "metadata": {},
     "output_type": "execute_result"
    }
   ],
   "source": [
    "data.corr()['condition']"
   ]
  },
  {
   "cell_type": "markdown",
   "metadata": {},
   "source": [
    "## Feature Engineering"
   ]
  },
  {
   "cell_type": "code",
   "execution_count": 19,
   "metadata": {},
   "outputs": [],
   "source": [
    "data['1stnum'] = data['pet_id'].str[:6]\n",
    "data['1st2num'] = data['pet_id'].str[:7]"
   ]
  },
  {
   "cell_type": "code",
   "execution_count": 20,
   "metadata": {},
   "outputs": [],
   "source": [
    "import datetime as dt"
   ]
  },
  {
   "cell_type": "code",
   "execution_count": 21,
   "metadata": {},
   "outputs": [],
   "source": [
    "data['ISSUE_DATE']= data['issue_date'].apply(lambda x: dt.datetime.strptime(x,'%Y-%m-%d %H:%M:%S'))\n",
    "data['LISTING_DATE']= data['listing_date'].apply(lambda x: dt.datetime.strptime(x,'%Y-%m-%d %H:%M:%S'))"
   ]
  },
  {
   "cell_type": "code",
   "execution_count": 22,
   "metadata": {},
   "outputs": [],
   "source": [
    "def fxy(x,y):\n",
    "    return ((y-x).days)\n",
    "data['duration']= data.apply(lambda x: fxy(x['ISSUE_DATE'],x['LISTING_DATE']), axis=1)\n",
    "data['listing_month']=data['LISTING_DATE'].apply(lambda x: x.month)\n",
    "data['issue_month']=data['LISTING_DATE'].apply(lambda x: x.month)"
   ]
  },
  {
   "cell_type": "code",
   "execution_count": 23,
   "metadata": {},
   "outputs": [],
   "source": [
    "def len_by_height(x,y):\n",
    "    return (x/y)\n",
    "data['ratio']=data.apply(lambda x: len_by_height(x['length(m)'],x['height(m)']),axis=1)"
   ]
  },
  {
   "cell_type": "code",
   "execution_count": 24,
   "metadata": {},
   "outputs": [
    {
     "data": {
      "text/plain": [
       "<matplotlib.axes._subplots.AxesSubplot at 0x229bcd3f188>"
      ]
     },
     "execution_count": 24,
     "metadata": {},
     "output_type": "execute_result"
    },
    {
     "data": {
      "image/png": "[encoded data removed]",
      "text/plain": [
       "<Figure size 432x288 with 1 Axes>"
      ]
     },
     "metadata": {
      "needs_background": "light"
     },
     "output_type": "display_data"
    }
   ],
   "source": [
    "sns.boxplot(x='pet_category',y='length(m)',data=data)"
   ]
  },
  {
   "cell_type": "code",
   "execution_count": 25,
   "metadata": {},
   "outputs": [
    {
     "data": {
      "text/plain": [
       "<matplotlib.axes._subplots.AxesSubplot at 0x229bd433a08>"
      ]
     },
     "execution_count": 25,
     "metadata": {},
     "output_type": "execute_result"
    },
    {
     "data": {
      "image/png": "[encoded data removed]",
      "text/plain": [
       "<Figure size 432x288 with 1 Axes>"
      ]
     },
     "metadata": {
      "needs_background": "light"
     },
     "output_type": "display_data"
    }
   ],
   "source": [
    "sns.boxplot(x='pet_category',y='height(m)',data=data)"
   ]
  },
  {
   "cell_type": "code",
   "execution_count": 26,
   "metadata": {},
   "outputs": [
    {
     "data": {
      "text/html": [
       "<div>\n",
       "<style scoped>\n",
       "    .dataframe tbody tr th:only-of-type {\n",
       "        vertical-align: middle;\n",
       "    }\n",
       "\n",
       "    .dataframe tbody tr th {\n",
       "        vertical-align: top;\n",
       "    }\n",
       "\n",
       "    .dataframe thead th {\n",
       "        text-align: right;\n",
       "    }\n",
       "</style>\n",
       "<table border=\"1\" class=\"dataframe\">\n",
       "  <thead>\n",
       "    <tr style=\"text-align: right;\">\n",
       "      <th></th>\n",
       "      <th>pet_id</th>\n",
       "      <th>issue_date</th>\n",
       "      <th>listing_date</th>\n",
       "      <th>condition</th>\n",
       "      <th>color_type</th>\n",
       "      <th>length(m)</th>\n",
       "      <th>X1</th>\n",
       "      <th>X2</th>\n",
       "      <th>breed_category</th>\n",
       "      <th>pet_category</th>\n",
       "      <th>height(m)</th>\n",
       "      <th>1stnum</th>\n",
       "      <th>1st2num</th>\n",
       "      <th>ISSUE_DATE</th>\n",
       "      <th>LISTING_DATE</th>\n",
       "      <th>duration</th>\n",
       "      <th>listing_month</th>\n",
       "      <th>issue_month</th>\n",
       "      <th>ratio</th>\n",
       "    </tr>\n",
       "  </thead>\n",
       "  <tbody>\n",
       "    <tr>\n",
       "      <td>83</td>\n",
       "      <td>ANSL_73664</td>\n",
       "      <td>2017-10-04 00:00:00</td>\n",
       "      <td>2018-12-02 08:09:00</td>\n",
       "      <td>1.0</td>\n",
       "      <td>Black</td>\n",
       "      <td>0.0</td>\n",
       "      <td>7</td>\n",
       "      <td>1</td>\n",
       "      <td>0.0</td>\n",
       "      <td>2.0</td>\n",
       "      <td>0.3298</td>\n",
       "      <td>ANSL_7</td>\n",
       "      <td>ANSL_73</td>\n",
       "      <td>2017-10-04</td>\n",
       "      <td>2018-12-02 08:09:00</td>\n",
       "      <td>424</td>\n",
       "      <td>12</td>\n",
       "      <td>12</td>\n",
       "      <td>0.0</td>\n",
       "    </tr>\n",
       "    <tr>\n",
       "      <td>91</td>\n",
       "      <td>ANSL_72100</td>\n",
       "      <td>2017-06-09 00:00:00</td>\n",
       "      <td>2018-07-03 14:53:00</td>\n",
       "      <td>0.0</td>\n",
       "      <td>Tan</td>\n",
       "      <td>0.0</td>\n",
       "      <td>0</td>\n",
       "      <td>7</td>\n",
       "      <td>1.0</td>\n",
       "      <td>2.0</td>\n",
       "      <td>0.2220</td>\n",
       "      <td>ANSL_7</td>\n",
       "      <td>ANSL_72</td>\n",
       "      <td>2017-06-09</td>\n",
       "      <td>2018-07-03 14:53:00</td>\n",
       "      <td>389</td>\n",
       "      <td>7</td>\n",
       "      <td>7</td>\n",
       "      <td>0.0</td>\n",
       "    </tr>\n",
       "    <tr>\n",
       "      <td>174</td>\n",
       "      <td>ANSL_55528</td>\n",
       "      <td>2016-07-07 00:00:00</td>\n",
       "      <td>2017-09-28 14:19:00</td>\n",
       "      <td>0.0</td>\n",
       "      <td>Black</td>\n",
       "      <td>0.0</td>\n",
       "      <td>0</td>\n",
       "      <td>1</td>\n",
       "      <td>1.0</td>\n",
       "      <td>2.0</td>\n",
       "      <td>0.1710</td>\n",
       "      <td>ANSL_5</td>\n",
       "      <td>ANSL_55</td>\n",
       "      <td>2016-07-07</td>\n",
       "      <td>2017-09-28 14:19:00</td>\n",
       "      <td>448</td>\n",
       "      <td>9</td>\n",
       "      <td>9</td>\n",
       "      <td>0.0</td>\n",
       "    </tr>\n",
       "    <tr>\n",
       "      <td>220</td>\n",
       "      <td>ANSL_59822</td>\n",
       "      <td>2018-05-11 00:00:00</td>\n",
       "      <td>2018-09-22 17:22:00</td>\n",
       "      <td>0.0</td>\n",
       "      <td>Brown</td>\n",
       "      <td>0.0</td>\n",
       "      <td>0</td>\n",
       "      <td>1</td>\n",
       "      <td>1.0</td>\n",
       "      <td>2.0</td>\n",
       "      <td>0.2055</td>\n",
       "      <td>ANSL_5</td>\n",
       "      <td>ANSL_59</td>\n",
       "      <td>2018-05-11</td>\n",
       "      <td>2018-09-22 17:22:00</td>\n",
       "      <td>134</td>\n",
       "      <td>9</td>\n",
       "      <td>9</td>\n",
       "      <td>0.0</td>\n",
       "    </tr>\n",
       "    <tr>\n",
       "      <td>404</td>\n",
       "      <td>ANSL_58956</td>\n",
       "      <td>2018-07-14 00:00:00</td>\n",
       "      <td>2018-10-11 17:12:00</td>\n",
       "      <td>1.0</td>\n",
       "      <td>Lynx Point</td>\n",
       "      <td>0.0</td>\n",
       "      <td>7</td>\n",
       "      <td>1</td>\n",
       "      <td>0.0</td>\n",
       "      <td>1.0</td>\n",
       "      <td>0.3949</td>\n",
       "      <td>ANSL_5</td>\n",
       "      <td>ANSL_58</td>\n",
       "      <td>2018-07-14</td>\n",
       "      <td>2018-10-11 17:12:00</td>\n",
       "      <td>89</td>\n",
       "      <td>10</td>\n",
       "      <td>10</td>\n",
       "      <td>0.0</td>\n",
       "    </tr>\n",
       "    <tr>\n",
       "      <td>...</td>\n",
       "      <td>...</td>\n",
       "      <td>...</td>\n",
       "      <td>...</td>\n",
       "      <td>...</td>\n",
       "      <td>...</td>\n",
       "      <td>...</td>\n",
       "      <td>...</td>\n",
       "      <td>...</td>\n",
       "      <td>...</td>\n",
       "      <td>...</td>\n",
       "      <td>...</td>\n",
       "      <td>...</td>\n",
       "      <td>...</td>\n",
       "      <td>...</td>\n",
       "      <td>...</td>\n",
       "      <td>...</td>\n",
       "      <td>...</td>\n",
       "      <td>...</td>\n",
       "      <td>...</td>\n",
       "    </tr>\n",
       "    <tr>\n",
       "      <td>6995</td>\n",
       "      <td>ANSL_74552</td>\n",
       "      <td>2013-09-26 00:00:00</td>\n",
       "      <td>2018-10-16 15:08:00</td>\n",
       "      <td>NaN</td>\n",
       "      <td>Gray</td>\n",
       "      <td>0.0</td>\n",
       "      <td>11</td>\n",
       "      <td>4</td>\n",
       "      <td>NaN</td>\n",
       "      <td>NaN</td>\n",
       "      <td>0.1481</td>\n",
       "      <td>ANSL_7</td>\n",
       "      <td>ANSL_74</td>\n",
       "      <td>2013-09-26</td>\n",
       "      <td>2018-10-16 15:08:00</td>\n",
       "      <td>1846</td>\n",
       "      <td>10</td>\n",
       "      <td>10</td>\n",
       "      <td>0.0</td>\n",
       "    </tr>\n",
       "    <tr>\n",
       "      <td>7102</td>\n",
       "      <td>ANSL_76094</td>\n",
       "      <td>2018-01-25 00:00:00</td>\n",
       "      <td>2019-04-24 19:13:00</td>\n",
       "      <td>0.0</td>\n",
       "      <td>White</td>\n",
       "      <td>0.0</td>\n",
       "      <td>0</td>\n",
       "      <td>1</td>\n",
       "      <td>NaN</td>\n",
       "      <td>NaN</td>\n",
       "      <td>0.0649</td>\n",
       "      <td>ANSL_7</td>\n",
       "      <td>ANSL_76</td>\n",
       "      <td>2018-01-25</td>\n",
       "      <td>2019-04-24 19:13:00</td>\n",
       "      <td>454</td>\n",
       "      <td>4</td>\n",
       "      <td>4</td>\n",
       "      <td>0.0</td>\n",
       "    </tr>\n",
       "    <tr>\n",
       "      <td>7153</td>\n",
       "      <td>ANSL_67961</td>\n",
       "      <td>2017-01-03 00:00:00</td>\n",
       "      <td>2017-10-07 16:07:00</td>\n",
       "      <td>2.0</td>\n",
       "      <td>Black</td>\n",
       "      <td>0.0</td>\n",
       "      <td>0</td>\n",
       "      <td>7</td>\n",
       "      <td>NaN</td>\n",
       "      <td>NaN</td>\n",
       "      <td>0.1673</td>\n",
       "      <td>ANSL_6</td>\n",
       "      <td>ANSL_67</td>\n",
       "      <td>2017-01-03</td>\n",
       "      <td>2017-10-07 16:07:00</td>\n",
       "      <td>277</td>\n",
       "      <td>10</td>\n",
       "      <td>10</td>\n",
       "      <td>0.0</td>\n",
       "    </tr>\n",
       "    <tr>\n",
       "      <td>7342</td>\n",
       "      <td>ANSL_72540</td>\n",
       "      <td>2005-12-29 00:00:00</td>\n",
       "      <td>2019-02-23 12:18:00</td>\n",
       "      <td>0.0</td>\n",
       "      <td>White</td>\n",
       "      <td>0.0</td>\n",
       "      <td>0</td>\n",
       "      <td>7</td>\n",
       "      <td>NaN</td>\n",
       "      <td>NaN</td>\n",
       "      <td>0.4006</td>\n",
       "      <td>ANSL_7</td>\n",
       "      <td>ANSL_72</td>\n",
       "      <td>2005-12-29</td>\n",
       "      <td>2019-02-23 12:18:00</td>\n",
       "      <td>4804</td>\n",
       "      <td>2</td>\n",
       "      <td>2</td>\n",
       "      <td>0.0</td>\n",
       "    </tr>\n",
       "    <tr>\n",
       "      <td>7858</td>\n",
       "      <td>ANSL_75284</td>\n",
       "      <td>2017-03-14 00:00:00</td>\n",
       "      <td>2019-04-05 18:46:00</td>\n",
       "      <td>1.0</td>\n",
       "      <td>Brown</td>\n",
       "      <td>0.0</td>\n",
       "      <td>0</td>\n",
       "      <td>1</td>\n",
       "      <td>NaN</td>\n",
       "      <td>NaN</td>\n",
       "      <td>0.1870</td>\n",
       "      <td>ANSL_7</td>\n",
       "      <td>ANSL_75</td>\n",
       "      <td>2017-03-14</td>\n",
       "      <td>2019-04-05 18:46:00</td>\n",
       "      <td>752</td>\n",
       "      <td>4</td>\n",
       "      <td>4</td>\n",
       "      <td>0.0</td>\n",
       "    </tr>\n",
       "  </tbody>\n",
       "</table>\n",
       "<p>137 rows × 19 columns</p>\n",
       "</div>"
      ],
      "text/plain": [
       "          pet_id           issue_date         listing_date  condition  \\\n",
       "83    ANSL_73664  2017-10-04 00:00:00  2018-12-02 08:09:00        1.0   \n",
       "91    ANSL_72100  2017-06-09 00:00:00  2018-07-03 14:53:00        0.0   \n",
       "174   ANSL_55528  2016-07-07 00:00:00  2017-09-28 14:19:00        0.0   \n",
       "220   ANSL_59822  2018-05-11 00:00:00  2018-09-22 17:22:00        0.0   \n",
       "404   ANSL_58956  2018-07-14 00:00:00  2018-10-11 17:12:00        1.0   \n",
       "...          ...                  ...                  ...        ...   \n",
       "6995  ANSL_74552  2013-09-26 00:00:00  2018-10-16 15:08:00        NaN   \n",
       "7102  ANSL_76094  2018-01-25 00:00:00  2019-04-24 19:13:00        0.0   \n",
       "7153  ANSL_67961  2017-01-03 00:00:00  2017-10-07 16:07:00        2.0   \n",
       "7342  ANSL_72540  2005-12-29 00:00:00  2019-02-23 12:18:00        0.0   \n",
       "7858  ANSL_75284  2017-03-14 00:00:00  2019-04-05 18:46:00        1.0   \n",
       "\n",
       "      color_type  length(m)  X1  X2  breed_category  pet_category  height(m)  \\\n",
       "83         Black        0.0   7   1             0.0           2.0     0.3298   \n",
       "91           Tan        0.0   0   7             1.0           2.0     0.2220   \n",
       "174        Black        0.0   0   1             1.0           2.0     0.1710   \n",
       "220        Brown        0.0   0   1             1.0           2.0     0.2055   \n",
       "404   Lynx Point        0.0   7   1             0.0           1.0     0.3949   \n",
       "...          ...        ...  ..  ..             ...           ...        ...   \n",
       "6995        Gray        0.0  11   4             NaN           NaN     0.1481   \n",
       "7102       White        0.0   0   1             NaN           NaN     0.0649   \n",
       "7153       Black        0.0   0   7             NaN           NaN     0.1673   \n",
       "7342       White        0.0   0   7             NaN           NaN     0.4006   \n",
       "7858       Brown        0.0   0   1             NaN           NaN     0.1870   \n",
       "\n",
       "      1stnum  1st2num ISSUE_DATE        LISTING_DATE  duration  listing_month  \\\n",
       "83    ANSL_7  ANSL_73 2017-10-04 2018-12-02 08:09:00       424             12   \n",
       "91    ANSL_7  ANSL_72 2017-06-09 2018-07-03 14:53:00       389              7   \n",
       "174   ANSL_5  ANSL_55 2016-07-07 2017-09-28 14:19:00       448              9   \n",
       "220   ANSL_5  ANSL_59 2018-05-11 2018-09-22 17:22:00       134              9   \n",
       "404   ANSL_5  ANSL_58 2018-07-14 2018-10-11 17:12:00        89             10   \n",
       "...      ...      ...        ...                 ...       ...            ...   \n",
       "6995  ANSL_7  ANSL_74 2013-09-26 2018-10-16 15:08:00      1846             10   \n",
       "7102  ANSL_7  ANSL_76 2018-01-25 2019-04-24 19:13:00       454              4   \n",
       "7153  ANSL_6  ANSL_67 2017-01-03 2017-10-07 16:07:00       277             10   \n",
       "7342  ANSL_7  ANSL_72 2005-12-29 2019-02-23 12:18:00      4804              2   \n",
       "7858  ANSL_7  ANSL_75 2017-03-14 2019-04-05 18:46:00       752              4   \n",
       "\n",
       "      issue_month  ratio  \n",
       "83             12    0.0  \n",
       "91              7    0.0  \n",
       "174             9    0.0  \n",
       "220             9    0.0  \n",
       "404            10    0.0  \n",
       "...           ...    ...  \n",
       "6995           10    0.0  \n",
       "7102            4    0.0  \n",
       "7153           10    0.0  \n",
       "7342            2    0.0  \n",
       "7858            4    0.0  \n",
       "\n",
       "[137 rows x 19 columns]"
      ]
     },
     "execution_count": 26,
     "metadata": {},
     "output_type": "execute_result"
    }
   ],
   "source": [
    "data[data['length(m)']==0]"
   ]
  },
  {
   "cell_type": "code",
   "execution_count": 27,
   "metadata": {},
   "outputs": [],
   "source": [
    "data['length(m)'].replace(0,data['length(m)'].mean(),inplace=True)"
   ]
  },
  {
   "cell_type": "code",
   "execution_count": 28,
   "metadata": {},
   "outputs": [],
   "source": [
    "def X1mulX2(x,y):\n",
    "    return x*(y)\n",
    "data['X1mulX2']=data.apply(lambda x: X1mulX2(x['X1'],x['X2']),axis=1)"
   ]
  },
  {
   "cell_type": "code",
   "execution_count": 29,
   "metadata": {},
   "outputs": [
    {
     "data": {
      "text/html": [
       "<div>\n",
       "<style scoped>\n",
       "    .dataframe tbody tr th:only-of-type {\n",
       "        vertical-align: middle;\n",
       "    }\n",
       "\n",
       "    .dataframe tbody tr th {\n",
       "        vertical-align: top;\n",
       "    }\n",
       "\n",
       "    .dataframe thead th {\n",
       "        text-align: right;\n",
       "    }\n",
       "</style>\n",
       "<table border=\"1\" class=\"dataframe\">\n",
       "  <thead>\n",
       "    <tr style=\"text-align: right;\">\n",
       "      <th></th>\n",
       "      <th>pet_id</th>\n",
       "      <th>issue_date</th>\n",
       "      <th>listing_date</th>\n",
       "      <th>condition</th>\n",
       "      <th>color_type</th>\n",
       "      <th>length(m)</th>\n",
       "      <th>X1</th>\n",
       "      <th>X2</th>\n",
       "      <th>breed_category</th>\n",
       "      <th>pet_category</th>\n",
       "      <th>height(m)</th>\n",
       "      <th>1stnum</th>\n",
       "      <th>1st2num</th>\n",
       "      <th>ISSUE_DATE</th>\n",
       "      <th>LISTING_DATE</th>\n",
       "      <th>duration</th>\n",
       "      <th>listing_month</th>\n",
       "      <th>issue_month</th>\n",
       "      <th>ratio</th>\n",
       "      <th>X1mulX2</th>\n",
       "    </tr>\n",
       "  </thead>\n",
       "  <tbody>\n",
       "    <tr>\n",
       "      <td>0</td>\n",
       "      <td>ANSL_69903</td>\n",
       "      <td>2016-07-10 00:00:00</td>\n",
       "      <td>2016-09-21 16:25:00</td>\n",
       "      <td>2.0</td>\n",
       "      <td>Brown Tabby</td>\n",
       "      <td>0.80</td>\n",
       "      <td>13</td>\n",
       "      <td>9</td>\n",
       "      <td>0.0</td>\n",
       "      <td>1.0</td>\n",
       "      <td>0.0778</td>\n",
       "      <td>ANSL_6</td>\n",
       "      <td>ANSL_69</td>\n",
       "      <td>2016-07-10</td>\n",
       "      <td>2016-09-21 16:25:00</td>\n",
       "      <td>73</td>\n",
       "      <td>9</td>\n",
       "      <td>9</td>\n",
       "      <td>10.282776</td>\n",
       "      <td>117</td>\n",
       "    </tr>\n",
       "    <tr>\n",
       "      <td>1</td>\n",
       "      <td>ANSL_66892</td>\n",
       "      <td>2013-11-21 00:00:00</td>\n",
       "      <td>2018-12-27 17:47:00</td>\n",
       "      <td>1.0</td>\n",
       "      <td>White</td>\n",
       "      <td>0.72</td>\n",
       "      <td>13</td>\n",
       "      <td>9</td>\n",
       "      <td>0.0</td>\n",
       "      <td>2.0</td>\n",
       "      <td>0.1419</td>\n",
       "      <td>ANSL_6</td>\n",
       "      <td>ANSL_66</td>\n",
       "      <td>2013-11-21</td>\n",
       "      <td>2018-12-27 17:47:00</td>\n",
       "      <td>1862</td>\n",
       "      <td>12</td>\n",
       "      <td>12</td>\n",
       "      <td>5.073996</td>\n",
       "      <td>117</td>\n",
       "    </tr>\n",
       "    <tr>\n",
       "      <td>2</td>\n",
       "      <td>ANSL_69750</td>\n",
       "      <td>2014-09-28 00:00:00</td>\n",
       "      <td>2016-10-19 08:24:00</td>\n",
       "      <td>NaN</td>\n",
       "      <td>Brown</td>\n",
       "      <td>0.15</td>\n",
       "      <td>15</td>\n",
       "      <td>4</td>\n",
       "      <td>2.0</td>\n",
       "      <td>4.0</td>\n",
       "      <td>0.4090</td>\n",
       "      <td>ANSL_6</td>\n",
       "      <td>ANSL_69</td>\n",
       "      <td>2014-09-28</td>\n",
       "      <td>2016-10-19 08:24:00</td>\n",
       "      <td>752</td>\n",
       "      <td>10</td>\n",
       "      <td>10</td>\n",
       "      <td>0.366748</td>\n",
       "      <td>60</td>\n",
       "    </tr>\n",
       "    <tr>\n",
       "      <td>3</td>\n",
       "      <td>ANSL_71623</td>\n",
       "      <td>2016-12-31 00:00:00</td>\n",
       "      <td>2019-01-25 18:30:00</td>\n",
       "      <td>1.0</td>\n",
       "      <td>White</td>\n",
       "      <td>0.62</td>\n",
       "      <td>0</td>\n",
       "      <td>1</td>\n",
       "      <td>0.0</td>\n",
       "      <td>2.0</td>\n",
       "      <td>0.1782</td>\n",
       "      <td>ANSL_7</td>\n",
       "      <td>ANSL_71</td>\n",
       "      <td>2016-12-31</td>\n",
       "      <td>2019-01-25 18:30:00</td>\n",
       "      <td>755</td>\n",
       "      <td>1</td>\n",
       "      <td>1</td>\n",
       "      <td>3.479237</td>\n",
       "      <td>0</td>\n",
       "    </tr>\n",
       "    <tr>\n",
       "      <td>4</td>\n",
       "      <td>ANSL_57969</td>\n",
       "      <td>2017-09-28 00:00:00</td>\n",
       "      <td>2017-11-19 09:38:00</td>\n",
       "      <td>2.0</td>\n",
       "      <td>Black</td>\n",
       "      <td>0.50</td>\n",
       "      <td>18</td>\n",
       "      <td>4</td>\n",
       "      <td>0.0</td>\n",
       "      <td>1.0</td>\n",
       "      <td>0.1106</td>\n",
       "      <td>ANSL_5</td>\n",
       "      <td>ANSL_57</td>\n",
       "      <td>2017-09-28</td>\n",
       "      <td>2017-11-19 09:38:00</td>\n",
       "      <td>52</td>\n",
       "      <td>11</td>\n",
       "      <td>11</td>\n",
       "      <td>4.520796</td>\n",
       "      <td>72</td>\n",
       "    </tr>\n",
       "  </tbody>\n",
       "</table>\n",
       "</div>"
      ],
      "text/plain": [
       "       pet_id           issue_date         listing_date  condition  \\\n",
       "0  ANSL_69903  2016-07-10 00:00:00  2016-09-21 16:25:00        2.0   \n",
       "1  ANSL_66892  2013-11-21 00:00:00  2018-12-27 17:47:00        1.0   \n",
       "2  ANSL_69750  2014-09-28 00:00:00  2016-10-19 08:24:00        NaN   \n",
       "3  ANSL_71623  2016-12-31 00:00:00  2019-01-25 18:30:00        1.0   \n",
       "4  ANSL_57969  2017-09-28 00:00:00  2017-11-19 09:38:00        2.0   \n",
       "\n",
       "    color_type  length(m)  X1  X2  breed_category  pet_category  height(m)  \\\n",
       "0  Brown Tabby       0.80  13   9             0.0           1.0     0.0778   \n",
       "1        White       0.72  13   9             0.0           2.0     0.1419   \n",
       "2        Brown       0.15  15   4             2.0           4.0     0.4090   \n",
       "3        White       0.62   0   1             0.0           2.0     0.1782   \n",
       "4        Black       0.50  18   4             0.0           1.0     0.1106   \n",
       "\n",
       "   1stnum  1st2num ISSUE_DATE        LISTING_DATE  duration  listing_month  \\\n",
       "0  ANSL_6  ANSL_69 2016-07-10 2016-09-21 16:25:00        73              9   \n",
       "1  ANSL_6  ANSL_66 2013-11-21 2018-12-27 17:47:00      1862             12   \n",
       "2  ANSL_6  ANSL_69 2014-09-28 2016-10-19 08:24:00       752             10   \n",
       "3  ANSL_7  ANSL_71 2016-12-31 2019-01-25 18:30:00       755              1   \n",
       "4  ANSL_5  ANSL_57 2017-09-28 2017-11-19 09:38:00        52             11   \n",
       "\n",
       "   issue_month      ratio  X1mulX2  \n",
       "0            9  10.282776      117  \n",
       "1           12   5.073996      117  \n",
       "2           10   0.366748       60  \n",
       "3            1   3.479237        0  \n",
       "4           11   4.520796       72  "
      ]
     },
     "execution_count": 29,
     "metadata": {},
     "output_type": "execute_result"
    }
   ],
   "source": [
    "data.head()"
   ]
  },
  {
   "cell_type": "code",
   "execution_count": 30,
   "metadata": {},
   "outputs": [
    {
     "data": {
      "text/plain": [
       "X1mulX2          -0.125650\n",
       "condition        -0.041660\n",
       "listing_month    -0.041149\n",
       "issue_month      -0.041149\n",
       "X1               -0.032594\n",
       "X2               -0.032116\n",
       "length(m)        -0.004544\n",
       "height(m)         0.001976\n",
       "ratio             0.003662\n",
       "duration          0.093331\n",
       "breed_category    0.209230\n",
       "pet_category      1.000000\n",
       "Name: pet_category, dtype: float64"
      ]
     },
     "execution_count": 30,
     "metadata": {},
     "output_type": "execute_result"
    }
   ],
   "source": [
    "data.corr()['pet_category'].sort_values()"
   ]
  },
  {
   "cell_type": "code",
   "execution_count": 31,
   "metadata": {},
   "outputs": [
    {
     "data": {
      "text/plain": [
       "condition        -0.483503\n",
       "duration         -0.102774\n",
       "ratio            -0.001143\n",
       "length(m)         0.006565\n",
       "height(m)         0.011647\n",
       "listing_month     0.021798\n",
       "issue_month       0.021798\n",
       "X2                0.052530\n",
       "X1mulX2           0.155233\n",
       "pet_category      0.209230\n",
       "X1                0.240729\n",
       "breed_category    1.000000\n",
       "Name: breed_category, dtype: float64"
      ]
     },
     "execution_count": 31,
     "metadata": {},
     "output_type": "execute_result"
    }
   ],
   "source": [
    "data.corr()['breed_category'].sort_values()"
   ]
  },
  {
   "cell_type": "markdown",
   "metadata": {},
   "source": [
    "### Filling null values in condition column with value -1"
   ]
  },
  {
   "cell_type": "code",
   "execution_count": 32,
   "metadata": {},
   "outputs": [],
   "source": [
    "data['condition'].fillna(value=-1,inplace= True)\n",
    "data['condition']= data['condition'].astype(int)"
   ]
  },
  {
   "cell_type": "code",
   "execution_count": 33,
   "metadata": {},
   "outputs": [
    {
     "data": {
      "text/plain": [
       "condition  breed_category\n",
       "-1         2.0               1477\n",
       " 0         1.0               6281\n",
       " 1         0.0               6819\n",
       " 2         0.0               2181\n",
       "           1.0               2076\n",
       "dtype: int64"
      ]
     },
     "execution_count": 33,
     "metadata": {},
     "output_type": "execute_result"
    }
   ],
   "source": [
    "data.groupby(['condition','breed_category']).size()"
   ]
  },
  {
   "cell_type": "code",
   "execution_count": 34,
   "metadata": {},
   "outputs": [],
   "source": [
    "data.drop(columns=['pet_id','issue_date','listing_date','ISSUE_DATE','LISTING_DATE',\n",
    "                   'breed_category','pet_category'],inplace=True)"
   ]
  },
  {
   "cell_type": "code",
   "execution_count": 35,
   "metadata": {},
   "outputs": [
    {
     "name": "stdout",
     "output_type": "stream",
     "text": [
      "<class 'pandas.core.frame.DataFrame'>\n",
      "Int64Index: 26906 entries, 0 to 8071\n",
      "Data columns (total 13 columns):\n",
      "condition        26906 non-null int32\n",
      "color_type       26906 non-null object\n",
      "length(m)        26906 non-null float64\n",
      "X1               26906 non-null int64\n",
      "X2               26906 non-null int64\n",
      "height(m)        26906 non-null float64\n",
      "1stnum           26906 non-null object\n",
      "1st2num          26906 non-null object\n",
      "duration         26906 non-null int64\n",
      "listing_month    26906 non-null int64\n",
      "issue_month      26906 non-null int64\n",
      "ratio            26906 non-null float64\n",
      "X1mulX2          26906 non-null int64\n",
      "dtypes: float64(3), int32(1), int64(6), object(3)\n",
      "memory usage: 3.4+ MB\n"
     ]
    }
   ],
   "source": [
    "data.info()"
   ]
  },
  {
   "cell_type": "markdown",
   "metadata": {},
   "source": [
    "### Converting categorical columns into One Hot Encoding"
   ]
  },
  {
   "cell_type": "code",
   "execution_count": 36,
   "metadata": {},
   "outputs": [],
   "source": [
    "train_ohe = data[:18834]\n",
    "test_ohe = data[18834:]"
   ]
  },
  {
   "cell_type": "code",
   "execution_count": 37,
   "metadata": {},
   "outputs": [
    {
     "data": {
      "text/plain": [
       "['color_type', '1stnum', '1st2num']"
      ]
     },
     "execution_count": 37,
     "metadata": {},
     "output_type": "execute_result"
    }
   ],
   "source": [
    "train_ohe.select_dtypes(exclude='number').columns.to_list()"
   ]
  },
  {
   "cell_type": "code",
   "execution_count": 38,
   "metadata": {},
   "outputs": [
    {
     "data": {
      "text/plain": [
       "(18834, 13)"
      ]
     },
     "execution_count": 38,
     "metadata": {},
     "output_type": "execute_result"
    }
   ],
   "source": [
    "train_ohe.shape"
   ]
  },
  {
   "cell_type": "code",
   "execution_count": 39,
   "metadata": {},
   "outputs": [],
   "source": [
    "train_ohe=pd.get_dummies(train_ohe)\n",
    "test_ohe=pd.get_dummies(test_ohe)"
   ]
  },
  {
   "cell_type": "code",
   "execution_count": 40,
   "metadata": {},
   "outputs": [
    {
     "data": {
      "text/plain": [
       "((18834, 98), (8072, 96))"
      ]
     },
     "execution_count": 40,
     "metadata": {},
     "output_type": "execute_result"
    }
   ],
   "source": [
    "train_ohe.shape, test_ohe.shape"
   ]
  },
  {
   "cell_type": "code",
   "execution_count": 41,
   "metadata": {},
   "outputs": [
    {
     "data": {
      "text/plain": [
       "['color_type_Black Tiger', 'color_type_Brown Tiger']"
      ]
     },
     "execution_count": 41,
     "metadata": {},
     "output_type": "execute_result"
    }
   ],
   "source": [
    "a=list(set(train_ohe.columns)-set(test_ohe.columns))\n",
    "a"
   ]
  },
  {
   "cell_type": "code",
   "execution_count": 42,
   "metadata": {},
   "outputs": [],
   "source": [
    "train_ohe=train_ohe.drop(a,axis=1)"
   ]
  },
  {
   "cell_type": "code",
   "execution_count": 43,
   "metadata": {},
   "outputs": [
    {
     "data": {
      "text/plain": [
       "((18834, 96), (8072, 96))"
      ]
     },
     "execution_count": 43,
     "metadata": {},
     "output_type": "execute_result"
    }
   ],
   "source": [
    "train_ohe.shape, test_ohe.shape"
   ]
  },
  {
   "cell_type": "code",
   "execution_count": 44,
   "metadata": {},
   "outputs": [],
   "source": [
    "#again combining\n",
    "data = pd.concat((train_ohe, test_ohe)).reset_index(drop=True)"
   ]
  },
  {
   "cell_type": "markdown",
   "metadata": {},
   "source": [
    "## Standard Scaling"
   ]
  },
  {
   "cell_type": "code",
   "execution_count": 45,
   "metadata": {},
   "outputs": [],
   "source": [
    "names = data.columns\n",
    "\n",
    "from sklearn import preprocessing\n",
    "\n",
    "scaler = preprocessing.StandardScaler()\n",
    "scaled_df = scaler.fit_transform(data)\n",
    "data = pd.DataFrame(scaled_df, columns=names)"
   ]
  },
  {
   "cell_type": "code",
   "execution_count": 46,
   "metadata": {},
   "outputs": [
    {
     "data": {
      "text/html": [
       "<div>\n",
       "<style scoped>\n",
       "    .dataframe tbody tr th:only-of-type {\n",
       "        vertical-align: middle;\n",
       "    }\n",
       "\n",
       "    .dataframe tbody tr th {\n",
       "        vertical-align: top;\n",
       "    }\n",
       "\n",
       "    .dataframe thead th {\n",
       "        text-align: right;\n",
       "    }\n",
       "</style>\n",
       "<table border=\"1\" class=\"dataframe\">\n",
       "  <thead>\n",
       "    <tr style=\"text-align: right;\">\n",
       "      <th></th>\n",
       "      <th>condition</th>\n",
       "      <th>length(m)</th>\n",
       "      <th>X1</th>\n",
       "      <th>X2</th>\n",
       "      <th>height(m)</th>\n",
       "      <th>duration</th>\n",
       "      <th>listing_month</th>\n",
       "      <th>issue_month</th>\n",
       "      <th>ratio</th>\n",
       "      <th>X1mulX2</th>\n",
       "      <th>...</th>\n",
       "      <th>1st2num_ANSL_67</th>\n",
       "      <th>1st2num_ANSL_68</th>\n",
       "      <th>1st2num_ANSL_69</th>\n",
       "      <th>1st2num_ANSL_70</th>\n",
       "      <th>1st2num_ANSL_71</th>\n",
       "      <th>1st2num_ANSL_72</th>\n",
       "      <th>1st2num_ANSL_73</th>\n",
       "      <th>1st2num_ANSL_74</th>\n",
       "      <th>1st2num_ANSL_75</th>\n",
       "      <th>1st2num_ANSL_76</th>\n",
       "    </tr>\n",
       "  </thead>\n",
       "  <tbody>\n",
       "    <tr>\n",
       "      <td>0</td>\n",
       "      <td>1.409180</td>\n",
       "      <td>1.023341</td>\n",
       "      <td>1.169789</td>\n",
       "      <td>1.262750</td>\n",
       "      <td>-1.514343</td>\n",
       "      <td>-0.712206</td>\n",
       "      <td>0.622139</td>\n",
       "      <td>0.622139</td>\n",
       "      <td>2.916819</td>\n",
       "      <td>1.467414</td>\n",
       "      <td>...</td>\n",
       "      <td>-0.196472</td>\n",
       "      <td>-0.196472</td>\n",
       "      <td>5.089794</td>\n",
       "      <td>-0.196472</td>\n",
       "      <td>-0.196472</td>\n",
       "      <td>-0.196472</td>\n",
       "      <td>-0.196472</td>\n",
       "      <td>-0.196472</td>\n",
       "      <td>-0.196472</td>\n",
       "      <td>-0.183557</td>\n",
       "    </tr>\n",
       "    <tr>\n",
       "      <td>1</td>\n",
       "      <td>0.292938</td>\n",
       "      <td>0.744320</td>\n",
       "      <td>1.169789</td>\n",
       "      <td>1.262750</td>\n",
       "      <td>-1.020842</td>\n",
       "      <td>0.916017</td>\n",
       "      <td>1.457140</td>\n",
       "      <td>1.457140</td>\n",
       "      <td>0.942882</td>\n",
       "      <td>1.467414</td>\n",
       "      <td>...</td>\n",
       "      <td>-0.196472</td>\n",
       "      <td>-0.196472</td>\n",
       "      <td>-0.196472</td>\n",
       "      <td>-0.196472</td>\n",
       "      <td>-0.196472</td>\n",
       "      <td>-0.196472</td>\n",
       "      <td>-0.196472</td>\n",
       "      <td>-0.196472</td>\n",
       "      <td>-0.196472</td>\n",
       "      <td>-0.183557</td>\n",
       "    </tr>\n",
       "    <tr>\n",
       "      <td>2</td>\n",
       "      <td>-1.939546</td>\n",
       "      <td>-1.243703</td>\n",
       "      <td>1.475018</td>\n",
       "      <td>-0.157894</td>\n",
       "      <td>1.035542</td>\n",
       "      <td>-0.094228</td>\n",
       "      <td>0.900472</td>\n",
       "      <td>0.900472</td>\n",
       "      <td>-0.840993</td>\n",
       "      <td>0.410870</td>\n",
       "      <td>...</td>\n",
       "      <td>-0.196472</td>\n",
       "      <td>-0.196472</td>\n",
       "      <td>5.089794</td>\n",
       "      <td>-0.196472</td>\n",
       "      <td>-0.196472</td>\n",
       "      <td>-0.196472</td>\n",
       "      <td>-0.196472</td>\n",
       "      <td>-0.196472</td>\n",
       "      <td>-0.196472</td>\n",
       "      <td>-0.183557</td>\n",
       "    </tr>\n",
       "    <tr>\n",
       "      <td>3</td>\n",
       "      <td>0.292938</td>\n",
       "      <td>0.395544</td>\n",
       "      <td>-0.814202</td>\n",
       "      <td>-1.010281</td>\n",
       "      <td>-0.741371</td>\n",
       "      <td>-0.091497</td>\n",
       "      <td>-1.604531</td>\n",
       "      <td>-1.604531</td>\n",
       "      <td>0.338527</td>\n",
       "      <td>-0.701282</td>\n",
       "      <td>...</td>\n",
       "      <td>-0.196472</td>\n",
       "      <td>-0.196472</td>\n",
       "      <td>-0.196472</td>\n",
       "      <td>-0.196472</td>\n",
       "      <td>5.089794</td>\n",
       "      <td>-0.196472</td>\n",
       "      <td>-0.196472</td>\n",
       "      <td>-0.196472</td>\n",
       "      <td>-0.196472</td>\n",
       "      <td>-0.183557</td>\n",
       "    </tr>\n",
       "    <tr>\n",
       "      <td>4</td>\n",
       "      <td>1.409180</td>\n",
       "      <td>-0.022987</td>\n",
       "      <td>1.932862</td>\n",
       "      <td>-0.157894</td>\n",
       "      <td>-1.261818</td>\n",
       "      <td>-0.731319</td>\n",
       "      <td>1.178806</td>\n",
       "      <td>1.178806</td>\n",
       "      <td>0.733239</td>\n",
       "      <td>0.633300</td>\n",
       "      <td>...</td>\n",
       "      <td>-0.196472</td>\n",
       "      <td>-0.196472</td>\n",
       "      <td>-0.196472</td>\n",
       "      <td>-0.196472</td>\n",
       "      <td>-0.196472</td>\n",
       "      <td>-0.196472</td>\n",
       "      <td>-0.196472</td>\n",
       "      <td>-0.196472</td>\n",
       "      <td>-0.196472</td>\n",
       "      <td>-0.183557</td>\n",
       "    </tr>\n",
       "  </tbody>\n",
       "</table>\n",
       "<p>5 rows × 96 columns</p>\n",
       "</div>"
      ],
      "text/plain": [
       "   condition  length(m)        X1        X2  height(m)  duration  \\\n",
       "0   1.409180   1.023341  1.169789  1.262750  -1.514343 -0.712206   \n",
       "1   0.292938   0.744320  1.169789  1.262750  -1.020842  0.916017   \n",
       "2  -1.939546  -1.243703  1.475018 -0.157894   1.035542 -0.094228   \n",
       "3   0.292938   0.395544 -0.814202 -1.010281  -0.741371 -0.091497   \n",
       "4   1.409180  -0.022987  1.932862 -0.157894  -1.261818 -0.731319   \n",
       "\n",
       "   listing_month  issue_month     ratio   X1mulX2  ...  1st2num_ANSL_67  \\\n",
       "0       0.622139     0.622139  2.916819  1.467414  ...        -0.196472   \n",
       "1       1.457140     1.457140  0.942882  1.467414  ...        -0.196472   \n",
       "2       0.900472     0.900472 -0.840993  0.410870  ...        -0.196472   \n",
       "3      -1.604531    -1.604531  0.338527 -0.701282  ...        -0.196472   \n",
       "4       1.178806     1.178806  0.733239  0.633300  ...        -0.196472   \n",
       "\n",
       "   1st2num_ANSL_68  1st2num_ANSL_69  1st2num_ANSL_70  1st2num_ANSL_71  \\\n",
       "0        -0.196472         5.089794        -0.196472        -0.196472   \n",
       "1        -0.196472        -0.196472        -0.196472        -0.196472   \n",
       "2        -0.196472         5.089794        -0.196472        -0.196472   \n",
       "3        -0.196472        -0.196472        -0.196472         5.089794   \n",
       "4        -0.196472        -0.196472        -0.196472        -0.196472   \n",
       "\n",
       "   1st2num_ANSL_72  1st2num_ANSL_73  1st2num_ANSL_74  1st2num_ANSL_75  \\\n",
       "0        -0.196472        -0.196472        -0.196472        -0.196472   \n",
       "1        -0.196472        -0.196472        -0.196472        -0.196472   \n",
       "2        -0.196472        -0.196472        -0.196472        -0.196472   \n",
       "3        -0.196472        -0.196472        -0.196472        -0.196472   \n",
       "4        -0.196472        -0.196472        -0.196472        -0.196472   \n",
       "\n",
       "   1st2num_ANSL_76  \n",
       "0        -0.183557  \n",
       "1        -0.183557  \n",
       "2        -0.183557  \n",
       "3        -0.183557  \n",
       "4        -0.183557  \n",
       "\n",
       "[5 rows x 96 columns]"
      ]
     },
     "execution_count": 46,
     "metadata": {},
     "output_type": "execute_result"
    }
   ],
   "source": [
    "data.head()"
   ]
  },
  {
   "cell_type": "code",
   "execution_count": 47,
   "metadata": {},
   "outputs": [],
   "source": [
    "train_new= data[:18834].copy()\n",
    "test_new= data[18834:].copy()"
   ]
  },
  {
   "cell_type": "code",
   "execution_count": 48,
   "metadata": {},
   "outputs": [
    {
     "data": {
      "text/html": [
       "<div>\n",
       "<style scoped>\n",
       "    .dataframe tbody tr th:only-of-type {\n",
       "        vertical-align: middle;\n",
       "    }\n",
       "\n",
       "    .dataframe tbody tr th {\n",
       "        vertical-align: top;\n",
       "    }\n",
       "\n",
       "    .dataframe thead th {\n",
       "        text-align: right;\n",
       "    }\n",
       "</style>\n",
       "<table border=\"1\" class=\"dataframe\">\n",
       "  <thead>\n",
       "    <tr style=\"text-align: right;\">\n",
       "      <th></th>\n",
       "      <th>condition</th>\n",
       "      <th>length(m)</th>\n",
       "      <th>X1</th>\n",
       "      <th>X2</th>\n",
       "      <th>height(m)</th>\n",
       "      <th>duration</th>\n",
       "      <th>listing_month</th>\n",
       "      <th>issue_month</th>\n",
       "      <th>ratio</th>\n",
       "      <th>X1mulX2</th>\n",
       "      <th>...</th>\n",
       "      <th>1st2num_ANSL_67</th>\n",
       "      <th>1st2num_ANSL_68</th>\n",
       "      <th>1st2num_ANSL_69</th>\n",
       "      <th>1st2num_ANSL_70</th>\n",
       "      <th>1st2num_ANSL_71</th>\n",
       "      <th>1st2num_ANSL_72</th>\n",
       "      <th>1st2num_ANSL_73</th>\n",
       "      <th>1st2num_ANSL_74</th>\n",
       "      <th>1st2num_ANSL_75</th>\n",
       "      <th>1st2num_ANSL_76</th>\n",
       "    </tr>\n",
       "  </thead>\n",
       "  <tbody>\n",
       "    <tr>\n",
       "      <td>18834</td>\n",
       "      <td>-0.823304</td>\n",
       "      <td>1.267484</td>\n",
       "      <td>-0.814202</td>\n",
       "      <td>0.694493</td>\n",
       "      <td>1.176432</td>\n",
       "      <td>3.229570</td>\n",
       "      <td>0.622139</td>\n",
       "      <td>0.622139</td>\n",
       "      <td>-0.208392</td>\n",
       "      <td>-0.701282</td>\n",
       "      <td>...</td>\n",
       "      <td>-0.196472</td>\n",
       "      <td>-0.196472</td>\n",
       "      <td>-0.196472</td>\n",
       "      <td>-0.196472</td>\n",
       "      <td>-0.196472</td>\n",
       "      <td>-0.196472</td>\n",
       "      <td>-0.196472</td>\n",
       "      <td>-0.196472</td>\n",
       "      <td>5.089794</td>\n",
       "      <td>-0.183557</td>\n",
       "    </tr>\n",
       "    <tr>\n",
       "      <td>18835</td>\n",
       "      <td>0.292938</td>\n",
       "      <td>-1.557601</td>\n",
       "      <td>-0.814202</td>\n",
       "      <td>-1.010281</td>\n",
       "      <td>-1.596722</td>\n",
       "      <td>-0.620283</td>\n",
       "      <td>-0.491196</td>\n",
       "      <td>-0.491196</td>\n",
       "      <td>-0.641112</td>\n",
       "      <td>-0.701282</td>\n",
       "      <td>...</td>\n",
       "      <td>-0.196472</td>\n",
       "      <td>-0.196472</td>\n",
       "      <td>-0.196472</td>\n",
       "      <td>-0.196472</td>\n",
       "      <td>-0.196472</td>\n",
       "      <td>-0.196472</td>\n",
       "      <td>-0.196472</td>\n",
       "      <td>-0.196472</td>\n",
       "      <td>-0.196472</td>\n",
       "      <td>5.447898</td>\n",
       "    </tr>\n",
       "    <tr>\n",
       "      <td>18836</td>\n",
       "      <td>0.292938</td>\n",
       "      <td>-0.929805</td>\n",
       "      <td>-0.814202</td>\n",
       "      <td>0.694493</td>\n",
       "      <td>1.059409</td>\n",
       "      <td>1.040705</td>\n",
       "      <td>-0.769530</td>\n",
       "      <td>-0.769530</td>\n",
       "      <td>-0.759275</td>\n",
       "      <td>-0.701282</td>\n",
       "      <td>...</td>\n",
       "      <td>-0.196472</td>\n",
       "      <td>-0.196472</td>\n",
       "      <td>-0.196472</td>\n",
       "      <td>-0.196472</td>\n",
       "      <td>-0.196472</td>\n",
       "      <td>-0.196472</td>\n",
       "      <td>-0.196472</td>\n",
       "      <td>-0.196472</td>\n",
       "      <td>-0.196472</td>\n",
       "      <td>-0.183557</td>\n",
       "    </tr>\n",
       "    <tr>\n",
       "      <td>18837</td>\n",
       "      <td>0.292938</td>\n",
       "      <td>-0.755417</td>\n",
       "      <td>0.254101</td>\n",
       "      <td>-1.010281</td>\n",
       "      <td>-1.461991</td>\n",
       "      <td>0.266184</td>\n",
       "      <td>-0.769530</td>\n",
       "      <td>-0.769530</td>\n",
       "      <td>0.319070</td>\n",
       "      <td>-0.571531</td>\n",
       "      <td>...</td>\n",
       "      <td>5.089794</td>\n",
       "      <td>-0.196472</td>\n",
       "      <td>-0.196472</td>\n",
       "      <td>-0.196472</td>\n",
       "      <td>-0.196472</td>\n",
       "      <td>-0.196472</td>\n",
       "      <td>-0.196472</td>\n",
       "      <td>-0.196472</td>\n",
       "      <td>-0.196472</td>\n",
       "      <td>-0.183557</td>\n",
       "    </tr>\n",
       "    <tr>\n",
       "      <td>18838</td>\n",
       "      <td>0.292938</td>\n",
       "      <td>0.709443</td>\n",
       "      <td>-0.814202</td>\n",
       "      <td>0.694493</td>\n",
       "      <td>0.267189</td>\n",
       "      <td>-0.357255</td>\n",
       "      <td>-0.769530</td>\n",
       "      <td>-0.769530</td>\n",
       "      <td>-0.109783</td>\n",
       "      <td>-0.701282</td>\n",
       "      <td>...</td>\n",
       "      <td>-0.196472</td>\n",
       "      <td>-0.196472</td>\n",
       "      <td>-0.196472</td>\n",
       "      <td>-0.196472</td>\n",
       "      <td>-0.196472</td>\n",
       "      <td>5.089794</td>\n",
       "      <td>-0.196472</td>\n",
       "      <td>-0.196472</td>\n",
       "      <td>-0.196472</td>\n",
       "      <td>-0.183557</td>\n",
       "    </tr>\n",
       "  </tbody>\n",
       "</table>\n",
       "<p>5 rows × 96 columns</p>\n",
       "</div>"
      ],
      "text/plain": [
       "       condition  length(m)        X1        X2  height(m)  duration  \\\n",
       "18834  -0.823304   1.267484 -0.814202  0.694493   1.176432  3.229570   \n",
       "18835   0.292938  -1.557601 -0.814202 -1.010281  -1.596722 -0.620283   \n",
       "18836   0.292938  -0.929805 -0.814202  0.694493   1.059409  1.040705   \n",
       "18837   0.292938  -0.755417  0.254101 -1.010281  -1.461991  0.266184   \n",
       "18838   0.292938   0.709443 -0.814202  0.694493   0.267189 -0.357255   \n",
       "\n",
       "       listing_month  issue_month     ratio   X1mulX2  ...  1st2num_ANSL_67  \\\n",
       "18834       0.622139     0.622139 -0.208392 -0.701282  ...        -0.196472   \n",
       "18835      -0.491196    -0.491196 -0.641112 -0.701282  ...        -0.196472   \n",
       "18836      -0.769530    -0.769530 -0.759275 -0.701282  ...        -0.196472   \n",
       "18837      -0.769530    -0.769530  0.319070 -0.571531  ...         5.089794   \n",
       "18838      -0.769530    -0.769530 -0.109783 -0.701282  ...        -0.196472   \n",
       "\n",
       "       1st2num_ANSL_68  1st2num_ANSL_69  1st2num_ANSL_70  1st2num_ANSL_71  \\\n",
       "18834        -0.196472        -0.196472        -0.196472        -0.196472   \n",
       "18835        -0.196472        -0.196472        -0.196472        -0.196472   \n",
       "18836        -0.196472        -0.196472        -0.196472        -0.196472   \n",
       "18837        -0.196472        -0.196472        -0.196472        -0.196472   \n",
       "18838        -0.196472        -0.196472        -0.196472        -0.196472   \n",
       "\n",
       "       1st2num_ANSL_72  1st2num_ANSL_73  1st2num_ANSL_74  1st2num_ANSL_75  \\\n",
       "18834        -0.196472        -0.196472        -0.196472         5.089794   \n",
       "18835        -0.196472        -0.196472        -0.196472        -0.196472   \n",
       "18836        -0.196472        -0.196472        -0.196472        -0.196472   \n",
       "18837        -0.196472        -0.196472        -0.196472        -0.196472   \n",
       "18838         5.089794        -0.196472        -0.196472        -0.196472   \n",
       "\n",
       "       1st2num_ANSL_76  \n",
       "18834        -0.183557  \n",
       "18835         5.447898  \n",
       "18836        -0.183557  \n",
       "18837        -0.183557  \n",
       "18838        -0.183557  \n",
       "\n",
       "[5 rows x 96 columns]"
      ]
     },
     "execution_count": 48,
     "metadata": {},
     "output_type": "execute_result"
    }
   ],
   "source": [
    "test_new.head()"
   ]
  },
  {
   "cell_type": "markdown",
   "metadata": {},
   "source": [
    "# Model 1 for predicting 'pet_category'"
   ]
  },
  {
   "cell_type": "code",
   "execution_count": 49,
   "metadata": {},
   "outputs": [],
   "source": [
    "from sklearn.model_selection import train_test_split\n",
    "\n",
    "y=train['pet_category']\n",
    "X_train, X_val, y_train, y_val = train_test_split(train_new, y, test_size=0.2,random_state=101)"
   ]
  },
  {
   "cell_type": "code",
   "execution_count": 50,
   "metadata": {},
   "outputs": [],
   "source": [
    "from sklearn.model_selection import RandomizedSearchCV\n",
    "from xgboost import XGBClassifier"
   ]
  },
  {
   "cell_type": "code",
   "execution_count": 51,
   "metadata": {},
   "outputs": [],
   "source": [
    "clf_xgb = XGBClassifier(objective = 'multi:softmax', num_class=4)"
   ]
  },
  {
   "cell_type": "markdown",
   "metadata": {},
   "source": [
    "## Hyperparameter Tuning"
   ]
  },
  {
   "cell_type": "raw",
   "metadata": {},
   "source": [
    "param_dist = {'n_estimators': [100,200,400,600],\n",
    "              'learning_rate': [0.01,0.1,0.3,0.5],\n",
    "              'max_depth': [5, 6, 7, 8, 9],\n",
    "              'subsample':[i/10.0 for i in range(6,10)],\n",
    "              'colsample_bytree':[i/10.0 for i in range(6,10)],\n",
    "              'min_child_weight': [1, 2, 4, 6],\n",
    "              'gamma':[i/10.0 for i in range(1,5)],\n",
    "              'reg_alpha':[i/10.0 for i in range(1,5)]\n",
    "             }"
   ]
  },
  {
   "cell_type": "raw",
   "metadata": {},
   "source": [
    "clf = RandomizedSearchCV(clf_xgb, \n",
    "                         param_distributions = param_dist,\n",
    "                         cv = 3,  \n",
    "                         n_iter = 10,\n",
    "                         error_score = 0, \n",
    "                         verbose = 3,\n",
    "                         n_jobs = -1)"
   ]
  },
  {
   "cell_type": "code",
   "execution_count": 52,
   "metadata": {},
   "outputs": [],
   "source": [
    "#clf.fit(X_train,y_train)"
   ]
  },
  {
   "cell_type": "code",
   "execution_count": 53,
   "metadata": {},
   "outputs": [],
   "source": [
    "#clf.best_estimator_"
   ]
  },
  {
   "cell_type": "raw",
   "metadata": {},
   "source": [
    "best_model=XGBClassifier(base_score=0.5, booster=None, colsample_bylevel=1,\n",
    "              colsample_bynode=1, colsample_bytree=0.9, gamma=0.2, gpu_id=-1,\n",
    "              importance_type='gain', interaction_constraints=None,\n",
    "              learning_rate=0.1, max_delta_step=0, max_depth=7,\n",
    "              min_child_weight=6, monotone_constraints=None,\n",
    "              n_estimators=200, n_jobs=0, num_class=4, num_parallel_tree=1,\n",
    "              objective='multi:softprob', random_state=0, reg_alpha=0.4,\n",
    "              reg_lambda=1, scale_pos_weight=None, subsample=0.6,\n",
    "              tree_method=None, validate_parameters=False, verbosity=None)\n",
    "\n",
    "got 90.84 score"
   ]
  },
  {
   "cell_type": "code",
   "execution_count": 54,
   "metadata": {},
   "outputs": [
    {
     "data": {
      "text/plain": [
       "XGBClassifier(base_score=0.5, booster='gbtree', colsample_bylevel=1,\n",
       "              colsample_bynode=1, colsample_bytree=0.9, gamma=0.2, gpu_id=-1,\n",
       "              importance_type='gain', interaction_constraints=None,\n",
       "              learning_rate=0.1, max_delta_step=0, max_depth=7,\n",
       "              min_child_weight=6, missing=nan, monotone_constraints=None,\n",
       "              n_estimators=200, n_jobs=0, num_class=4, num_parallel_tree=1,\n",
       "              objective='multi:softprob', random_state=0, reg_alpha=0.4,\n",
       "              reg_lambda=1, scale_pos_weight=None, subsample=0.6,\n",
       "              tree_method='exact', validate_parameters=False, verbosity=None)"
      ]
     },
     "execution_count": 54,
     "metadata": {},
     "output_type": "execute_result"
    }
   ],
   "source": [
    "#got 90.84950 score\n",
    "best_model=XGBClassifier(base_score=0.5, booster='gbtree', colsample_bylevel=1,\n",
    "              colsample_bynode=1, colsample_bytree=0.9, gamma=0.2, gpu_id=-1,\n",
    "              importance_type='gain', interaction_constraints=None,\n",
    "              learning_rate=0.1, max_delta_step=0, max_depth=7,\n",
    "              min_child_weight=6, monotone_constraints=None,\n",
    "              n_estimators=200, n_jobs=0, num_class=4, num_parallel_tree=1,\n",
    "              objective='multi:softprob', random_state=0, reg_alpha=0.4,\n",
    "              reg_lambda=1, scale_pos_weight=None, subsample=0.6,\n",
    "              tree_method='exact', validate_parameters=False, verbosity=None)\n",
    "\n",
    "\n",
    "best_model.fit(X_train,y_train)"
   ]
  },
  {
   "cell_type": "code",
   "execution_count": 55,
   "metadata": {},
   "outputs": [],
   "source": [
    "val_pred=best_model.predict(X_val)"
   ]
  },
  {
   "cell_type": "code",
   "execution_count": 56,
   "metadata": {},
   "outputs": [
    {
     "data": {
      "text/plain": [
       "array([1, 2, 2, ..., 1, 2, 2], dtype=int64)"
      ]
     },
     "execution_count": 56,
     "metadata": {},
     "output_type": "execute_result"
    }
   ],
   "source": [
    "val_pred"
   ]
  },
  {
   "cell_type": "code",
   "execution_count": 57,
   "metadata": {},
   "outputs": [],
   "source": [
    "from sklearn.metrics import classification_report"
   ]
  },
  {
   "cell_type": "code",
   "execution_count": 58,
   "metadata": {},
   "outputs": [
    {
     "name": "stdout",
     "output_type": "stream",
     "text": [
      "              precision    recall  f1-score   support\n",
      "\n",
      "           0       0.14      1.00      0.25         2\n",
      "           1       0.84      0.91      0.88      1319\n",
      "           2       0.95      0.89      0.92      2264\n",
      "           4       0.82      0.92      0.87       182\n",
      "\n",
      "    accuracy                           0.90      3767\n",
      "   macro avg       0.69      0.93      0.73      3767\n",
      "weighted avg       0.90      0.90      0.90      3767\n",
      "\n"
     ]
    }
   ],
   "source": [
    "print(classification_report(val_pred,y_val))"
   ]
  },
  {
   "cell_type": "code",
   "execution_count": 59,
   "metadata": {},
   "outputs": [],
   "source": [
    "pet_pred= best_model.predict(test_new)"
   ]
  },
  {
   "cell_type": "code",
   "execution_count": 60,
   "metadata": {},
   "outputs": [
    {
     "data": {
      "text/plain": [
       "array([2, 1, 2, ..., 2, 4, 2], dtype=int64)"
      ]
     },
     "execution_count": 60,
     "metadata": {},
     "output_type": "execute_result"
    }
   ],
   "source": [
    "pet_pred"
   ]
  },
  {
   "cell_type": "code",
   "execution_count": 61,
   "metadata": {},
   "outputs": [],
   "source": [
    "pet_category=pd.DataFrame(data= pet_pred,columns=['pet_category'])"
   ]
  },
  {
   "cell_type": "code",
   "execution_count": 62,
   "metadata": {},
   "outputs": [],
   "source": [
    "pet_category.reset_index(drop=True,inplace=True)\n",
    "test_new.reset_index(drop=True,inplace=True)"
   ]
  },
  {
   "cell_type": "code",
   "execution_count": 63,
   "metadata": {},
   "outputs": [],
   "source": [
    "test_final=pd.concat([test_new,pet_category],sort=False,axis=1)"
   ]
  },
  {
   "cell_type": "code",
   "execution_count": 64,
   "metadata": {},
   "outputs": [
    {
     "data": {
      "text/html": [
       "<div>\n",
       "<style scoped>\n",
       "    .dataframe tbody tr th:only-of-type {\n",
       "        vertical-align: middle;\n",
       "    }\n",
       "\n",
       "    .dataframe tbody tr th {\n",
       "        vertical-align: top;\n",
       "    }\n",
       "\n",
       "    .dataframe thead th {\n",
       "        text-align: right;\n",
       "    }\n",
       "</style>\n",
       "<table border=\"1\" class=\"dataframe\">\n",
       "  <thead>\n",
       "    <tr style=\"text-align: right;\">\n",
       "      <th></th>\n",
       "      <th>condition</th>\n",
       "      <th>length(m)</th>\n",
       "      <th>X1</th>\n",
       "      <th>X2</th>\n",
       "      <th>height(m)</th>\n",
       "      <th>duration</th>\n",
       "      <th>listing_month</th>\n",
       "      <th>issue_month</th>\n",
       "      <th>ratio</th>\n",
       "      <th>X1mulX2</th>\n",
       "      <th>...</th>\n",
       "      <th>1st2num_ANSL_68</th>\n",
       "      <th>1st2num_ANSL_69</th>\n",
       "      <th>1st2num_ANSL_70</th>\n",
       "      <th>1st2num_ANSL_71</th>\n",
       "      <th>1st2num_ANSL_72</th>\n",
       "      <th>1st2num_ANSL_73</th>\n",
       "      <th>1st2num_ANSL_74</th>\n",
       "      <th>1st2num_ANSL_75</th>\n",
       "      <th>1st2num_ANSL_76</th>\n",
       "      <th>pet_category</th>\n",
       "    </tr>\n",
       "  </thead>\n",
       "  <tbody>\n",
       "    <tr>\n",
       "      <td>0</td>\n",
       "      <td>-0.823304</td>\n",
       "      <td>1.267484</td>\n",
       "      <td>-0.814202</td>\n",
       "      <td>0.694493</td>\n",
       "      <td>1.176432</td>\n",
       "      <td>3.229570</td>\n",
       "      <td>0.622139</td>\n",
       "      <td>0.622139</td>\n",
       "      <td>-0.208392</td>\n",
       "      <td>-0.701282</td>\n",
       "      <td>...</td>\n",
       "      <td>-0.196472</td>\n",
       "      <td>-0.196472</td>\n",
       "      <td>-0.196472</td>\n",
       "      <td>-0.196472</td>\n",
       "      <td>-0.196472</td>\n",
       "      <td>-0.196472</td>\n",
       "      <td>-0.196472</td>\n",
       "      <td>5.089794</td>\n",
       "      <td>-0.183557</td>\n",
       "      <td>2</td>\n",
       "    </tr>\n",
       "    <tr>\n",
       "      <td>1</td>\n",
       "      <td>0.292938</td>\n",
       "      <td>-1.557601</td>\n",
       "      <td>-0.814202</td>\n",
       "      <td>-1.010281</td>\n",
       "      <td>-1.596722</td>\n",
       "      <td>-0.620283</td>\n",
       "      <td>-0.491196</td>\n",
       "      <td>-0.491196</td>\n",
       "      <td>-0.641112</td>\n",
       "      <td>-0.701282</td>\n",
       "      <td>...</td>\n",
       "      <td>-0.196472</td>\n",
       "      <td>-0.196472</td>\n",
       "      <td>-0.196472</td>\n",
       "      <td>-0.196472</td>\n",
       "      <td>-0.196472</td>\n",
       "      <td>-0.196472</td>\n",
       "      <td>-0.196472</td>\n",
       "      <td>-0.196472</td>\n",
       "      <td>5.447898</td>\n",
       "      <td>1</td>\n",
       "    </tr>\n",
       "    <tr>\n",
       "      <td>2</td>\n",
       "      <td>0.292938</td>\n",
       "      <td>-0.929805</td>\n",
       "      <td>-0.814202</td>\n",
       "      <td>0.694493</td>\n",
       "      <td>1.059409</td>\n",
       "      <td>1.040705</td>\n",
       "      <td>-0.769530</td>\n",
       "      <td>-0.769530</td>\n",
       "      <td>-0.759275</td>\n",
       "      <td>-0.701282</td>\n",
       "      <td>...</td>\n",
       "      <td>-0.196472</td>\n",
       "      <td>-0.196472</td>\n",
       "      <td>-0.196472</td>\n",
       "      <td>-0.196472</td>\n",
       "      <td>-0.196472</td>\n",
       "      <td>-0.196472</td>\n",
       "      <td>-0.196472</td>\n",
       "      <td>-0.196472</td>\n",
       "      <td>-0.183557</td>\n",
       "      <td>2</td>\n",
       "    </tr>\n",
       "    <tr>\n",
       "      <td>3</td>\n",
       "      <td>0.292938</td>\n",
       "      <td>-0.755417</td>\n",
       "      <td>0.254101</td>\n",
       "      <td>-1.010281</td>\n",
       "      <td>-1.461991</td>\n",
       "      <td>0.266184</td>\n",
       "      <td>-0.769530</td>\n",
       "      <td>-0.769530</td>\n",
       "      <td>0.319070</td>\n",
       "      <td>-0.571531</td>\n",
       "      <td>...</td>\n",
       "      <td>-0.196472</td>\n",
       "      <td>-0.196472</td>\n",
       "      <td>-0.196472</td>\n",
       "      <td>-0.196472</td>\n",
       "      <td>-0.196472</td>\n",
       "      <td>-0.196472</td>\n",
       "      <td>-0.196472</td>\n",
       "      <td>-0.196472</td>\n",
       "      <td>-0.183557</td>\n",
       "      <td>2</td>\n",
       "    </tr>\n",
       "    <tr>\n",
       "      <td>4</td>\n",
       "      <td>0.292938</td>\n",
       "      <td>0.709443</td>\n",
       "      <td>-0.814202</td>\n",
       "      <td>0.694493</td>\n",
       "      <td>0.267189</td>\n",
       "      <td>-0.357255</td>\n",
       "      <td>-0.769530</td>\n",
       "      <td>-0.769530</td>\n",
       "      <td>-0.109783</td>\n",
       "      <td>-0.701282</td>\n",
       "      <td>...</td>\n",
       "      <td>-0.196472</td>\n",
       "      <td>-0.196472</td>\n",
       "      <td>-0.196472</td>\n",
       "      <td>-0.196472</td>\n",
       "      <td>5.089794</td>\n",
       "      <td>-0.196472</td>\n",
       "      <td>-0.196472</td>\n",
       "      <td>-0.196472</td>\n",
       "      <td>-0.183557</td>\n",
       "      <td>2</td>\n",
       "    </tr>\n",
       "  </tbody>\n",
       "</table>\n",
       "<p>5 rows × 97 columns</p>\n",
       "</div>"
      ],
      "text/plain": [
       "   condition  length(m)        X1        X2  height(m)  duration  \\\n",
       "0  -0.823304   1.267484 -0.814202  0.694493   1.176432  3.229570   \n",
       "1   0.292938  -1.557601 -0.814202 -1.010281  -1.596722 -0.620283   \n",
       "2   0.292938  -0.929805 -0.814202  0.694493   1.059409  1.040705   \n",
       "3   0.292938  -0.755417  0.254101 -1.010281  -1.461991  0.266184   \n",
       "4   0.292938   0.709443 -0.814202  0.694493   0.267189 -0.357255   \n",
       "\n",
       "   listing_month  issue_month     ratio   X1mulX2  ...  1st2num_ANSL_68  \\\n",
       "0       0.622139     0.622139 -0.208392 -0.701282  ...        -0.196472   \n",
       "1      -0.491196    -0.491196 -0.641112 -0.701282  ...        -0.196472   \n",
       "2      -0.769530    -0.769530 -0.759275 -0.701282  ...        -0.196472   \n",
       "3      -0.769530    -0.769530  0.319070 -0.571531  ...        -0.196472   \n",
       "4      -0.769530    -0.769530 -0.109783 -0.701282  ...        -0.196472   \n",
       "\n",
       "   1st2num_ANSL_69  1st2num_ANSL_70  1st2num_ANSL_71  1st2num_ANSL_72  \\\n",
       "0        -0.196472        -0.196472        -0.196472        -0.196472   \n",
       "1        -0.196472        -0.196472        -0.196472        -0.196472   \n",
       "2        -0.196472        -0.196472        -0.196472        -0.196472   \n",
       "3        -0.196472        -0.196472        -0.196472        -0.196472   \n",
       "4        -0.196472        -0.196472        -0.196472         5.089794   \n",
       "\n",
       "   1st2num_ANSL_73  1st2num_ANSL_74  1st2num_ANSL_75  1st2num_ANSL_76  \\\n",
       "0        -0.196472        -0.196472         5.089794        -0.183557   \n",
       "1        -0.196472        -0.196472        -0.196472         5.447898   \n",
       "2        -0.196472        -0.196472        -0.196472        -0.183557   \n",
       "3        -0.196472        -0.196472        -0.196472        -0.183557   \n",
       "4        -0.196472        -0.196472        -0.196472        -0.183557   \n",
       "\n",
       "   pet_category  \n",
       "0             2  \n",
       "1             1  \n",
       "2             2  \n",
       "3             2  \n",
       "4             2  \n",
       "\n",
       "[5 rows x 97 columns]"
      ]
     },
     "execution_count": 64,
     "metadata": {},
     "output_type": "execute_result"
    }
   ],
   "source": [
    "test_final.head()"
   ]
  },
  {
   "cell_type": "code",
   "execution_count": 65,
   "metadata": {},
   "outputs": [
    {
     "data": {
      "text/plain": [
       "2    4912\n",
       "1    2798\n",
       "4     351\n",
       "0      11\n",
       "Name: pet_category, dtype: int64"
      ]
     },
     "execution_count": 65,
     "metadata": {},
     "output_type": "execute_result"
    }
   ],
   "source": [
    "test_final['pet_category'].value_counts()"
   ]
  },
  {
   "cell_type": "code",
   "execution_count": 66,
   "metadata": {},
   "outputs": [],
   "source": [
    "train_final= pd.concat([train_new,train['pet_category']],sort=False,axis=1)"
   ]
  },
  {
   "cell_type": "code",
   "execution_count": 67,
   "metadata": {},
   "outputs": [
    {
     "data": {
      "text/html": [
       "<div>\n",
       "<style scoped>\n",
       "    .dataframe tbody tr th:only-of-type {\n",
       "        vertical-align: middle;\n",
       "    }\n",
       "\n",
       "    .dataframe tbody tr th {\n",
       "        vertical-align: top;\n",
       "    }\n",
       "\n",
       "    .dataframe thead th {\n",
       "        text-align: right;\n",
       "    }\n",
       "</style>\n",
       "<table border=\"1\" class=\"dataframe\">\n",
       "  <thead>\n",
       "    <tr style=\"text-align: right;\">\n",
       "      <th></th>\n",
       "      <th>condition</th>\n",
       "      <th>length(m)</th>\n",
       "      <th>X1</th>\n",
       "      <th>X2</th>\n",
       "      <th>height(m)</th>\n",
       "      <th>duration</th>\n",
       "      <th>listing_month</th>\n",
       "      <th>issue_month</th>\n",
       "      <th>ratio</th>\n",
       "      <th>X1mulX2</th>\n",
       "      <th>...</th>\n",
       "      <th>1st2num_ANSL_68</th>\n",
       "      <th>1st2num_ANSL_69</th>\n",
       "      <th>1st2num_ANSL_70</th>\n",
       "      <th>1st2num_ANSL_71</th>\n",
       "      <th>1st2num_ANSL_72</th>\n",
       "      <th>1st2num_ANSL_73</th>\n",
       "      <th>1st2num_ANSL_74</th>\n",
       "      <th>1st2num_ANSL_75</th>\n",
       "      <th>1st2num_ANSL_76</th>\n",
       "      <th>pet_category</th>\n",
       "    </tr>\n",
       "  </thead>\n",
       "  <tbody>\n",
       "    <tr>\n",
       "      <td>0</td>\n",
       "      <td>1.409180</td>\n",
       "      <td>1.023341</td>\n",
       "      <td>1.169789</td>\n",
       "      <td>1.262750</td>\n",
       "      <td>-1.514343</td>\n",
       "      <td>-0.712206</td>\n",
       "      <td>0.622139</td>\n",
       "      <td>0.622139</td>\n",
       "      <td>2.916819</td>\n",
       "      <td>1.467414</td>\n",
       "      <td>...</td>\n",
       "      <td>-0.196472</td>\n",
       "      <td>5.089794</td>\n",
       "      <td>-0.196472</td>\n",
       "      <td>-0.196472</td>\n",
       "      <td>-0.196472</td>\n",
       "      <td>-0.196472</td>\n",
       "      <td>-0.196472</td>\n",
       "      <td>-0.196472</td>\n",
       "      <td>-0.183557</td>\n",
       "      <td>1</td>\n",
       "    </tr>\n",
       "    <tr>\n",
       "      <td>1</td>\n",
       "      <td>0.292938</td>\n",
       "      <td>0.744320</td>\n",
       "      <td>1.169789</td>\n",
       "      <td>1.262750</td>\n",
       "      <td>-1.020842</td>\n",
       "      <td>0.916017</td>\n",
       "      <td>1.457140</td>\n",
       "      <td>1.457140</td>\n",
       "      <td>0.942882</td>\n",
       "      <td>1.467414</td>\n",
       "      <td>...</td>\n",
       "      <td>-0.196472</td>\n",
       "      <td>-0.196472</td>\n",
       "      <td>-0.196472</td>\n",
       "      <td>-0.196472</td>\n",
       "      <td>-0.196472</td>\n",
       "      <td>-0.196472</td>\n",
       "      <td>-0.196472</td>\n",
       "      <td>-0.196472</td>\n",
       "      <td>-0.183557</td>\n",
       "      <td>2</td>\n",
       "    </tr>\n",
       "    <tr>\n",
       "      <td>2</td>\n",
       "      <td>-1.939546</td>\n",
       "      <td>-1.243703</td>\n",
       "      <td>1.475018</td>\n",
       "      <td>-0.157894</td>\n",
       "      <td>1.035542</td>\n",
       "      <td>-0.094228</td>\n",
       "      <td>0.900472</td>\n",
       "      <td>0.900472</td>\n",
       "      <td>-0.840993</td>\n",
       "      <td>0.410870</td>\n",
       "      <td>...</td>\n",
       "      <td>-0.196472</td>\n",
       "      <td>5.089794</td>\n",
       "      <td>-0.196472</td>\n",
       "      <td>-0.196472</td>\n",
       "      <td>-0.196472</td>\n",
       "      <td>-0.196472</td>\n",
       "      <td>-0.196472</td>\n",
       "      <td>-0.196472</td>\n",
       "      <td>-0.183557</td>\n",
       "      <td>4</td>\n",
       "    </tr>\n",
       "    <tr>\n",
       "      <td>3</td>\n",
       "      <td>0.292938</td>\n",
       "      <td>0.395544</td>\n",
       "      <td>-0.814202</td>\n",
       "      <td>-1.010281</td>\n",
       "      <td>-0.741371</td>\n",
       "      <td>-0.091497</td>\n",
       "      <td>-1.604531</td>\n",
       "      <td>-1.604531</td>\n",
       "      <td>0.338527</td>\n",
       "      <td>-0.701282</td>\n",
       "      <td>...</td>\n",
       "      <td>-0.196472</td>\n",
       "      <td>-0.196472</td>\n",
       "      <td>-0.196472</td>\n",
       "      <td>5.089794</td>\n",
       "      <td>-0.196472</td>\n",
       "      <td>-0.196472</td>\n",
       "      <td>-0.196472</td>\n",
       "      <td>-0.196472</td>\n",
       "      <td>-0.183557</td>\n",
       "      <td>2</td>\n",
       "    </tr>\n",
       "    <tr>\n",
       "      <td>4</td>\n",
       "      <td>1.409180</td>\n",
       "      <td>-0.022987</td>\n",
       "      <td>1.932862</td>\n",
       "      <td>-0.157894</td>\n",
       "      <td>-1.261818</td>\n",
       "      <td>-0.731319</td>\n",
       "      <td>1.178806</td>\n",
       "      <td>1.178806</td>\n",
       "      <td>0.733239</td>\n",
       "      <td>0.633300</td>\n",
       "      <td>...</td>\n",
       "      <td>-0.196472</td>\n",
       "      <td>-0.196472</td>\n",
       "      <td>-0.196472</td>\n",
       "      <td>-0.196472</td>\n",
       "      <td>-0.196472</td>\n",
       "      <td>-0.196472</td>\n",
       "      <td>-0.196472</td>\n",
       "      <td>-0.196472</td>\n",
       "      <td>-0.183557</td>\n",
       "      <td>1</td>\n",
       "    </tr>\n",
       "  </tbody>\n",
       "</table>\n",
       "<p>5 rows × 97 columns</p>\n",
       "</div>"
      ],
      "text/plain": [
       "   condition  length(m)        X1        X2  height(m)  duration  \\\n",
       "0   1.409180   1.023341  1.169789  1.262750  -1.514343 -0.712206   \n",
       "1   0.292938   0.744320  1.169789  1.262750  -1.020842  0.916017   \n",
       "2  -1.939546  -1.243703  1.475018 -0.157894   1.035542 -0.094228   \n",
       "3   0.292938   0.395544 -0.814202 -1.010281  -0.741371 -0.091497   \n",
       "4   1.409180  -0.022987  1.932862 -0.157894  -1.261818 -0.731319   \n",
       "\n",
       "   listing_month  issue_month     ratio   X1mulX2  ...  1st2num_ANSL_68  \\\n",
       "0       0.622139     0.622139  2.916819  1.467414  ...        -0.196472   \n",
       "1       1.457140     1.457140  0.942882  1.467414  ...        -0.196472   \n",
       "2       0.900472     0.900472 -0.840993  0.410870  ...        -0.196472   \n",
       "3      -1.604531    -1.604531  0.338527 -0.701282  ...        -0.196472   \n",
       "4       1.178806     1.178806  0.733239  0.633300  ...        -0.196472   \n",
       "\n",
       "   1st2num_ANSL_69  1st2num_ANSL_70  1st2num_ANSL_71  1st2num_ANSL_72  \\\n",
       "0         5.089794        -0.196472        -0.196472        -0.196472   \n",
       "1        -0.196472        -0.196472        -0.196472        -0.196472   \n",
       "2         5.089794        -0.196472        -0.196472        -0.196472   \n",
       "3        -0.196472        -0.196472         5.089794        -0.196472   \n",
       "4        -0.196472        -0.196472        -0.196472        -0.196472   \n",
       "\n",
       "   1st2num_ANSL_73  1st2num_ANSL_74  1st2num_ANSL_75  1st2num_ANSL_76  \\\n",
       "0        -0.196472        -0.196472        -0.196472        -0.183557   \n",
       "1        -0.196472        -0.196472        -0.196472        -0.183557   \n",
       "2        -0.196472        -0.196472        -0.196472        -0.183557   \n",
       "3        -0.196472        -0.196472        -0.196472        -0.183557   \n",
       "4        -0.196472        -0.196472        -0.196472        -0.183557   \n",
       "\n",
       "   pet_category  \n",
       "0             1  \n",
       "1             2  \n",
       "2             4  \n",
       "3             2  \n",
       "4             1  \n",
       "\n",
       "[5 rows x 97 columns]"
      ]
     },
     "execution_count": 67,
     "metadata": {},
     "output_type": "execute_result"
    }
   ],
   "source": [
    "train_final.head()"
   ]
  },
  {
   "cell_type": "markdown",
   "metadata": {},
   "source": [
    "# Model 2 for predicting 'breed_category'"
   ]
  },
  {
   "cell_type": "code",
   "execution_count": 68,
   "metadata": {},
   "outputs": [],
   "source": [
    "y_breed=train['breed_category']\n",
    "X_train_breed, X_val_breed, y_train_breed, y_val_breed = train_test_split(train_final, y_breed, test_size=0.2,random_state=101)"
   ]
  },
  {
   "cell_type": "markdown",
   "metadata": {},
   "source": [
    "## Hyperparameter Tuning for Model 2"
   ]
  },
  {
   "cell_type": "raw",
   "metadata": {},
   "source": [
    "clf_xgb_breed = XGBClassifier(objective = 'multi:softmax', num_class=3)\n",
    "param_dist = {'n_estimators': [100,200,400,600],\n",
    "              'learning_rate': [0.01,0.1,0.3,0.5],\n",
    "              'max_depth': [5, 6, 7, 8, 9],\n",
    "              'subsample':[i/10.0 for i in range(6,10)],\n",
    "              'colsample_bytree':[i/10.0 for i in range(6,10)],\n",
    "              'min_child_weight': [1, 2, 4, 6],\n",
    "              'gamma':[i/10.0 for i in range(1,5)],\n",
    "              'reg_alpha':[i/10.0 for i in range(1,5)]\n",
    "             }"
   ]
  },
  {
   "cell_type": "raw",
   "metadata": {},
   "source": [
    "clf_breed = RandomizedSearchCV(clf_xgb_breed, \n",
    "                         param_distributions = param_dist,\n",
    "                         cv = 3,  \n",
    "                         n_iter = 10, \n",
    "                         error_score = 0, \n",
    "                         verbose = 3, \n",
    "                         n_jobs = -1)"
   ]
  },
  {
   "cell_type": "code",
   "execution_count": 69,
   "metadata": {},
   "outputs": [],
   "source": [
    "#clf_breed.fit(X_train_breed,y_train_breed)"
   ]
  },
  {
   "cell_type": "code",
   "execution_count": 70,
   "metadata": {},
   "outputs": [],
   "source": [
    "#clf_breed.best_estimator_"
   ]
  },
  {
   "cell_type": "raw",
   "metadata": {},
   "source": [
    "model_breed=XGBClassifier(base_score=0.5, booster=None, colsample_bylevel=1,\n",
    "              colsample_bynode=1, colsample_bytree=0.7, gamma=0.3, gpu_id=-1,\n",
    "              importance_type='gain', interaction_constraints=None,\n",
    "              learning_rate=0.01, max_delta_step=0, max_depth=9,\n",
    "              min_child_weight=1, monotone_constraints=None,\n",
    "              n_estimators=400, n_jobs=0, num_class=3, num_parallel_tree=1,\n",
    "              objective='multi:softprob', random_state=0, reg_alpha=0.2,\n",
    "              reg_lambda=0.2, scale_pos_weight=None, subsample=0.8,\n",
    "              tree_method=None, validate_parameters=False, verbosity=None)\n",
    "\n",
    "got 90.84 accuracy"
   ]
  },
  {
   "cell_type": "code",
   "execution_count": 71,
   "metadata": {},
   "outputs": [],
   "source": [
    "#got 90.84950 score\n",
    "model_breed=XGBClassifier(base_score=0.5, booster='gbtree', colsample_bylevel=1,\n",
    "              colsample_bynode=1, colsample_bytree=0.7, gamma=0.3, gpu_id=-1,\n",
    "              importance_type='gain', interaction_constraints=None,\n",
    "              learning_rate=0.01, max_delta_step=0, max_depth=9,\n",
    "              min_child_weight=1, monotone_constraints=None,\n",
    "              n_estimators=400, n_jobs=0, num_class=3, num_parallel_tree=1,\n",
    "              objective='multi:softprob', random_state=0, reg_alpha=0.2,\n",
    "              reg_lambda=0.2, scale_pos_weight=None, subsample=0.8,\n",
    "              tree_method='exact', validate_parameters=False, verbosity=None)"
   ]
  },
  {
   "cell_type": "code",
   "execution_count": 72,
   "metadata": {},
   "outputs": [
    {
     "data": {
      "text/plain": [
       "XGBClassifier(base_score=0.5, booster='gbtree', colsample_bylevel=1,\n",
       "              colsample_bynode=1, colsample_bytree=0.7, gamma=0.3, gpu_id=-1,\n",
       "              importance_type='gain', interaction_constraints=None,\n",
       "              learning_rate=0.01, max_delta_step=0, max_depth=9,\n",
       "              min_child_weight=1, missing=nan, monotone_constraints=None,\n",
       "              n_estimators=400, n_jobs=0, num_class=3, num_parallel_tree=1,\n",
       "              objective='multi:softprob', random_state=0, reg_alpha=0.2,\n",
       "              reg_lambda=0.2, scale_pos_weight=None, subsample=0.8,\n",
       "              tree_method='exact', validate_parameters=False, verbosity=None)"
      ]
     },
     "execution_count": 72,
     "metadata": {},
     "output_type": "execute_result"
    }
   ],
   "source": [
    "model_breed.fit(X_train_breed,y_train_breed)"
   ]
  },
  {
   "cell_type": "code",
   "execution_count": 73,
   "metadata": {},
   "outputs": [],
   "source": [
    "val_pred_breed=model_breed.predict(X_val_breed)"
   ]
  },
  {
   "cell_type": "code",
   "execution_count": 74,
   "metadata": {},
   "outputs": [
    {
     "name": "stdout",
     "output_type": "stream",
     "text": [
      "              precision    recall  f1-score   support\n",
      "\n",
      "           0       0.88      0.94      0.91      1787\n",
      "           1       0.93      0.87      0.90      1673\n",
      "           2       1.00      1.00      1.00       307\n",
      "\n",
      "    accuracy                           0.91      3767\n",
      "   macro avg       0.94      0.94      0.94      3767\n",
      "weighted avg       0.91      0.91      0.91      3767\n",
      "\n"
     ]
    }
   ],
   "source": [
    "print(classification_report(y_val_breed,val_pred_breed))"
   ]
  },
  {
   "cell_type": "code",
   "execution_count": 75,
   "metadata": {},
   "outputs": [],
   "source": [
    "test_breed_pred= model_breed.predict(test_final)"
   ]
  },
  {
   "cell_type": "code",
   "execution_count": 76,
   "metadata": {},
   "outputs": [
    {
     "data": {
      "text/plain": [
       "array([1, 0, 0, ..., 1, 2, 1])"
      ]
     },
     "execution_count": 76,
     "metadata": {},
     "output_type": "execute_result"
    }
   ],
   "source": [
    "test_breed_pred"
   ]
  },
  {
   "cell_type": "code",
   "execution_count": 77,
   "metadata": {},
   "outputs": [],
   "source": [
    "breed_category= pd.DataFrame(data= test_breed_pred,columns=['breed_category'])"
   ]
  },
  {
   "cell_type": "markdown",
   "metadata": {},
   "source": [
    "## Combining predicted categories of test set"
   ]
  },
  {
   "cell_type": "code",
   "execution_count": 78,
   "metadata": {},
   "outputs": [],
   "source": [
    "submission=pd.concat([test['pet_id'],breed_category,pet_category],sort=False,axis=1)"
   ]
  },
  {
   "cell_type": "code",
   "execution_count": 79,
   "metadata": {},
   "outputs": [],
   "source": [
    "submission.to_csv('final_output.csv',index=False)"
   ]
  },
  {
   "cell_type": "code",
   "execution_count": 80,
   "metadata": {},
   "outputs": [
    {
     "data": {
      "text/html": [
       "<div>\n",
       "<style scoped>\n",
       "    .dataframe tbody tr th:only-of-type {\n",
       "        vertical-align: middle;\n",
       "    }\n",
       "\n",
       "    .dataframe tbody tr th {\n",
       "        vertical-align: top;\n",
       "    }\n",
       "\n",
       "    .dataframe thead th {\n",
       "        text-align: right;\n",
       "    }\n",
       "</style>\n",
       "<table border=\"1\" class=\"dataframe\">\n",
       "  <thead>\n",
       "    <tr style=\"text-align: right;\">\n",
       "      <th></th>\n",
       "      <th>pet_id</th>\n",
       "      <th>breed_category</th>\n",
       "      <th>pet_category</th>\n",
       "    </tr>\n",
       "  </thead>\n",
       "  <tbody>\n",
       "    <tr>\n",
       "      <td>0</td>\n",
       "      <td>ANSL_75005</td>\n",
       "      <td>1</td>\n",
       "      <td>2</td>\n",
       "    </tr>\n",
       "    <tr>\n",
       "      <td>1</td>\n",
       "      <td>ANSL_76663</td>\n",
       "      <td>0</td>\n",
       "      <td>1</td>\n",
       "    </tr>\n",
       "    <tr>\n",
       "      <td>2</td>\n",
       "      <td>ANSL_58259</td>\n",
       "      <td>0</td>\n",
       "      <td>2</td>\n",
       "    </tr>\n",
       "    <tr>\n",
       "      <td>3</td>\n",
       "      <td>ANSL_67171</td>\n",
       "      <td>0</td>\n",
       "      <td>2</td>\n",
       "    </tr>\n",
       "    <tr>\n",
       "      <td>4</td>\n",
       "      <td>ANSL_72871</td>\n",
       "      <td>0</td>\n",
       "      <td>2</td>\n",
       "    </tr>\n",
       "    <tr>\n",
       "      <td>...</td>\n",
       "      <td>...</td>\n",
       "      <td>...</td>\n",
       "      <td>...</td>\n",
       "    </tr>\n",
       "    <tr>\n",
       "      <td>8067</td>\n",
       "      <td>ANSL_66809</td>\n",
       "      <td>0</td>\n",
       "      <td>2</td>\n",
       "    </tr>\n",
       "    <tr>\n",
       "      <td>8068</td>\n",
       "      <td>ANSL_59041</td>\n",
       "      <td>1</td>\n",
       "      <td>2</td>\n",
       "    </tr>\n",
       "    <tr>\n",
       "      <td>8069</td>\n",
       "      <td>ANSL_60034</td>\n",
       "      <td>1</td>\n",
       "      <td>2</td>\n",
       "    </tr>\n",
       "    <tr>\n",
       "      <td>8070</td>\n",
       "      <td>ANSL_58066</td>\n",
       "      <td>2</td>\n",
       "      <td>4</td>\n",
       "    </tr>\n",
       "    <tr>\n",
       "      <td>8071</td>\n",
       "      <td>ANSL_69436</td>\n",
       "      <td>1</td>\n",
       "      <td>2</td>\n",
       "    </tr>\n",
       "  </tbody>\n",
       "</table>\n",
       "<p>8072 rows × 3 columns</p>\n",
       "</div>"
      ],
      "text/plain": [
       "          pet_id  breed_category  pet_category\n",
       "0     ANSL_75005               1             2\n",
       "1     ANSL_76663               0             1\n",
       "2     ANSL_58259               0             2\n",
       "3     ANSL_67171               0             2\n",
       "4     ANSL_72871               0             2\n",
       "...          ...             ...           ...\n",
       "8067  ANSL_66809               0             2\n",
       "8068  ANSL_59041               1             2\n",
       "8069  ANSL_60034               1             2\n",
       "8070  ANSL_58066               2             4\n",
       "8071  ANSL_69436               1             2\n",
       "\n",
       "[8072 rows x 3 columns]"
      ]
     },
     "execution_count": 80,
     "metadata": {},
     "output_type": "execute_result"
    }
   ],
   "source": [
    "pd.read_csv('final_output.csv')"
   ]
  }
 ],
 "metadata": {
  "kernelspec": {
   "display_name": "Python 3",
   "language": "python",
   "name": "python3"
  },
  "language_info": {
   "codemirror_mode": {
    "name": "ipython",
    "version": 3
   },
   "file_extension": ".py",
   "mimetype": "text/x-python",
   "name": "python",
   "nbconvert_exporter": "python",
   "pygments_lexer": "ipython3",
   "version": "3.7.4"
  }
 },
 "nbformat": 4,
 "nbformat_minor": 2
}
