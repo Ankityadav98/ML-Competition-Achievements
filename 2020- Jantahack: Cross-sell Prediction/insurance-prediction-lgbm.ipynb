{
 "cells": [
  {
   "cell_type": "markdown",
   "metadata": {
    "papermill": {
     "duration": 0.049064,
     "end_time": "2020-09-21T06:00:18.005659",
     "exception": false,
     "start_time": "2020-09-21T06:00:17.956595",
     "status": "completed"
    },
    "tags": []
   },
   "source": [
    "# Problem Statement\n",
    "\n",
    "Our client is an Insurance company that has provided Health Insurance to its customers now they need your help in building a model to predict whether the policyholders (customers) from past year will also be interested in Vehicle Insurance provided by the company.\n",
    "\n",
    "An insurance policy is an arrangement by which a company undertakes to provide a guarantee of compensation for specified loss, damage, illness, or death in return for the payment of a specified premium. A premium is a sum of money that the customer needs to pay regularly to an insurance company for this guarantee.\n",
    "\n",
    "For example, you may pay a premium of Rs. 5000 each year for a health insurance cover of Rs. 200,000/- so that if, God forbid, you fall ill and need to be hospitalised in that year, the insurance provider company will bear the cost of hospitalisation etc. for upto Rs. 200,000. Now if you are wondering how can company bear such high hospitalisation cost when it charges a premium of only Rs. 5000/-, that is where the concept of probabilities comes in picture. For example, like you, there may be 100 customers who would be paying a premium of Rs. 5000 every year, but only a few of them (say 2-3) would get hospitalised that year and not everyone. This way everyone shares the risk of everyone else.\n",
    "\n",
    "Just like medical insurance, there is vehicle insurance where every year customer needs to pay a premium of certain amount to insurance provider company so that in case of unfortunate accident by the vehicle, the insurance provider company will provide a compensation (called ‘sum assured’) to the customer.\n",
    "\n",
    "# Task\n",
    "\n",
    "Building a model to predict whether a customer would be interested in Vehicle Insurance is extremely helpful for the company because it can then accordingly plan its communication strategy to reach out to those customers and optimise its business model and revenue.\n",
    "\n",
    "Now, in order to predict, whether the customer would be interested in Vehicle insurance, you have information about demographics (gender, age, region code type), Vehicles (Vehicle Age, Damage), Policy (Premium, sourcing channel) etc.\n",
    "\n",
    "# Data Description\n",
    "\n",
    "* id: Unique ID for the customer\n",
    "* Gender: Gender of the customer\n",
    "* Age: Age of the customer\n",
    "* Driving_License:\n",
    "    * 0 : Customer does not have DL\n",
    "    * 1 : Customer already has DL\n",
    "* Region_Code: Unique code for the region of the customer\n",
    "* Previously_Insured:\n",
    "    * 1 : Customer already has Vehicle Insurance\n",
    "    * 0 : Customer doesn't have Vehicle Insurance\n",
    "* Vehicle_Age: Age of the Vehicle\n",
    "* Vehicle_Damage:\n",
    "    * 1 : Customer got his/her vehicle damaged in the past.\n",
    "    * 0 : Customer didn't get his/her vehicle damaged in the past.\n",
    "* Annual_Premium: The amount customer needs to pay as premium in the year\n",
    "* PolicySalesChannel: Anonymized Code for the channel of outreaching to the customer ie. Different Agents, Over Mail, Over Phone, In Person, etc.\n",
    "* Vintage: Number of Days, Customer has been associated with the company\n",
    "* Response:\n",
    "    * 1 : Customer is interested\n",
    "    * 0 : Customer is not interested\n",
    "    \n",
    "# Leaderboard\n",
    "* Public LB: 85.80% (rank=135)\n",
    "* Private LB: 86.28% (rank=105)\n",
    "\n",
    "[Link to the Leaderboard.](https://datahack.analyticsvidhya.com/contest/janatahack-cross-sell-prediction/#LeaderBoard)"
   ]
  },
  {
   "cell_type": "markdown",
   "metadata": {
    "papermill": {
     "duration": 0.043633,
     "end_time": "2020-09-21T06:00:18.094333",
     "exception": false,
     "start_time": "2020-09-21T06:00:18.050700",
     "status": "completed"
    },
    "tags": []
   },
   "source": [
    "# **Importing Libraries**"
   ]
  },
  {
   "cell_type": "code",
   "execution_count": 1,
   "metadata": {
    "execution": {
     "iopub.execute_input": "2020-09-21T06:00:18.196974Z",
     "iopub.status.busy": "2020-09-21T06:00:18.196248Z",
     "iopub.status.idle": "2020-09-21T06:00:19.972237Z",
     "shell.execute_reply": "2020-09-21T06:00:19.971345Z"
    },
    "papermill": {
     "duration": 1.833302,
     "end_time": "2020-09-21T06:00:19.972432",
     "exception": false,
     "start_time": "2020-09-21T06:00:18.139130",
     "status": "completed"
    },
    "tags": []
   },
   "outputs": [
    {
     "name": "stdout",
     "output_type": "stream",
     "text": [
      "/kaggle/input/health-insurance-cross-sell-prediction/train.csv\n",
      "/kaggle/input/health-insurance-cross-sell-prediction/test.csv\n",
      "/kaggle/input/health-insurance-cross-sell-prediction/sample_submission.csv\n"
     ]
    }
   ],
   "source": [
    "import numpy as np\n",
    "import pandas as pd\n",
    "import seaborn as sns\n",
    "import matplotlib.pyplot as plt\n",
    "%matplotlib inline\n",
    "\n",
    "from sklearn.preprocessing import StandardScaler\n",
    "from sklearn.model_selection import train_test_split\n",
    "from sklearn.metrics import roc_auc_score\n",
    "from lightgbm import LGBMClassifier\n",
    "from sklearn.model_selection import RandomizedSearchCV\n",
    "from imblearn.over_sampling import RandomOverSampler\n",
    "from collections import Counter\n",
    "from sklearn.model_selection import ShuffleSplit, cross_val_score\n",
    "\n",
    "import os\n",
    "for dirname, _, filenames in os.walk('/kaggle/input'):\n",
    "    for filename in filenames:\n",
    "        print(os.path.join(dirname, filename))"
   ]
  },
  {
   "cell_type": "markdown",
   "metadata": {
    "papermill": {
     "duration": 0.045427,
     "end_time": "2020-09-21T06:00:20.066763",
     "exception": false,
     "start_time": "2020-09-21T06:00:20.021336",
     "status": "completed"
    },
    "tags": []
   },
   "source": [
    "# Loading the data"
   ]
  },
  {
   "cell_type": "code",
   "execution_count": 2,
   "metadata": {
    "execution": {
     "iopub.execute_input": "2020-09-21T06:00:20.165720Z",
     "iopub.status.busy": "2020-09-21T06:00:20.165002Z",
     "iopub.status.idle": "2020-09-21T06:00:20.896419Z",
     "shell.execute_reply": "2020-09-21T06:00:20.894844Z"
    },
    "papermill": {
     "duration": 0.784816,
     "end_time": "2020-09-21T06:00:20.896563",
     "exception": false,
     "start_time": "2020-09-21T06:00:20.111747",
     "status": "completed"
    },
    "tags": []
   },
   "outputs": [],
   "source": [
    "train_orig= pd.read_csv('/kaggle/input/health-insurance-cross-sell-prediction/train.csv')\n",
    "test_orig= pd.read_csv('/kaggle/input/health-insurance-cross-sell-prediction/test.csv')\n",
    "subm= pd.read_csv('/kaggle/input/health-insurance-cross-sell-prediction/sample_submission.csv')"
   ]
  },
  {
   "cell_type": "code",
   "execution_count": 3,
   "metadata": {
    "execution": {
     "iopub.execute_input": "2020-09-21T06:00:21.003007Z",
     "iopub.status.busy": "2020-09-21T06:00:21.001882Z",
     "iopub.status.idle": "2020-09-21T06:00:21.019345Z",
     "shell.execute_reply": "2020-09-21T06:00:21.018783Z"
    },
    "papermill": {
     "duration": 0.077754,
     "end_time": "2020-09-21T06:00:21.019477",
     "exception": false,
     "start_time": "2020-09-21T06:00:20.941723",
     "status": "completed"
    },
    "tags": []
   },
   "outputs": [
    {
     "data": {
      "text/html": [
       "<div>\n",
       "<style scoped>\n",
       "    .dataframe tbody tr th:only-of-type {\n",
       "        vertical-align: middle;\n",
       "    }\n",
       "\n",
       "    .dataframe tbody tr th {\n",
       "        vertical-align: top;\n",
       "    }\n",
       "\n",
       "    .dataframe thead th {\n",
       "        text-align: right;\n",
       "    }\n",
       "</style>\n",
       "<table border=\"1\" class=\"dataframe\">\n",
       "  <thead>\n",
       "    <tr style=\"text-align: right;\">\n",
       "      <th></th>\n",
       "      <th>id</th>\n",
       "      <th>Gender</th>\n",
       "      <th>Age</th>\n",
       "      <th>Driving_License</th>\n",
       "      <th>Region_Code</th>\n",
       "      <th>Previously_Insured</th>\n",
       "      <th>Vehicle_Age</th>\n",
       "      <th>Vehicle_Damage</th>\n",
       "      <th>Annual_Premium</th>\n",
       "      <th>Policy_Sales_Channel</th>\n",
       "      <th>Vintage</th>\n",
       "      <th>Response</th>\n",
       "    </tr>\n",
       "  </thead>\n",
       "  <tbody>\n",
       "    <tr>\n",
       "      <th>0</th>\n",
       "      <td>1</td>\n",
       "      <td>Male</td>\n",
       "      <td>44</td>\n",
       "      <td>1</td>\n",
       "      <td>28.0</td>\n",
       "      <td>0</td>\n",
       "      <td>&gt; 2 Years</td>\n",
       "      <td>Yes</td>\n",
       "      <td>40454.0</td>\n",
       "      <td>26.0</td>\n",
       "      <td>217</td>\n",
       "      <td>1</td>\n",
       "    </tr>\n",
       "    <tr>\n",
       "      <th>1</th>\n",
       "      <td>2</td>\n",
       "      <td>Male</td>\n",
       "      <td>76</td>\n",
       "      <td>1</td>\n",
       "      <td>3.0</td>\n",
       "      <td>0</td>\n",
       "      <td>1-2 Year</td>\n",
       "      <td>No</td>\n",
       "      <td>33536.0</td>\n",
       "      <td>26.0</td>\n",
       "      <td>183</td>\n",
       "      <td>0</td>\n",
       "    </tr>\n",
       "    <tr>\n",
       "      <th>2</th>\n",
       "      <td>3</td>\n",
       "      <td>Male</td>\n",
       "      <td>47</td>\n",
       "      <td>1</td>\n",
       "      <td>28.0</td>\n",
       "      <td>0</td>\n",
       "      <td>&gt; 2 Years</td>\n",
       "      <td>Yes</td>\n",
       "      <td>38294.0</td>\n",
       "      <td>26.0</td>\n",
       "      <td>27</td>\n",
       "      <td>1</td>\n",
       "    </tr>\n",
       "    <tr>\n",
       "      <th>3</th>\n",
       "      <td>4</td>\n",
       "      <td>Male</td>\n",
       "      <td>21</td>\n",
       "      <td>1</td>\n",
       "      <td>11.0</td>\n",
       "      <td>1</td>\n",
       "      <td>&lt; 1 Year</td>\n",
       "      <td>No</td>\n",
       "      <td>28619.0</td>\n",
       "      <td>152.0</td>\n",
       "      <td>203</td>\n",
       "      <td>0</td>\n",
       "    </tr>\n",
       "    <tr>\n",
       "      <th>4</th>\n",
       "      <td>5</td>\n",
       "      <td>Female</td>\n",
       "      <td>29</td>\n",
       "      <td>1</td>\n",
       "      <td>41.0</td>\n",
       "      <td>1</td>\n",
       "      <td>&lt; 1 Year</td>\n",
       "      <td>No</td>\n",
       "      <td>27496.0</td>\n",
       "      <td>152.0</td>\n",
       "      <td>39</td>\n",
       "      <td>0</td>\n",
       "    </tr>\n",
       "  </tbody>\n",
       "</table>\n",
       "</div>"
      ],
      "text/plain": [
       "   id  Gender  Age  Driving_License  Region_Code  Previously_Insured  \\\n",
       "0   1    Male   44                1         28.0                   0   \n",
       "1   2    Male   76                1          3.0                   0   \n",
       "2   3    Male   47                1         28.0                   0   \n",
       "3   4    Male   21                1         11.0                   1   \n",
       "4   5  Female   29                1         41.0                   1   \n",
       "\n",
       "  Vehicle_Age Vehicle_Damage  Annual_Premium  Policy_Sales_Channel  Vintage  \\\n",
       "0   > 2 Years            Yes         40454.0                  26.0      217   \n",
       "1    1-2 Year             No         33536.0                  26.0      183   \n",
       "2   > 2 Years            Yes         38294.0                  26.0       27   \n",
       "3    < 1 Year             No         28619.0                 152.0      203   \n",
       "4    < 1 Year             No         27496.0                 152.0       39   \n",
       "\n",
       "   Response  \n",
       "0         1  \n",
       "1         0  \n",
       "2         1  \n",
       "3         0  \n",
       "4         0  "
      ]
     },
     "execution_count": 3,
     "metadata": {},
     "output_type": "execute_result"
    }
   ],
   "source": [
    "train_orig.head()"
   ]
  },
  {
   "cell_type": "code",
   "execution_count": 4,
   "metadata": {
    "execution": {
     "iopub.execute_input": "2020-09-21T06:00:21.125686Z",
     "iopub.status.busy": "2020-09-21T06:00:21.124933Z",
     "iopub.status.idle": "2020-09-21T06:00:21.130026Z",
     "shell.execute_reply": "2020-09-21T06:00:21.129493Z"
    },
    "papermill": {
     "duration": 0.066184,
     "end_time": "2020-09-21T06:00:21.130162",
     "exception": false,
     "start_time": "2020-09-21T06:00:21.063978",
     "status": "completed"
    },
    "tags": []
   },
   "outputs": [
    {
     "data": {
      "text/html": [
       "<div>\n",
       "<style scoped>\n",
       "    .dataframe tbody tr th:only-of-type {\n",
       "        vertical-align: middle;\n",
       "    }\n",
       "\n",
       "    .dataframe tbody tr th {\n",
       "        vertical-align: top;\n",
       "    }\n",
       "\n",
       "    .dataframe thead th {\n",
       "        text-align: right;\n",
       "    }\n",
       "</style>\n",
       "<table border=\"1\" class=\"dataframe\">\n",
       "  <thead>\n",
       "    <tr style=\"text-align: right;\">\n",
       "      <th></th>\n",
       "      <th>id</th>\n",
       "      <th>Gender</th>\n",
       "      <th>Age</th>\n",
       "      <th>Driving_License</th>\n",
       "      <th>Region_Code</th>\n",
       "      <th>Previously_Insured</th>\n",
       "      <th>Vehicle_Age</th>\n",
       "      <th>Vehicle_Damage</th>\n",
       "      <th>Annual_Premium</th>\n",
       "      <th>Policy_Sales_Channel</th>\n",
       "      <th>Vintage</th>\n",
       "    </tr>\n",
       "  </thead>\n",
       "  <tbody>\n",
       "    <tr>\n",
       "      <th>0</th>\n",
       "      <td>381110</td>\n",
       "      <td>Male</td>\n",
       "      <td>25</td>\n",
       "      <td>1</td>\n",
       "      <td>11.0</td>\n",
       "      <td>1</td>\n",
       "      <td>&lt; 1 Year</td>\n",
       "      <td>No</td>\n",
       "      <td>35786.0</td>\n",
       "      <td>152.0</td>\n",
       "      <td>53</td>\n",
       "    </tr>\n",
       "    <tr>\n",
       "      <th>1</th>\n",
       "      <td>381111</td>\n",
       "      <td>Male</td>\n",
       "      <td>40</td>\n",
       "      <td>1</td>\n",
       "      <td>28.0</td>\n",
       "      <td>0</td>\n",
       "      <td>1-2 Year</td>\n",
       "      <td>Yes</td>\n",
       "      <td>33762.0</td>\n",
       "      <td>7.0</td>\n",
       "      <td>111</td>\n",
       "    </tr>\n",
       "    <tr>\n",
       "      <th>2</th>\n",
       "      <td>381112</td>\n",
       "      <td>Male</td>\n",
       "      <td>47</td>\n",
       "      <td>1</td>\n",
       "      <td>28.0</td>\n",
       "      <td>0</td>\n",
       "      <td>1-2 Year</td>\n",
       "      <td>Yes</td>\n",
       "      <td>40050.0</td>\n",
       "      <td>124.0</td>\n",
       "      <td>199</td>\n",
       "    </tr>\n",
       "    <tr>\n",
       "      <th>3</th>\n",
       "      <td>381113</td>\n",
       "      <td>Male</td>\n",
       "      <td>24</td>\n",
       "      <td>1</td>\n",
       "      <td>27.0</td>\n",
       "      <td>1</td>\n",
       "      <td>&lt; 1 Year</td>\n",
       "      <td>Yes</td>\n",
       "      <td>37356.0</td>\n",
       "      <td>152.0</td>\n",
       "      <td>187</td>\n",
       "    </tr>\n",
       "    <tr>\n",
       "      <th>4</th>\n",
       "      <td>381114</td>\n",
       "      <td>Male</td>\n",
       "      <td>27</td>\n",
       "      <td>1</td>\n",
       "      <td>28.0</td>\n",
       "      <td>1</td>\n",
       "      <td>&lt; 1 Year</td>\n",
       "      <td>No</td>\n",
       "      <td>59097.0</td>\n",
       "      <td>152.0</td>\n",
       "      <td>297</td>\n",
       "    </tr>\n",
       "  </tbody>\n",
       "</table>\n",
       "</div>"
      ],
      "text/plain": [
       "       id Gender  Age  Driving_License  Region_Code  Previously_Insured  \\\n",
       "0  381110   Male   25                1         11.0                   1   \n",
       "1  381111   Male   40                1         28.0                   0   \n",
       "2  381112   Male   47                1         28.0                   0   \n",
       "3  381113   Male   24                1         27.0                   1   \n",
       "4  381114   Male   27                1         28.0                   1   \n",
       "\n",
       "  Vehicle_Age Vehicle_Damage  Annual_Premium  Policy_Sales_Channel  Vintage  \n",
       "0    < 1 Year             No         35786.0                 152.0       53  \n",
       "1    1-2 Year            Yes         33762.0                   7.0      111  \n",
       "2    1-2 Year            Yes         40050.0                 124.0      199  \n",
       "3    < 1 Year            Yes         37356.0                 152.0      187  \n",
       "4    < 1 Year             No         59097.0                 152.0      297  "
      ]
     },
     "execution_count": 4,
     "metadata": {},
     "output_type": "execute_result"
    }
   ],
   "source": [
    "test_orig.head()"
   ]
  },
  {
   "cell_type": "markdown",
   "metadata": {
    "papermill": {
     "duration": 0.046149,
     "end_time": "2020-09-21T06:00:21.222314",
     "exception": false,
     "start_time": "2020-09-21T06:00:21.176165",
     "status": "completed"
    },
    "tags": []
   },
   "source": [
    "# Exploratory Data Analysis"
   ]
  },
  {
   "cell_type": "code",
   "execution_count": 5,
   "metadata": {
    "execution": {
     "iopub.execute_input": "2020-09-21T06:00:21.354217Z",
     "iopub.status.busy": "2020-09-21T06:00:21.353196Z",
     "iopub.status.idle": "2020-09-21T06:00:21.512372Z",
     "shell.execute_reply": "2020-09-21T06:00:21.511623Z"
    },
    "papermill": {
     "duration": 0.236782,
     "end_time": "2020-09-21T06:00:21.512508",
     "exception": false,
     "start_time": "2020-09-21T06:00:21.275726",
     "status": "completed"
    },
    "tags": []
   },
   "outputs": [
    {
     "data": {
      "text/plain": [
       "id                      0\n",
       "Gender                  0\n",
       "Age                     0\n",
       "Driving_License         0\n",
       "Region_Code             0\n",
       "Previously_Insured      0\n",
       "Vehicle_Age             0\n",
       "Vehicle_Damage          0\n",
       "Annual_Premium          0\n",
       "Policy_Sales_Channel    0\n",
       "Vintage                 0\n",
       "Response                0\n",
       "dtype: int64"
      ]
     },
     "execution_count": 5,
     "metadata": {},
     "output_type": "execute_result"
    }
   ],
   "source": [
    "train_orig.isna().sum()"
   ]
  },
  {
   "cell_type": "code",
   "execution_count": 6,
   "metadata": {
    "execution": {
     "iopub.execute_input": "2020-09-21T06:00:21.612423Z",
     "iopub.status.busy": "2020-09-21T06:00:21.611676Z",
     "iopub.status.idle": "2020-09-21T06:00:21.665688Z",
     "shell.execute_reply": "2020-09-21T06:00:21.664984Z"
    },
    "papermill": {
     "duration": 0.106663,
     "end_time": "2020-09-21T06:00:21.665822",
     "exception": false,
     "start_time": "2020-09-21T06:00:21.559159",
     "status": "completed"
    },
    "tags": []
   },
   "outputs": [
    {
     "data": {
      "text/plain": [
       "id                      0\n",
       "Gender                  0\n",
       "Age                     0\n",
       "Driving_License         0\n",
       "Region_Code             0\n",
       "Previously_Insured      0\n",
       "Vehicle_Age             0\n",
       "Vehicle_Damage          0\n",
       "Annual_Premium          0\n",
       "Policy_Sales_Channel    0\n",
       "Vintage                 0\n",
       "dtype: int64"
      ]
     },
     "execution_count": 6,
     "metadata": {},
     "output_type": "execute_result"
    }
   ],
   "source": [
    "test_orig.isna().sum()"
   ]
  },
  {
   "cell_type": "code",
   "execution_count": 7,
   "metadata": {
    "execution": {
     "iopub.execute_input": "2020-09-21T06:00:21.773965Z",
     "iopub.status.busy": "2020-09-21T06:00:21.772716Z",
     "iopub.status.idle": "2020-09-21T06:00:21.967969Z",
     "shell.execute_reply": "2020-09-21T06:00:21.967185Z"
    },
    "papermill": {
     "duration": 0.253862,
     "end_time": "2020-09-21T06:00:21.968123",
     "exception": false,
     "start_time": "2020-09-21T06:00:21.714261",
     "status": "completed"
    },
    "tags": []
   },
   "outputs": [
    {
     "name": "stdout",
     "output_type": "stream",
     "text": [
      "id\n",
      "Train:381109\n",
      "Test:127037\n",
      "===============================\n",
      "Gender\n",
      "Train:2\n",
      "Test:2\n",
      "===============================\n",
      "Age\n",
      "Train:66\n",
      "Test:66\n",
      "===============================\n",
      "Driving_License\n",
      "Train:2\n",
      "Test:2\n",
      "===============================\n",
      "Region_Code\n",
      "Train:53\n",
      "Test:53\n",
      "===============================\n",
      "Previously_Insured\n",
      "Train:2\n",
      "Test:2\n",
      "===============================\n",
      "Vehicle_Age\n",
      "Train:3\n",
      "Test:3\n",
      "===============================\n",
      "Vehicle_Damage\n",
      "Train:2\n",
      "Test:2\n",
      "===============================\n",
      "Annual_Premium\n",
      "Train:48838\n",
      "Test:36327\n",
      "===============================\n",
      "Policy_Sales_Channel\n",
      "Train:155\n",
      "Test:145\n",
      "===============================\n",
      "Vintage\n",
      "Train:290\n",
      "Test:290\n",
      "===============================\n"
     ]
    }
   ],
   "source": [
    "for col in test_orig.columns:\n",
    "    print(f\"{col}\")\n",
    "    print(f\"Train:{train_orig[col].nunique()}\\nTest:{test_orig[col].nunique()}\")\n",
    "    print(\"===============================\")"
   ]
  },
  {
   "cell_type": "code",
   "execution_count": 8,
   "metadata": {
    "execution": {
     "iopub.execute_input": "2020-09-21T06:00:22.073971Z",
     "iopub.status.busy": "2020-09-21T06:00:22.073098Z",
     "iopub.status.idle": "2020-09-21T06:00:22.225802Z",
     "shell.execute_reply": "2020-09-21T06:00:22.224902Z"
    },
    "papermill": {
     "duration": 0.207337,
     "end_time": "2020-09-21T06:00:22.226026",
     "exception": false,
     "start_time": "2020-09-21T06:00:22.018689",
     "status": "completed"
    },
    "tags": []
   },
   "outputs": [
    {
     "name": "stdout",
     "output_type": "stream",
     "text": [
      "<class 'pandas.core.frame.DataFrame'>\n",
      "RangeIndex: 381109 entries, 0 to 381108\n",
      "Data columns (total 12 columns):\n",
      " #   Column                Non-Null Count   Dtype  \n",
      "---  ------                --------------   -----  \n",
      " 0   id                    381109 non-null  int64  \n",
      " 1   Gender                381109 non-null  object \n",
      " 2   Age                   381109 non-null  int64  \n",
      " 3   Driving_License       381109 non-null  int64  \n",
      " 4   Region_Code           381109 non-null  float64\n",
      " 5   Previously_Insured    381109 non-null  int64  \n",
      " 6   Vehicle_Age           381109 non-null  object \n",
      " 7   Vehicle_Damage        381109 non-null  object \n",
      " 8   Annual_Premium        381109 non-null  float64\n",
      " 9   Policy_Sales_Channel  381109 non-null  float64\n",
      " 10  Vintage               381109 non-null  int64  \n",
      " 11  Response              381109 non-null  int64  \n",
      "dtypes: float64(3), int64(6), object(3)\n",
      "memory usage: 34.9+ MB\n"
     ]
    }
   ],
   "source": [
    "train_orig.info()"
   ]
  },
  {
   "cell_type": "code",
   "execution_count": 9,
   "metadata": {
    "execution": {
     "iopub.execute_input": "2020-09-21T06:00:22.340272Z",
     "iopub.status.busy": "2020-09-21T06:00:22.339479Z",
     "iopub.status.idle": "2020-09-21T06:00:22.542181Z",
     "shell.execute_reply": "2020-09-21T06:00:22.542727Z"
    },
    "papermill": {
     "duration": 0.258286,
     "end_time": "2020-09-21T06:00:22.542920",
     "exception": false,
     "start_time": "2020-09-21T06:00:22.284634",
     "status": "completed"
    },
    "tags": []
   },
   "outputs": [
    {
     "data": {
      "image/png": "[encoded data removed]",
      "text/plain": [
       "<Figure size 432x288 with 1 Axes>"
      ]
     },
     "metadata": {
      "needs_background": "light"
     },
     "output_type": "display_data"
    }
   ],
   "source": [
    "sns.countplot(x='Response',data=train_orig);"
   ]
  },
  {
   "cell_type": "markdown",
   "metadata": {
    "papermill": {
     "duration": 0.053444,
     "end_time": "2020-09-21T06:00:22.647116",
     "exception": false,
     "start_time": "2020-09-21T06:00:22.593672",
     "status": "completed"
    },
    "tags": []
   },
   "source": [
    "**Imbalanced Binary Classification Problem**"
   ]
  },
  {
   "cell_type": "code",
   "execution_count": 10,
   "metadata": {
    "execution": {
     "iopub.execute_input": "2020-09-21T06:00:22.890608Z",
     "iopub.status.busy": "2020-09-21T06:00:22.881110Z",
     "iopub.status.idle": "2020-09-21T06:00:23.356793Z",
     "shell.execute_reply": "2020-09-21T06:00:23.356159Z"
    },
    "papermill": {
     "duration": 0.659947,
     "end_time": "2020-09-21T06:00:23.356942",
     "exception": false,
     "start_time": "2020-09-21T06:00:22.696995",
     "status": "completed"
    },
    "tags": []
   },
   "outputs": [
    {
     "data": {
      "image/png": "[encoded data removed]",
      "text/plain": [
       "<Figure size 864x288 with 2 Axes>"
      ]
     },
     "metadata": {
      "needs_background": "light"
     },
     "output_type": "display_data"
    }
   ],
   "source": [
    "plt.figure(figsize=(12,4))\n",
    "plt.subplot(1,2,1)\n",
    "plt.hist(train_orig['Region_Code'],bins=30,label='Train');\n",
    "plt.legend()\n",
    "plt.subplot(1,2,2)\n",
    "plt.hist(test_orig['Region_Code'],bins=30,label='Test');\n",
    "plt.legend();"
   ]
  },
  {
   "cell_type": "code",
   "execution_count": 11,
   "metadata": {
    "execution": {
     "iopub.execute_input": "2020-09-21T06:00:23.490266Z",
     "iopub.status.busy": "2020-09-21T06:00:23.474865Z",
     "iopub.status.idle": "2020-09-21T06:00:23.848622Z",
     "shell.execute_reply": "2020-09-21T06:00:23.847852Z"
    },
    "papermill": {
     "duration": 0.43057,
     "end_time": "2020-09-21T06:00:23.848762",
     "exception": false,
     "start_time": "2020-09-21T06:00:23.418192",
     "status": "completed"
    },
    "tags": []
   },
   "outputs": [
    {
     "data": {
      "image/png": "[encoded data removed]",
      "text/plain": [
       "<Figure size 432x288 with 1 Axes>"
      ]
     },
     "metadata": {
      "needs_background": "light"
     },
     "output_type": "display_data"
    }
   ],
   "source": [
    "sns.distplot(train_orig['Age']);"
   ]
  },
  {
   "cell_type": "code",
   "execution_count": 12,
   "metadata": {
    "execution": {
     "iopub.execute_input": "2020-09-21T06:00:23.966599Z",
     "iopub.status.busy": "2020-09-21T06:00:23.965677Z",
     "iopub.status.idle": "2020-09-21T06:00:24.333887Z",
     "shell.execute_reply": "2020-09-21T06:00:24.333135Z"
    },
    "papermill": {
     "duration": 0.432278,
     "end_time": "2020-09-21T06:00:24.334013",
     "exception": false,
     "start_time": "2020-09-21T06:00:23.901735",
     "status": "completed"
    },
    "tags": []
   },
   "outputs": [
    {
     "data": {
      "image/png": "[encoded data removed]",
      "text/plain": [
       "<Figure size 432x288 with 1 Axes>"
      ]
     },
     "metadata": {
      "needs_background": "light"
     },
     "output_type": "display_data"
    }
   ],
   "source": [
    "sns.countplot(x='Gender',data=train_orig,hue='Response');"
   ]
  },
  {
   "cell_type": "code",
   "execution_count": 13,
   "metadata": {
    "execution": {
     "iopub.execute_input": "2020-09-21T06:00:24.446181Z",
     "iopub.status.busy": "2020-09-21T06:00:24.445350Z",
     "iopub.status.idle": "2020-09-21T06:00:24.831274Z",
     "shell.execute_reply": "2020-09-21T06:00:24.832248Z"
    },
    "papermill": {
     "duration": 0.445885,
     "end_time": "2020-09-21T06:00:24.832516",
     "exception": false,
     "start_time": "2020-09-21T06:00:24.386631",
     "status": "completed"
    },
    "tags": []
   },
   "outputs": [
    {
     "data": {
      "image/png": "[encoded data removed]",
      "text/plain": [
       "<Figure size 432x288 with 1 Axes>"
      ]
     },
     "metadata": {
      "needs_background": "light"
     },
     "output_type": "display_data"
    }
   ],
   "source": [
    "sns.countplot(x='Driving_License',data=train_orig,hue='Gender');"
   ]
  },
  {
   "cell_type": "code",
   "execution_count": 14,
   "metadata": {
    "execution": {
     "iopub.execute_input": "2020-09-21T06:00:25.005998Z",
     "iopub.status.busy": "2020-09-21T06:00:25.004519Z",
     "iopub.status.idle": "2020-09-21T06:00:25.219417Z",
     "shell.execute_reply": "2020-09-21T06:00:25.218147Z"
    },
    "papermill": {
     "duration": 0.284761,
     "end_time": "2020-09-21T06:00:25.219634",
     "exception": false,
     "start_time": "2020-09-21T06:00:24.934873",
     "status": "completed"
    },
    "tags": []
   },
   "outputs": [
    {
     "data": {
      "image/png": "[encoded data removed]",
      "text/plain": [
       "<Figure size 432x288 with 1 Axes>"
      ]
     },
     "metadata": {
      "needs_background": "light"
     },
     "output_type": "display_data"
    }
   ],
   "source": [
    "sns.countplot(x='Driving_License',data=train_orig,hue='Response');"
   ]
  },
  {
   "cell_type": "code",
   "execution_count": 15,
   "metadata": {
    "execution": {
     "iopub.execute_input": "2020-09-21T06:00:25.349764Z",
     "iopub.status.busy": "2020-09-21T06:00:25.348753Z",
     "iopub.status.idle": "2020-09-21T06:00:25.534653Z",
     "shell.execute_reply": "2020-09-21T06:00:25.535568Z"
    },
    "papermill": {
     "duration": 0.247298,
     "end_time": "2020-09-21T06:00:25.535728",
     "exception": false,
     "start_time": "2020-09-21T06:00:25.288430",
     "status": "completed"
    },
    "tags": []
   },
   "outputs": [
    {
     "data": {
      "image/png": "[encoded data removed]",
      "text/plain": [
       "<Figure size 432x288 with 1 Axes>"
      ]
     },
     "metadata": {
      "needs_background": "light"
     },
     "output_type": "display_data"
    }
   ],
   "source": [
    "sns.countplot(x='Previously_Insured',data=train_orig,hue='Response');"
   ]
  },
  {
   "cell_type": "code",
   "execution_count": 16,
   "metadata": {
    "execution": {
     "iopub.execute_input": "2020-09-21T06:00:25.648835Z",
     "iopub.status.busy": "2020-09-21T06:00:25.647988Z",
     "iopub.status.idle": "2020-09-21T06:00:25.976312Z",
     "shell.execute_reply": "2020-09-21T06:00:25.976909Z"
    },
    "papermill": {
     "duration": 0.387497,
     "end_time": "2020-09-21T06:00:25.977079",
     "exception": false,
     "start_time": "2020-09-21T06:00:25.589582",
     "status": "completed"
    },
    "tags": []
   },
   "outputs": [
    {
     "data": {
      "image/png": "[encoded data removed]",
      "text/plain": [
       "<Figure size 432x288 with 1 Axes>"
      ]
     },
     "metadata": {
      "needs_background": "light"
     },
     "output_type": "display_data"
    }
   ],
   "source": [
    "sns.distplot(train_orig['Policy_Sales_Channel']);"
   ]
  },
  {
   "cell_type": "code",
   "execution_count": 17,
   "metadata": {
    "execution": {
     "iopub.execute_input": "2020-09-21T06:00:26.095436Z",
     "iopub.status.busy": "2020-09-21T06:00:26.094602Z",
     "iopub.status.idle": "2020-09-21T06:00:26.468420Z",
     "shell.execute_reply": "2020-09-21T06:00:26.468947Z"
    },
    "papermill": {
     "duration": 0.433762,
     "end_time": "2020-09-21T06:00:26.469123",
     "exception": false,
     "start_time": "2020-09-21T06:00:26.035361",
     "status": "completed"
    },
    "tags": []
   },
   "outputs": [
    {
     "data": {
      "image/png": "[encoded data removed]",
      "text/plain": [
       "<Figure size 432x288 with 1 Axes>"
      ]
     },
     "metadata": {
      "needs_background": "light"
     },
     "output_type": "display_data"
    }
   ],
   "source": [
    "sns.distplot(train_orig['Vintage']);"
   ]
  },
  {
   "cell_type": "markdown",
   "metadata": {
    "papermill": {
     "duration": 0.055379,
     "end_time": "2020-09-21T06:00:26.580404",
     "exception": false,
     "start_time": "2020-09-21T06:00:26.525025",
     "status": "completed"
    },
    "tags": []
   },
   "source": [
    "## Concatenating train and test set for further inspection"
   ]
  },
  {
   "cell_type": "code",
   "execution_count": 18,
   "metadata": {
    "execution": {
     "iopub.execute_input": "2020-09-21T06:00:26.695687Z",
     "iopub.status.busy": "2020-09-21T06:00:26.694975Z",
     "iopub.status.idle": "2020-09-21T06:00:26.781750Z",
     "shell.execute_reply": "2020-09-21T06:00:26.781024Z"
    },
    "papermill": {
     "duration": 0.145657,
     "end_time": "2020-09-21T06:00:26.781866",
     "exception": false,
     "start_time": "2020-09-21T06:00:26.636209",
     "status": "completed"
    },
    "tags": []
   },
   "outputs": [],
   "source": [
    "data= pd.concat([train_orig,test_orig],axis=0,sort=False)"
   ]
  },
  {
   "cell_type": "code",
   "execution_count": 19,
   "metadata": {
    "execution": {
     "iopub.execute_input": "2020-09-21T06:00:26.901123Z",
     "iopub.status.busy": "2020-09-21T06:00:26.900403Z",
     "iopub.status.idle": "2020-09-21T06:00:27.150167Z",
     "shell.execute_reply": "2020-09-21T06:00:27.149536Z"
    },
    "papermill": {
     "duration": 0.311898,
     "end_time": "2020-09-21T06:00:27.150292",
     "exception": false,
     "start_time": "2020-09-21T06:00:26.838394",
     "status": "completed"
    },
    "tags": []
   },
   "outputs": [
    {
     "name": "stdout",
     "output_type": "stream",
     "text": [
      "<class 'pandas.core.frame.DataFrame'>\n",
      "Int64Index: 508146 entries, 0 to 127036\n",
      "Data columns (total 12 columns):\n",
      " #   Column                Non-Null Count   Dtype  \n",
      "---  ------                --------------   -----  \n",
      " 0   id                    508146 non-null  int64  \n",
      " 1   Gender                508146 non-null  object \n",
      " 2   Age                   508146 non-null  int64  \n",
      " 3   Driving_License       508146 non-null  int64  \n",
      " 4   Region_Code           508146 non-null  float64\n",
      " 5   Previously_Insured    508146 non-null  int64  \n",
      " 6   Vehicle_Age           508146 non-null  object \n",
      " 7   Vehicle_Damage        508146 non-null  object \n",
      " 8   Annual_Premium        508146 non-null  float64\n",
      " 9   Policy_Sales_Channel  508146 non-null  float64\n",
      " 10  Vintage               508146 non-null  int64  \n",
      " 11  Response              381109 non-null  float64\n",
      "dtypes: float64(4), int64(5), object(3)\n",
      "memory usage: 50.4+ MB\n"
     ]
    }
   ],
   "source": [
    "data.info()"
   ]
  },
  {
   "cell_type": "code",
   "execution_count": 20,
   "metadata": {
    "execution": {
     "iopub.execute_input": "2020-09-21T06:00:27.276415Z",
     "iopub.status.busy": "2020-09-21T06:00:27.275711Z",
     "iopub.status.idle": "2020-09-21T06:00:27.461876Z",
     "shell.execute_reply": "2020-09-21T06:00:27.462409Z"
    },
    "papermill": {
     "duration": 0.252196,
     "end_time": "2020-09-21T06:00:27.462570",
     "exception": false,
     "start_time": "2020-09-21T06:00:27.210374",
     "status": "completed"
    },
    "tags": []
   },
   "outputs": [
    {
     "data": {
      "text/plain": [
       "id                      508146\n",
       "Gender                       2\n",
       "Age                         66\n",
       "Driving_License              2\n",
       "Region_Code                 53\n",
       "Previously_Insured           2\n",
       "Vehicle_Age                  3\n",
       "Vehicle_Damage               2\n",
       "Annual_Premium           52062\n",
       "Policy_Sales_Channel       157\n",
       "Vintage                    290\n",
       "Response                     2\n",
       "dtype: int64"
      ]
     },
     "execution_count": 20,
     "metadata": {},
     "output_type": "execute_result"
    }
   ],
   "source": [
    "data.nunique()"
   ]
  },
  {
   "cell_type": "code",
   "execution_count": 21,
   "metadata": {
    "execution": {
     "iopub.execute_input": "2020-09-21T06:00:27.593838Z",
     "iopub.status.busy": "2020-09-21T06:00:27.591622Z",
     "iopub.status.idle": "2020-09-21T06:00:28.387693Z",
     "shell.execute_reply": "2020-09-21T06:00:28.388254Z"
    },
    "papermill": {
     "duration": 0.86871,
     "end_time": "2020-09-21T06:00:28.388401",
     "exception": false,
     "start_time": "2020-09-21T06:00:27.519691",
     "status": "completed"
    },
    "tags": []
   },
   "outputs": [
    {
     "data": {
      "image/png": "[encoded data removed]",
      "text/plain": [
       "<Figure size 1152x288 with 3 Axes>"
      ]
     },
     "metadata": {
      "needs_background": "light"
     },
     "output_type": "display_data"
    }
   ],
   "source": [
    "plt.figure(figsize=(16,4))\n",
    "plt.subplot(1,3,1)\n",
    "plt.hist(train_orig['Annual_Premium'],bins=30,label='Train');\n",
    "plt.legend()\n",
    "plt.subplot(1,3,2)\n",
    "plt.hist(test_orig['Annual_Premium'],bins=30,label='Test');\n",
    "plt.legend();\n",
    "plt.subplot(1,3,3)\n",
    "plt.hist(data['Annual_Premium'],bins=30,label='Data');\n",
    "plt.legend();"
   ]
  },
  {
   "cell_type": "markdown",
   "metadata": {
    "papermill": {
     "duration": 0.066134,
     "end_time": "2020-09-21T06:00:28.514274",
     "exception": false,
     "start_time": "2020-09-21T06:00:28.448140",
     "status": "completed"
    },
    "tags": []
   },
   "source": [
    "## Treating Outliers"
   ]
  },
  {
   "cell_type": "code",
   "execution_count": 22,
   "metadata": {
    "execution": {
     "iopub.execute_input": "2020-09-21T06:00:28.641641Z",
     "iopub.status.busy": "2020-09-21T06:00:28.640875Z",
     "iopub.status.idle": "2020-09-21T06:00:28.686492Z",
     "shell.execute_reply": "2020-09-21T06:00:28.686993Z"
    },
    "papermill": {
     "duration": 0.113712,
     "end_time": "2020-09-21T06:00:28.687182",
     "exception": false,
     "start_time": "2020-09-21T06:00:28.573470",
     "status": "completed"
    },
    "tags": []
   },
   "outputs": [
    {
     "data": {
      "text/plain": [
       "(61937.875, 1846.875)"
      ]
     },
     "execution_count": 22,
     "metadata": {},
     "output_type": "execute_result"
    }
   ],
   "source": [
    "def outliers(df, variable, distance):\n",
    "\n",
    "    # Let's calculate the boundaries outside which the outliers are for skewed distributions\n",
    "\n",
    "    # distance passed as an argument, gives us the option to estimate 1.5 times or 3 times the IQR to calculate\n",
    "    # the boundaries.\n",
    "\n",
    "    IQR = df[variable].quantile(0.75) - df[variable].quantile(0.25)\n",
    "\n",
    "    lower_boundary = df[variable].quantile(0.25) - (IQR * distance)\n",
    "    upper_boundary = df[variable].quantile(0.75) + (IQR * distance)\n",
    "\n",
    "    return upper_boundary, lower_boundary\n",
    "\n",
    "upper_limit, lower_limit = outliers(data, 'Annual_Premium', 1.5)\n",
    "upper_limit, lower_limit"
   ]
  },
  {
   "cell_type": "code",
   "execution_count": 23,
   "metadata": {
    "execution": {
     "iopub.execute_input": "2020-09-21T06:00:28.816675Z",
     "iopub.status.busy": "2020-09-21T06:00:28.815735Z",
     "iopub.status.idle": "2020-09-21T06:00:28.824625Z",
     "shell.execute_reply": "2020-09-21T06:00:28.825378Z"
    },
    "papermill": {
     "duration": 0.077423,
     "end_time": "2020-09-21T06:00:28.825525",
     "exception": false,
     "start_time": "2020-09-21T06:00:28.748102",
     "status": "completed"
    },
    "tags": []
   },
   "outputs": [],
   "source": [
    "data['Annual_Premium']= np.where(data['Annual_Premium'] > upper_limit, upper_limit,\n",
    "                       np.where(data['Annual_Premium'] < lower_limit, lower_limit, data['Annual_Premium']))"
   ]
  },
  {
   "cell_type": "code",
   "execution_count": 24,
   "metadata": {
    "execution": {
     "iopub.execute_input": "2020-09-21T06:00:28.958898Z",
     "iopub.status.busy": "2020-09-21T06:00:28.957839Z",
     "iopub.status.idle": "2020-09-21T06:00:29.152349Z",
     "shell.execute_reply": "2020-09-21T06:00:29.151719Z"
    },
    "papermill": {
     "duration": 0.266843,
     "end_time": "2020-09-21T06:00:29.152467",
     "exception": false,
     "start_time": "2020-09-21T06:00:28.885624",
     "status": "completed"
    },
    "tags": []
   },
   "outputs": [
    {
     "data": {
      "image/png": "[encoded data removed]",
      "text/plain": [
       "<Figure size 432x288 with 1 Axes>"
      ]
     },
     "metadata": {
      "needs_background": "light"
     },
     "output_type": "display_data"
    }
   ],
   "source": [
    "plt.hist(data['Annual_Premium'],bins=30);"
   ]
  },
  {
   "cell_type": "markdown",
   "metadata": {
    "papermill": {
     "duration": 0.06165,
     "end_time": "2020-09-21T06:00:29.275009",
     "exception": false,
     "start_time": "2020-09-21T06:00:29.213359",
     "status": "completed"
    },
    "tags": []
   },
   "source": [
    "## Feature Generation"
   ]
  },
  {
   "cell_type": "code",
   "execution_count": 25,
   "metadata": {
    "execution": {
     "iopub.execute_input": "2020-09-21T06:00:29.546711Z",
     "iopub.status.busy": "2020-09-21T06:00:29.482361Z",
     "iopub.status.idle": "2020-09-21T06:00:29.557999Z",
     "shell.execute_reply": "2020-09-21T06:00:29.556756Z"
    },
    "papermill": {
     "duration": 0.223045,
     "end_time": "2020-09-21T06:00:29.558284",
     "exception": false,
     "start_time": "2020-09-21T06:00:29.335239",
     "status": "completed"
    },
    "tags": []
   },
   "outputs": [
    {
     "data": {
      "text/plain": [
       "1-2 Year     267015\n",
       "< 1 Year     219805\n",
       "> 2 Years     21326\n",
       "Name: Vehicle_Age, dtype: int64"
      ]
     },
     "execution_count": 25,
     "metadata": {},
     "output_type": "execute_result"
    }
   ],
   "source": [
    "data['Vehicle_Age'].value_counts()"
   ]
  },
  {
   "cell_type": "code",
   "execution_count": 26,
   "metadata": {
    "execution": {
     "iopub.execute_input": "2020-09-21T06:00:29.723873Z",
     "iopub.status.busy": "2020-09-21T06:00:29.722536Z",
     "iopub.status.idle": "2020-09-21T06:00:29.798512Z",
     "shell.execute_reply": "2020-09-21T06:00:29.797528Z"
    },
    "papermill": {
     "duration": 0.161833,
     "end_time": "2020-09-21T06:00:29.798755",
     "exception": false,
     "start_time": "2020-09-21T06:00:29.636922",
     "status": "completed"
    },
    "tags": []
   },
   "outputs": [
    {
     "data": {
      "text/plain": [
       "Gender  Driving_License  Response\n",
       "Female  0                0.0            198\n",
       "                         1.0             14\n",
       "        1                0.0         156637\n",
       "                         1.0          18171\n",
       "Male    0                0.0            573\n",
       "                         1.0             27\n",
       "        1                0.0         176991\n",
       "                         1.0          28498\n",
       "dtype: int64"
      ]
     },
     "execution_count": 26,
     "metadata": {},
     "output_type": "execute_result"
    }
   ],
   "source": [
    "data.groupby(['Gender','Driving_License','Response']).size()"
   ]
  },
  {
   "cell_type": "code",
   "execution_count": 27,
   "metadata": {
    "execution": {
     "iopub.execute_input": "2020-09-21T06:00:30.157497Z",
     "iopub.status.busy": "2020-09-21T06:00:30.155790Z",
     "iopub.status.idle": "2020-09-21T06:00:30.455666Z",
     "shell.execute_reply": "2020-09-21T06:00:30.456233Z"
    },
    "papermill": {
     "duration": 0.58943,
     "end_time": "2020-09-21T06:00:30.456417",
     "exception": false,
     "start_time": "2020-09-21T06:00:29.866987",
     "status": "completed"
    },
    "tags": []
   },
   "outputs": [],
   "source": [
    "data['Driving_License']= data['Driving_License'].astype(str)\n",
    "data['DL_Gender']= data['Driving_License']+'_'+ data['Gender']\n",
    "data['Driving_License']= data['Driving_License'].astype(int)"
   ]
  },
  {
   "cell_type": "code",
   "execution_count": 28,
   "metadata": {
    "execution": {
     "iopub.execute_input": "2020-09-21T06:00:30.596532Z",
     "iopub.status.busy": "2020-09-21T06:00:30.595546Z",
     "iopub.status.idle": "2020-09-21T06:00:30.692890Z",
     "shell.execute_reply": "2020-09-21T06:00:30.692245Z"
    },
    "papermill": {
     "duration": 0.174576,
     "end_time": "2020-09-21T06:00:30.692997",
     "exception": false,
     "start_time": "2020-09-21T06:00:30.518421",
     "status": "completed"
    },
    "tags": []
   },
   "outputs": [
    {
     "data": {
      "text/plain": [
       "Vehicle_Age  Vehicle_Damage\n",
       "1-2 Year     No                 96136\n",
       "             Yes               170879\n",
       "< 1 Year     No                155738\n",
       "             Yes                64067\n",
       "> 2 Years    No                    24\n",
       "             Yes                21302\n",
       "dtype: int64"
      ]
     },
     "execution_count": 28,
     "metadata": {},
     "output_type": "execute_result"
    }
   ],
   "source": [
    "data.groupby(['Vehicle_Age','Vehicle_Damage']).size()"
   ]
  },
  {
   "cell_type": "code",
   "execution_count": 29,
   "metadata": {
    "execution": {
     "iopub.execute_input": "2020-09-21T06:00:30.825287Z",
     "iopub.status.busy": "2020-09-21T06:00:30.824264Z",
     "iopub.status.idle": "2020-09-21T06:00:30.972431Z",
     "shell.execute_reply": "2020-09-21T06:00:30.972928Z"
    },
    "papermill": {
     "duration": 0.21674,
     "end_time": "2020-09-21T06:00:30.973099",
     "exception": false,
     "start_time": "2020-09-21T06:00:30.756359",
     "status": "completed"
    },
    "tags": []
   },
   "outputs": [],
   "source": [
    "data['Vehicle_Age_and_Damage']= data['Vehicle_Age']+'_'+data['Vehicle_Damage']"
   ]
  },
  {
   "cell_type": "code",
   "execution_count": 30,
   "metadata": {
    "execution": {
     "iopub.execute_input": "2020-09-21T06:00:31.166406Z",
     "iopub.status.busy": "2020-09-21T06:00:31.165411Z",
     "iopub.status.idle": "2020-09-21T06:00:31.224900Z",
     "shell.execute_reply": "2020-09-21T06:00:31.225470Z"
    },
    "papermill": {
     "duration": 0.136335,
     "end_time": "2020-09-21T06:00:31.225619",
     "exception": false,
     "start_time": "2020-09-21T06:00:31.089284",
     "status": "completed"
    },
    "tags": []
   },
   "outputs": [
    {
     "data": {
      "text/plain": [
       "Vehicle_Age  Previously_Insured\n",
       "1-2 Year     0                     179945\n",
       "             1                      87070\n",
       "< 1 Year     0                      73861\n",
       "             1                     145944\n",
       "> 2 Years    0                      21270\n",
       "             1                         56\n",
       "dtype: int64"
      ]
     },
     "execution_count": 30,
     "metadata": {},
     "output_type": "execute_result"
    }
   ],
   "source": [
    "data.groupby(['Vehicle_Age','Previously_Insured']).size()"
   ]
  },
  {
   "cell_type": "code",
   "execution_count": 31,
   "metadata": {
    "execution": {
     "iopub.execute_input": "2020-09-21T06:00:31.360695Z",
     "iopub.status.busy": "2020-09-21T06:00:31.359617Z",
     "iopub.status.idle": "2020-09-21T06:00:31.820432Z",
     "shell.execute_reply": "2020-09-21T06:00:31.820975Z"
    },
    "papermill": {
     "duration": 0.53005,
     "end_time": "2020-09-21T06:00:31.821170",
     "exception": false,
     "start_time": "2020-09-21T06:00:31.291120",
     "status": "completed"
    },
    "tags": []
   },
   "outputs": [],
   "source": [
    "data['Previously_Insured']= data['Previously_Insured'].astype(str)\n",
    "data['Previously_Insured_Vehicle_Age']= data['Vehicle_Age']+'_'+data['Previously_Insured']\n",
    "data['Previously_Insured']= data['Previously_Insured'].astype(int)"
   ]
  },
  {
   "cell_type": "code",
   "execution_count": 32,
   "metadata": {
    "execution": {
     "iopub.execute_input": "2020-09-21T06:00:31.967911Z",
     "iopub.status.busy": "2020-09-21T06:00:31.958720Z",
     "iopub.status.idle": "2020-09-21T06:00:31.972962Z",
     "shell.execute_reply": "2020-09-21T06:00:31.972290Z"
    },
    "papermill": {
     "duration": 0.089883,
     "end_time": "2020-09-21T06:00:31.973091",
     "exception": false,
     "start_time": "2020-09-21T06:00:31.883208",
     "status": "completed"
    },
    "tags": []
   },
   "outputs": [
    {
     "data": {
      "text/html": [
       "<div>\n",
       "<style scoped>\n",
       "    .dataframe tbody tr th:only-of-type {\n",
       "        vertical-align: middle;\n",
       "    }\n",
       "\n",
       "    .dataframe tbody tr th {\n",
       "        vertical-align: top;\n",
       "    }\n",
       "\n",
       "    .dataframe thead th {\n",
       "        text-align: right;\n",
       "    }\n",
       "</style>\n",
       "<table border=\"1\" class=\"dataframe\">\n",
       "  <thead>\n",
       "    <tr style=\"text-align: right;\">\n",
       "      <th></th>\n",
       "      <th>id</th>\n",
       "      <th>Gender</th>\n",
       "      <th>Age</th>\n",
       "      <th>Driving_License</th>\n",
       "      <th>Region_Code</th>\n",
       "      <th>Previously_Insured</th>\n",
       "      <th>Vehicle_Age</th>\n",
       "      <th>Vehicle_Damage</th>\n",
       "      <th>Annual_Premium</th>\n",
       "      <th>Policy_Sales_Channel</th>\n",
       "      <th>Vintage</th>\n",
       "      <th>Response</th>\n",
       "      <th>DL_Gender</th>\n",
       "      <th>Vehicle_Age_and_Damage</th>\n",
       "      <th>Previously_Insured_Vehicle_Age</th>\n",
       "    </tr>\n",
       "  </thead>\n",
       "  <tbody>\n",
       "    <tr>\n",
       "      <th>0</th>\n",
       "      <td>1</td>\n",
       "      <td>Male</td>\n",
       "      <td>44</td>\n",
       "      <td>1</td>\n",
       "      <td>28.0</td>\n",
       "      <td>0</td>\n",
       "      <td>&gt; 2 Years</td>\n",
       "      <td>Yes</td>\n",
       "      <td>40454.0</td>\n",
       "      <td>26.0</td>\n",
       "      <td>217</td>\n",
       "      <td>1.0</td>\n",
       "      <td>1_Male</td>\n",
       "      <td>&gt; 2 Years_Yes</td>\n",
       "      <td>&gt; 2 Years_0</td>\n",
       "    </tr>\n",
       "    <tr>\n",
       "      <th>1</th>\n",
       "      <td>2</td>\n",
       "      <td>Male</td>\n",
       "      <td>76</td>\n",
       "      <td>1</td>\n",
       "      <td>3.0</td>\n",
       "      <td>0</td>\n",
       "      <td>1-2 Year</td>\n",
       "      <td>No</td>\n",
       "      <td>33536.0</td>\n",
       "      <td>26.0</td>\n",
       "      <td>183</td>\n",
       "      <td>0.0</td>\n",
       "      <td>1_Male</td>\n",
       "      <td>1-2 Year_No</td>\n",
       "      <td>1-2 Year_0</td>\n",
       "    </tr>\n",
       "    <tr>\n",
       "      <th>2</th>\n",
       "      <td>3</td>\n",
       "      <td>Male</td>\n",
       "      <td>47</td>\n",
       "      <td>1</td>\n",
       "      <td>28.0</td>\n",
       "      <td>0</td>\n",
       "      <td>&gt; 2 Years</td>\n",
       "      <td>Yes</td>\n",
       "      <td>38294.0</td>\n",
       "      <td>26.0</td>\n",
       "      <td>27</td>\n",
       "      <td>1.0</td>\n",
       "      <td>1_Male</td>\n",
       "      <td>&gt; 2 Years_Yes</td>\n",
       "      <td>&gt; 2 Years_0</td>\n",
       "    </tr>\n",
       "    <tr>\n",
       "      <th>3</th>\n",
       "      <td>4</td>\n",
       "      <td>Male</td>\n",
       "      <td>21</td>\n",
       "      <td>1</td>\n",
       "      <td>11.0</td>\n",
       "      <td>1</td>\n",
       "      <td>&lt; 1 Year</td>\n",
       "      <td>No</td>\n",
       "      <td>28619.0</td>\n",
       "      <td>152.0</td>\n",
       "      <td>203</td>\n",
       "      <td>0.0</td>\n",
       "      <td>1_Male</td>\n",
       "      <td>&lt; 1 Year_No</td>\n",
       "      <td>&lt; 1 Year_1</td>\n",
       "    </tr>\n",
       "    <tr>\n",
       "      <th>4</th>\n",
       "      <td>5</td>\n",
       "      <td>Female</td>\n",
       "      <td>29</td>\n",
       "      <td>1</td>\n",
       "      <td>41.0</td>\n",
       "      <td>1</td>\n",
       "      <td>&lt; 1 Year</td>\n",
       "      <td>No</td>\n",
       "      <td>27496.0</td>\n",
       "      <td>152.0</td>\n",
       "      <td>39</td>\n",
       "      <td>0.0</td>\n",
       "      <td>1_Female</td>\n",
       "      <td>&lt; 1 Year_No</td>\n",
       "      <td>&lt; 1 Year_1</td>\n",
       "    </tr>\n",
       "  </tbody>\n",
       "</table>\n",
       "</div>"
      ],
      "text/plain": [
       "   id  Gender  Age  Driving_License  Region_Code  Previously_Insured  \\\n",
       "0   1    Male   44                1         28.0                   0   \n",
       "1   2    Male   76                1          3.0                   0   \n",
       "2   3    Male   47                1         28.0                   0   \n",
       "3   4    Male   21                1         11.0                   1   \n",
       "4   5  Female   29                1         41.0                   1   \n",
       "\n",
       "  Vehicle_Age Vehicle_Damage  Annual_Premium  Policy_Sales_Channel  Vintage  \\\n",
       "0   > 2 Years            Yes         40454.0                  26.0      217   \n",
       "1    1-2 Year             No         33536.0                  26.0      183   \n",
       "2   > 2 Years            Yes         38294.0                  26.0       27   \n",
       "3    < 1 Year             No         28619.0                 152.0      203   \n",
       "4    < 1 Year             No         27496.0                 152.0       39   \n",
       "\n",
       "   Response DL_Gender Vehicle_Age_and_Damage Previously_Insured_Vehicle_Age  \n",
       "0       1.0    1_Male          > 2 Years_Yes                    > 2 Years_0  \n",
       "1       0.0    1_Male            1-2 Year_No                     1-2 Year_0  \n",
       "2       1.0    1_Male          > 2 Years_Yes                    > 2 Years_0  \n",
       "3       0.0    1_Male            < 1 Year_No                     < 1 Year_1  \n",
       "4       0.0  1_Female            < 1 Year_No                     < 1 Year_1  "
      ]
     },
     "execution_count": 32,
     "metadata": {},
     "output_type": "execute_result"
    }
   ],
   "source": [
    "data.head()"
   ]
  },
  {
   "cell_type": "code",
   "execution_count": 33,
   "metadata": {
    "execution": {
     "iopub.execute_input": "2020-09-21T06:00:32.105159Z",
     "iopub.status.busy": "2020-09-21T06:00:32.104466Z",
     "iopub.status.idle": "2020-09-21T06:00:32.327707Z",
     "shell.execute_reply": "2020-09-21T06:00:32.323573Z"
    },
    "papermill": {
     "duration": 0.291705,
     "end_time": "2020-09-21T06:00:32.327882",
     "exception": false,
     "start_time": "2020-09-21T06:00:32.036177",
     "status": "completed"
    },
    "tags": []
   },
   "outputs": [],
   "source": [
    "data['Vintage']= data['Vintage'].apply(lambda x: x/365)"
   ]
  },
  {
   "cell_type": "markdown",
   "metadata": {
    "papermill": {
     "duration": 0.074762,
     "end_time": "2020-09-21T06:00:32.488483",
     "exception": false,
     "start_time": "2020-09-21T06:00:32.413721",
     "status": "completed"
    },
    "tags": []
   },
   "source": [
    "## Encoding the data"
   ]
  },
  {
   "cell_type": "code",
   "execution_count": 34,
   "metadata": {
    "execution": {
     "iopub.execute_input": "2020-09-21T06:00:32.681397Z",
     "iopub.status.busy": "2020-09-21T06:00:32.679901Z",
     "iopub.status.idle": "2020-09-21T06:00:32.846494Z",
     "shell.execute_reply": "2020-09-21T06:00:32.847002Z"
    },
    "papermill": {
     "duration": 0.295463,
     "end_time": "2020-09-21T06:00:32.847183",
     "exception": false,
     "start_time": "2020-09-21T06:00:32.551720",
     "status": "completed"
    },
    "tags": []
   },
   "outputs": [],
   "source": [
    "gender_map= {'Male':0,'Female':1}\n",
    "vehicle_age_map= {'< 1 Year':0,'1-2 Year':1,'> 2 Years':2}\n",
    "vehicle_damage_map= {'Yes':1,'No':0}\n",
    "\n",
    "data['Gender']= data['Gender'].map(gender_map)\n",
    "data['Vehicle_Age']= data['Vehicle_Age'].map(vehicle_age_map)\n",
    "data['Vehicle_Damage']= data['Vehicle_Damage'].map(vehicle_damage_map)"
   ]
  },
  {
   "cell_type": "code",
   "execution_count": 35,
   "metadata": {
    "execution": {
     "iopub.execute_input": "2020-09-21T06:00:32.981744Z",
     "iopub.status.busy": "2020-09-21T06:00:32.980610Z",
     "iopub.status.idle": "2020-09-21T06:00:33.339289Z",
     "shell.execute_reply": "2020-09-21T06:00:33.339766Z"
    },
    "papermill": {
     "duration": 0.427777,
     "end_time": "2020-09-21T06:00:33.339918",
     "exception": false,
     "start_time": "2020-09-21T06:00:32.912141",
     "status": "completed"
    },
    "tags": []
   },
   "outputs": [
    {
     "data": {
      "image/png": "[encoded data removed]",
      "text/plain": [
       "<Figure size 432x288 with 1 Axes>"
      ]
     },
     "metadata": {
      "needs_background": "light"
     },
     "output_type": "display_data"
    }
   ],
   "source": [
    "sns.distplot(data['Region_Code']);"
   ]
  },
  {
   "cell_type": "code",
   "execution_count": 36,
   "metadata": {
    "execution": {
     "iopub.execute_input": "2020-09-21T06:00:33.475036Z",
     "iopub.status.busy": "2020-09-21T06:00:33.474100Z",
     "iopub.status.idle": "2020-09-21T06:00:34.186085Z",
     "shell.execute_reply": "2020-09-21T06:00:34.185396Z"
    },
    "papermill": {
     "duration": 0.782246,
     "end_time": "2020-09-21T06:00:34.186221",
     "exception": false,
     "start_time": "2020-09-21T06:00:33.403975",
     "status": "completed"
    },
    "tags": []
   },
   "outputs": [
    {
     "data": {
      "image/png": "[encoded data removed]",
      "text/plain": [
       "<Figure size 1008x432 with 1 Axes>"
      ]
     },
     "metadata": {
      "needs_background": "light"
     },
     "output_type": "display_data"
    }
   ],
   "source": [
    "plt.figure(figsize=(14,6))\n",
    "sns.countplot(x='Region_Code',data=data);\n",
    "plt.xticks(rotation=90);"
   ]
  },
  {
   "cell_type": "code",
   "execution_count": 37,
   "metadata": {
    "execution": {
     "iopub.execute_input": "2020-09-21T06:00:34.329930Z",
     "iopub.status.busy": "2020-09-21T06:00:34.328788Z",
     "iopub.status.idle": "2020-09-21T06:00:34.337579Z",
     "shell.execute_reply": "2020-09-21T06:00:34.338096Z"
    },
    "papermill": {
     "duration": 0.085249,
     "end_time": "2020-09-21T06:00:34.338280",
     "exception": false,
     "start_time": "2020-09-21T06:00:34.253031",
     "status": "completed"
    },
    "tags": []
   },
   "outputs": [
    {
     "data": {
      "text/plain": [
       "id                                  int64\n",
       "Gender                              int64\n",
       "Age                                 int64\n",
       "Driving_License                     int64\n",
       "Region_Code                       float64\n",
       "Previously_Insured                  int64\n",
       "Vehicle_Age                         int64\n",
       "Vehicle_Damage                      int64\n",
       "Annual_Premium                    float64\n",
       "Policy_Sales_Channel              float64\n",
       "Vintage                           float64\n",
       "Response                          float64\n",
       "DL_Gender                          object\n",
       "Vehicle_Age_and_Damage             object\n",
       "Previously_Insured_Vehicle_Age     object\n",
       "dtype: object"
      ]
     },
     "execution_count": 37,
     "metadata": {},
     "output_type": "execute_result"
    }
   ],
   "source": [
    "data.dtypes"
   ]
  },
  {
   "cell_type": "code",
   "execution_count": 38,
   "metadata": {
    "execution": {
     "iopub.execute_input": "2020-09-21T06:00:34.476703Z",
     "iopub.status.busy": "2020-09-21T06:00:34.475597Z",
     "iopub.status.idle": "2020-09-21T06:00:34.485319Z",
     "shell.execute_reply": "2020-09-21T06:00:34.484598Z"
    },
    "papermill": {
     "duration": 0.080301,
     "end_time": "2020-09-21T06:00:34.485443",
     "exception": false,
     "start_time": "2020-09-21T06:00:34.405142",
     "status": "completed"
    },
    "tags": []
   },
   "outputs": [
    {
     "data": {
      "text/plain": [
       "['DL_Gender', 'Vehicle_Age_and_Damage', 'Previously_Insured_Vehicle_Age']"
      ]
     },
     "execution_count": 38,
     "metadata": {},
     "output_type": "execute_result"
    }
   ],
   "source": [
    "cat_col= [col for col in data.columns if data[col].dtypes=='object']\n",
    "cat_col"
   ]
  },
  {
   "cell_type": "code",
   "execution_count": 39,
   "metadata": {
    "execution": {
     "iopub.execute_input": "2020-09-21T06:00:34.638180Z",
     "iopub.status.busy": "2020-09-21T06:00:34.637191Z",
     "iopub.status.idle": "2020-09-21T06:00:35.167570Z",
     "shell.execute_reply": "2020-09-21T06:00:35.166992Z"
    },
    "papermill": {
     "duration": 0.613271,
     "end_time": "2020-09-21T06:00:35.167689",
     "exception": false,
     "start_time": "2020-09-21T06:00:34.554418",
     "status": "completed"
    },
    "tags": []
   },
   "outputs": [],
   "source": [
    "for col in cat_col:\n",
    "    dummies= pd.get_dummies(data[col])\n",
    "    data=pd.concat([data,dummies],axis=1)\n",
    "    data.drop(columns=[col],inplace=True)"
   ]
  },
  {
   "cell_type": "markdown",
   "metadata": {
    "papermill": {
     "duration": 0.065884,
     "end_time": "2020-09-21T06:00:35.300460",
     "exception": false,
     "start_time": "2020-09-21T06:00:35.234576",
     "status": "completed"
    },
    "tags": []
   },
   "source": [
    "**Dropping unnecessary columns.**"
   ]
  },
  {
   "cell_type": "code",
   "execution_count": 40,
   "metadata": {
    "execution": {
     "iopub.execute_input": "2020-09-21T06:00:35.451038Z",
     "iopub.status.busy": "2020-09-21T06:00:35.449573Z",
     "iopub.status.idle": "2020-09-21T06:00:35.458841Z",
     "shell.execute_reply": "2020-09-21T06:00:35.458243Z"
    },
    "papermill": {
     "duration": 0.090712,
     "end_time": "2020-09-21T06:00:35.458967",
     "exception": false,
     "start_time": "2020-09-21T06:00:35.368255",
     "status": "completed"
    },
    "tags": []
   },
   "outputs": [],
   "source": [
    "data.drop(columns=['id','Response','Driving_License','0_Female'],inplace=True)"
   ]
  },
  {
   "cell_type": "code",
   "execution_count": 41,
   "metadata": {
    "execution": {
     "iopub.execute_input": "2020-09-21T06:00:35.612735Z",
     "iopub.status.busy": "2020-09-21T06:00:35.611673Z",
     "iopub.status.idle": "2020-09-21T06:00:35.617511Z",
     "shell.execute_reply": "2020-09-21T06:00:35.616903Z"
    },
    "papermill": {
     "duration": 0.090695,
     "end_time": "2020-09-21T06:00:35.617654",
     "exception": false,
     "start_time": "2020-09-21T06:00:35.526959",
     "status": "completed"
    },
    "tags": []
   },
   "outputs": [
    {
     "data": {
      "text/html": [
       "<div>\n",
       "<style scoped>\n",
       "    .dataframe tbody tr th:only-of-type {\n",
       "        vertical-align: middle;\n",
       "    }\n",
       "\n",
       "    .dataframe tbody tr th {\n",
       "        vertical-align: top;\n",
       "    }\n",
       "\n",
       "    .dataframe thead th {\n",
       "        text-align: right;\n",
       "    }\n",
       "</style>\n",
       "<table border=\"1\" class=\"dataframe\">\n",
       "  <thead>\n",
       "    <tr style=\"text-align: right;\">\n",
       "      <th></th>\n",
       "      <th>0</th>\n",
       "      <th>1</th>\n",
       "      <th>2</th>\n",
       "      <th>3</th>\n",
       "      <th>4</th>\n",
       "    </tr>\n",
       "  </thead>\n",
       "  <tbody>\n",
       "    <tr>\n",
       "      <th>Gender</th>\n",
       "      <td>0.000000</td>\n",
       "      <td>0.00000</td>\n",
       "      <td>0.000000</td>\n",
       "      <td>0.000000</td>\n",
       "      <td>1.000000</td>\n",
       "    </tr>\n",
       "    <tr>\n",
       "      <th>Age</th>\n",
       "      <td>44.000000</td>\n",
       "      <td>76.00000</td>\n",
       "      <td>47.000000</td>\n",
       "      <td>21.000000</td>\n",
       "      <td>29.000000</td>\n",
       "    </tr>\n",
       "    <tr>\n",
       "      <th>Region_Code</th>\n",
       "      <td>28.000000</td>\n",
       "      <td>3.00000</td>\n",
       "      <td>28.000000</td>\n",
       "      <td>11.000000</td>\n",
       "      <td>41.000000</td>\n",
       "    </tr>\n",
       "    <tr>\n",
       "      <th>Previously_Insured</th>\n",
       "      <td>0.000000</td>\n",
       "      <td>0.00000</td>\n",
       "      <td>0.000000</td>\n",
       "      <td>1.000000</td>\n",
       "      <td>1.000000</td>\n",
       "    </tr>\n",
       "    <tr>\n",
       "      <th>Vehicle_Age</th>\n",
       "      <td>2.000000</td>\n",
       "      <td>1.00000</td>\n",
       "      <td>2.000000</td>\n",
       "      <td>0.000000</td>\n",
       "      <td>0.000000</td>\n",
       "    </tr>\n",
       "    <tr>\n",
       "      <th>Vehicle_Damage</th>\n",
       "      <td>1.000000</td>\n",
       "      <td>0.00000</td>\n",
       "      <td>1.000000</td>\n",
       "      <td>0.000000</td>\n",
       "      <td>0.000000</td>\n",
       "    </tr>\n",
       "    <tr>\n",
       "      <th>Annual_Premium</th>\n",
       "      <td>40454.000000</td>\n",
       "      <td>33536.00000</td>\n",
       "      <td>38294.000000</td>\n",
       "      <td>28619.000000</td>\n",
       "      <td>27496.000000</td>\n",
       "    </tr>\n",
       "    <tr>\n",
       "      <th>Policy_Sales_Channel</th>\n",
       "      <td>26.000000</td>\n",
       "      <td>26.00000</td>\n",
       "      <td>26.000000</td>\n",
       "      <td>152.000000</td>\n",
       "      <td>152.000000</td>\n",
       "    </tr>\n",
       "    <tr>\n",
       "      <th>Vintage</th>\n",
       "      <td>0.594521</td>\n",
       "      <td>0.50137</td>\n",
       "      <td>0.073973</td>\n",
       "      <td>0.556164</td>\n",
       "      <td>0.106849</td>\n",
       "    </tr>\n",
       "    <tr>\n",
       "      <th>0_Male</th>\n",
       "      <td>0.000000</td>\n",
       "      <td>0.00000</td>\n",
       "      <td>0.000000</td>\n",
       "      <td>0.000000</td>\n",
       "      <td>0.000000</td>\n",
       "    </tr>\n",
       "    <tr>\n",
       "      <th>1_Female</th>\n",
       "      <td>0.000000</td>\n",
       "      <td>0.00000</td>\n",
       "      <td>0.000000</td>\n",
       "      <td>0.000000</td>\n",
       "      <td>1.000000</td>\n",
       "    </tr>\n",
       "    <tr>\n",
       "      <th>1_Male</th>\n",
       "      <td>1.000000</td>\n",
       "      <td>1.00000</td>\n",
       "      <td>1.000000</td>\n",
       "      <td>1.000000</td>\n",
       "      <td>0.000000</td>\n",
       "    </tr>\n",
       "    <tr>\n",
       "      <th>1-2 Year_No</th>\n",
       "      <td>0.000000</td>\n",
       "      <td>1.00000</td>\n",
       "      <td>0.000000</td>\n",
       "      <td>0.000000</td>\n",
       "      <td>0.000000</td>\n",
       "    </tr>\n",
       "    <tr>\n",
       "      <th>1-2 Year_Yes</th>\n",
       "      <td>0.000000</td>\n",
       "      <td>0.00000</td>\n",
       "      <td>0.000000</td>\n",
       "      <td>0.000000</td>\n",
       "      <td>0.000000</td>\n",
       "    </tr>\n",
       "    <tr>\n",
       "      <th>&lt; 1 Year_No</th>\n",
       "      <td>0.000000</td>\n",
       "      <td>0.00000</td>\n",
       "      <td>0.000000</td>\n",
       "      <td>1.000000</td>\n",
       "      <td>1.000000</td>\n",
       "    </tr>\n",
       "    <tr>\n",
       "      <th>&lt; 1 Year_Yes</th>\n",
       "      <td>0.000000</td>\n",
       "      <td>0.00000</td>\n",
       "      <td>0.000000</td>\n",
       "      <td>0.000000</td>\n",
       "      <td>0.000000</td>\n",
       "    </tr>\n",
       "    <tr>\n",
       "      <th>&gt; 2 Years_No</th>\n",
       "      <td>0.000000</td>\n",
       "      <td>0.00000</td>\n",
       "      <td>0.000000</td>\n",
       "      <td>0.000000</td>\n",
       "      <td>0.000000</td>\n",
       "    </tr>\n",
       "    <tr>\n",
       "      <th>&gt; 2 Years_Yes</th>\n",
       "      <td>1.000000</td>\n",
       "      <td>0.00000</td>\n",
       "      <td>1.000000</td>\n",
       "      <td>0.000000</td>\n",
       "      <td>0.000000</td>\n",
       "    </tr>\n",
       "    <tr>\n",
       "      <th>1-2 Year_0</th>\n",
       "      <td>0.000000</td>\n",
       "      <td>1.00000</td>\n",
       "      <td>0.000000</td>\n",
       "      <td>0.000000</td>\n",
       "      <td>0.000000</td>\n",
       "    </tr>\n",
       "    <tr>\n",
       "      <th>1-2 Year_1</th>\n",
       "      <td>0.000000</td>\n",
       "      <td>0.00000</td>\n",
       "      <td>0.000000</td>\n",
       "      <td>0.000000</td>\n",
       "      <td>0.000000</td>\n",
       "    </tr>\n",
       "    <tr>\n",
       "      <th>&lt; 1 Year_0</th>\n",
       "      <td>0.000000</td>\n",
       "      <td>0.00000</td>\n",
       "      <td>0.000000</td>\n",
       "      <td>0.000000</td>\n",
       "      <td>0.000000</td>\n",
       "    </tr>\n",
       "    <tr>\n",
       "      <th>&lt; 1 Year_1</th>\n",
       "      <td>0.000000</td>\n",
       "      <td>0.00000</td>\n",
       "      <td>0.000000</td>\n",
       "      <td>1.000000</td>\n",
       "      <td>1.000000</td>\n",
       "    </tr>\n",
       "    <tr>\n",
       "      <th>&gt; 2 Years_0</th>\n",
       "      <td>1.000000</td>\n",
       "      <td>0.00000</td>\n",
       "      <td>1.000000</td>\n",
       "      <td>0.000000</td>\n",
       "      <td>0.000000</td>\n",
       "    </tr>\n",
       "    <tr>\n",
       "      <th>&gt; 2 Years_1</th>\n",
       "      <td>0.000000</td>\n",
       "      <td>0.00000</td>\n",
       "      <td>0.000000</td>\n",
       "      <td>0.000000</td>\n",
       "      <td>0.000000</td>\n",
       "    </tr>\n",
       "  </tbody>\n",
       "</table>\n",
       "</div>"
      ],
      "text/plain": [
       "                                 0            1             2             3  \\\n",
       "Gender                    0.000000      0.00000      0.000000      0.000000   \n",
       "Age                      44.000000     76.00000     47.000000     21.000000   \n",
       "Region_Code              28.000000      3.00000     28.000000     11.000000   \n",
       "Previously_Insured        0.000000      0.00000      0.000000      1.000000   \n",
       "Vehicle_Age               2.000000      1.00000      2.000000      0.000000   \n",
       "Vehicle_Damage            1.000000      0.00000      1.000000      0.000000   \n",
       "Annual_Premium        40454.000000  33536.00000  38294.000000  28619.000000   \n",
       "Policy_Sales_Channel     26.000000     26.00000     26.000000    152.000000   \n",
       "Vintage                   0.594521      0.50137      0.073973      0.556164   \n",
       "0_Male                    0.000000      0.00000      0.000000      0.000000   \n",
       "1_Female                  0.000000      0.00000      0.000000      0.000000   \n",
       "1_Male                    1.000000      1.00000      1.000000      1.000000   \n",
       "1-2 Year_No               0.000000      1.00000      0.000000      0.000000   \n",
       "1-2 Year_Yes              0.000000      0.00000      0.000000      0.000000   \n",
       "< 1 Year_No               0.000000      0.00000      0.000000      1.000000   \n",
       "< 1 Year_Yes              0.000000      0.00000      0.000000      0.000000   \n",
       "> 2 Years_No              0.000000      0.00000      0.000000      0.000000   \n",
       "> 2 Years_Yes             1.000000      0.00000      1.000000      0.000000   \n",
       "1-2 Year_0                0.000000      1.00000      0.000000      0.000000   \n",
       "1-2 Year_1                0.000000      0.00000      0.000000      0.000000   \n",
       "< 1 Year_0                0.000000      0.00000      0.000000      0.000000   \n",
       "< 1 Year_1                0.000000      0.00000      0.000000      1.000000   \n",
       "> 2 Years_0               1.000000      0.00000      1.000000      0.000000   \n",
       "> 2 Years_1               0.000000      0.00000      0.000000      0.000000   \n",
       "\n",
       "                                 4  \n",
       "Gender                    1.000000  \n",
       "Age                      29.000000  \n",
       "Region_Code              41.000000  \n",
       "Previously_Insured        1.000000  \n",
       "Vehicle_Age               0.000000  \n",
       "Vehicle_Damage            0.000000  \n",
       "Annual_Premium        27496.000000  \n",
       "Policy_Sales_Channel    152.000000  \n",
       "Vintage                   0.106849  \n",
       "0_Male                    0.000000  \n",
       "1_Female                  1.000000  \n",
       "1_Male                    0.000000  \n",
       "1-2 Year_No               0.000000  \n",
       "1-2 Year_Yes              0.000000  \n",
       "< 1 Year_No               1.000000  \n",
       "< 1 Year_Yes              0.000000  \n",
       "> 2 Years_No              0.000000  \n",
       "> 2 Years_Yes             0.000000  \n",
       "1-2 Year_0                0.000000  \n",
       "1-2 Year_1                0.000000  \n",
       "< 1 Year_0                0.000000  \n",
       "< 1 Year_1                1.000000  \n",
       "> 2 Years_0               0.000000  \n",
       "> 2 Years_1               0.000000  "
      ]
     },
     "execution_count": 41,
     "metadata": {},
     "output_type": "execute_result"
    }
   ],
   "source": [
    "data.head().T"
   ]
  },
  {
   "cell_type": "markdown",
   "metadata": {
    "papermill": {
     "duration": 0.068506,
     "end_time": "2020-09-21T06:00:35.754161",
     "exception": false,
     "start_time": "2020-09-21T06:00:35.685655",
     "status": "completed"
    },
    "tags": []
   },
   "source": [
    "## Splitting back the data to train and test set."
   ]
  },
  {
   "cell_type": "code",
   "execution_count": 42,
   "metadata": {
    "execution": {
     "iopub.execute_input": "2020-09-21T06:00:35.894922Z",
     "iopub.status.busy": "2020-09-21T06:00:35.894036Z",
     "iopub.status.idle": "2020-09-21T06:00:35.897390Z",
     "shell.execute_reply": "2020-09-21T06:00:35.896716Z"
    },
    "papermill": {
     "duration": 0.076564,
     "end_time": "2020-09-21T06:00:35.897512",
     "exception": false,
     "start_time": "2020-09-21T06:00:35.820948",
     "status": "completed"
    },
    "tags": []
   },
   "outputs": [],
   "source": [
    "train_new= data[:len(train_orig)]\n",
    "test_new= data[len(train_orig):]"
   ]
  },
  {
   "cell_type": "markdown",
   "metadata": {
    "papermill": {
     "duration": 0.067453,
     "end_time": "2020-09-21T06:00:36.033692",
     "exception": false,
     "start_time": "2020-09-21T06:00:35.966239",
     "status": "completed"
    },
    "tags": []
   },
   "source": [
    "## Imbalanced binary classification- Using Oversampler"
   ]
  },
  {
   "cell_type": "code",
   "execution_count": 43,
   "metadata": {
    "execution": {
     "iopub.execute_input": "2020-09-21T06:00:36.175695Z",
     "iopub.status.busy": "2020-09-21T06:00:36.174672Z",
     "iopub.status.idle": "2020-09-21T06:00:36.899991Z",
     "shell.execute_reply": "2020-09-21T06:00:36.900550Z"
    },
    "papermill": {
     "duration": 0.799368,
     "end_time": "2020-09-21T06:00:36.900699",
     "exception": false,
     "start_time": "2020-09-21T06:00:36.101331",
     "status": "completed"
    },
    "tags": []
   },
   "outputs": [],
   "source": [
    "train_os=RandomOverSampler(random_state=101)\n",
    "y=train_orig['Response']\n",
    "\n",
    "X_os,y_os=train_os.fit_sample(train_new,y)"
   ]
  },
  {
   "cell_type": "code",
   "execution_count": 44,
   "metadata": {
    "execution": {
     "iopub.execute_input": "2020-09-21T06:00:37.043001Z",
     "iopub.status.busy": "2020-09-21T06:00:37.041947Z",
     "iopub.status.idle": "2020-09-21T06:00:37.243848Z",
     "shell.execute_reply": "2020-09-21T06:00:37.243269Z"
    },
    "papermill": {
     "duration": 0.273587,
     "end_time": "2020-09-21T06:00:37.243962",
     "exception": false,
     "start_time": "2020-09-21T06:00:36.970375",
     "status": "completed"
    },
    "tags": []
   },
   "outputs": [
    {
     "name": "stdout",
     "output_type": "stream",
     "text": [
      "Original dataset shape Counter({0: 334399, 1: 46710})\n",
      "Resampled dataset shape Counter({1: 334399, 0: 334399})\n"
     ]
    }
   ],
   "source": [
    "print('Original dataset shape {}'.format(Counter(y)))\n",
    "print('Resampled dataset shape {}'.format(Counter(y_os))) "
   ]
  },
  {
   "cell_type": "code",
   "execution_count": 45,
   "metadata": {
    "execution": {
     "iopub.execute_input": "2020-09-21T06:00:37.388909Z",
     "iopub.status.busy": "2020-09-21T06:00:37.388266Z",
     "iopub.status.idle": "2020-09-21T06:00:37.525275Z",
     "shell.execute_reply": "2020-09-21T06:00:37.524537Z"
    },
    "papermill": {
     "duration": 0.212548,
     "end_time": "2020-09-21T06:00:37.525463",
     "exception": false,
     "start_time": "2020-09-21T06:00:37.312915",
     "status": "completed"
    },
    "tags": []
   },
   "outputs": [],
   "source": [
    "#y= train_orig['Response']\n",
    "\n",
    "X_train, X_val, y_train, y_val = train_test_split(X_os, y_os, test_size=0.3, random_state=101)"
   ]
  },
  {
   "cell_type": "code",
   "execution_count": 46,
   "metadata": {
    "execution": {
     "iopub.execute_input": "2020-09-21T06:00:37.669821Z",
     "iopub.status.busy": "2020-09-21T06:00:37.668718Z",
     "iopub.status.idle": "2020-09-21T06:00:37.776871Z",
     "shell.execute_reply": "2020-09-21T06:00:37.777404Z"
    },
    "papermill": {
     "duration": 0.182994,
     "end_time": "2020-09-21T06:00:37.777562",
     "exception": false,
     "start_time": "2020-09-21T06:00:37.594568",
     "status": "completed"
    },
    "tags": []
   },
   "outputs": [],
   "source": [
    "check= pd.concat([train_new,pd.DataFrame(data=train_orig['Response'],columns=['Response'])],axis=1,sort=False)"
   ]
  },
  {
   "cell_type": "markdown",
   "metadata": {
    "papermill": {
     "duration": 0.069931,
     "end_time": "2020-09-21T06:00:37.916802",
     "exception": false,
     "start_time": "2020-09-21T06:00:37.846871",
     "status": "completed"
    },
    "tags": []
   },
   "source": [
    "**checking the correlation of data**"
   ]
  },
  {
   "cell_type": "code",
   "execution_count": 47,
   "metadata": {
    "execution": {
     "iopub.execute_input": "2020-09-21T06:00:38.058815Z",
     "iopub.status.busy": "2020-09-21T06:00:38.057743Z",
     "iopub.status.idle": "2020-09-21T06:00:40.833457Z",
     "shell.execute_reply": "2020-09-21T06:00:40.834144Z"
    },
    "papermill": {
     "duration": 2.848087,
     "end_time": "2020-09-21T06:00:40.834333",
     "exception": false,
     "start_time": "2020-09-21T06:00:37.986246",
     "status": "completed"
    },
    "tags": []
   },
   "outputs": [
    {
     "data": {
      "image/png": "[encoded data removed]",
      "text/plain": [
       "<Figure size 1152x720 with 1 Axes>"
      ]
     },
     "metadata": {
      "needs_background": "light"
     },
     "output_type": "display_data"
    }
   ],
   "source": [
    "plt.figure(figsize=(16,10))\n",
    "sns.heatmap(check.corr(),cbar=False,cmap='inferno',annot=True);"
   ]
  },
  {
   "cell_type": "code",
   "execution_count": 48,
   "metadata": {
    "execution": {
     "iopub.execute_input": "2020-09-21T06:00:41.002981Z",
     "iopub.status.busy": "2020-09-21T06:00:41.002042Z",
     "iopub.status.idle": "2020-09-21T06:00:41.630740Z",
     "shell.execute_reply": "2020-09-21T06:00:41.630072Z"
    },
    "papermill": {
     "duration": 0.716541,
     "end_time": "2020-09-21T06:00:41.630870",
     "exception": false,
     "start_time": "2020-09-21T06:00:40.914329",
     "status": "completed"
    },
    "tags": []
   },
   "outputs": [
    {
     "data": {
      "text/plain": [
       "Previously_Insured     -0.341170\n",
       "< 1 Year_No            -0.241425\n",
       "< 1 Year_1             -0.235839\n",
       "1-2 Year_No            -0.168342\n",
       "1-2 Year_1             -0.167971\n",
       "Policy_Sales_Channel   -0.139042\n",
       "Gender                 -0.052440\n",
       "1_Female               -0.052252\n",
       "0_Male                 -0.009392\n",
       "> 2 Years_1            -0.003378\n",
       "> 2 Years_No           -0.002345\n",
       "Vintage                -0.001050\n",
       "< 1 Year_0              0.007579\n",
       "Region_Code             0.010570\n",
       "< 1 Year_Yes            0.021881\n",
       "Annual_Premium          0.022057\n",
       "1_Male                  0.053174\n",
       "> 2 Years_Yes           0.109422\n",
       "> 2 Years_0             0.109636\n",
       "Age                     0.111147\n",
       "Vehicle_Age             0.221874\n",
       "1-2 Year_0              0.303912\n",
       "1-2 Year_Yes            0.313186\n",
       "Vehicle_Damage          0.354400\n",
       "Response                1.000000\n",
       "Name: Response, dtype: float64"
      ]
     },
     "execution_count": 48,
     "metadata": {},
     "output_type": "execute_result"
    }
   ],
   "source": [
    "check.corr()[\"Response\"].sort_values()"
   ]
  },
  {
   "cell_type": "markdown",
   "metadata": {
    "papermill": {
     "duration": 0.078819,
     "end_time": "2020-09-21T06:00:41.790015",
     "exception": false,
     "start_time": "2020-09-21T06:00:41.711196",
     "status": "completed"
    },
    "tags": []
   },
   "source": [
    "# Model building- LGBMClassifier"
   ]
  },
  {
   "cell_type": "code",
   "execution_count": 49,
   "metadata": {
    "execution": {
     "iopub.execute_input": "2020-09-21T06:00:41.953649Z",
     "iopub.status.busy": "2020-09-21T06:00:41.952656Z",
     "iopub.status.idle": "2020-09-21T06:00:41.955649Z",
     "shell.execute_reply": "2020-09-21T06:00:41.956264Z"
    },
    "papermill": {
     "duration": 0.088196,
     "end_time": "2020-09-21T06:00:41.956420",
     "exception": false,
     "start_time": "2020-09-21T06:00:41.868224",
     "status": "completed"
    },
    "tags": []
   },
   "outputs": [],
   "source": [
    "model= LGBMClassifier(boosting_type='gbdt',objective='binary',random_state=101)"
   ]
  },
  {
   "cell_type": "markdown",
   "metadata": {
    "papermill": {
     "duration": 0.076773,
     "end_time": "2020-09-21T06:00:42.110520",
     "exception": false,
     "start_time": "2020-09-21T06:00:42.033747",
     "status": "completed"
    },
    "tags": []
   },
   "source": [
    "# Hyperparameter tuning"
   ]
  },
  {
   "cell_type": "raw",
   "metadata": {
    "papermill": {
     "duration": 0.078659,
     "end_time": "2020-09-21T06:00:42.266155",
     "exception": false,
     "start_time": "2020-09-21T06:00:42.187496",
     "status": "completed"
    },
    "tags": []
   },
   "source": [
    "param= {'learning_rate':[0.3,0.03,0.003],\n",
    "       'n_estimators':[200,400,600],\n",
    "       'reg_lambda':[0.5,0.8,1.2],\n",
    "       'reg_alpha':[0.1,0.2,0.4],\n",
    "       'colsample_bytree':[0.5,0.4,0.3]}\n",
    "\n",
    "model_tuning= RandomizedSearchCV(estimator=model,\n",
    "                           param_distributions=param,\n",
    "                           n_jobs=-1, verbose=2, cv=5,scoring='roc_auc')\n",
    "\n",
    "model_tuning.fit(X_train,y_train)"
   ]
  },
  {
   "cell_type": "code",
   "execution_count": 50,
   "metadata": {
    "execution": {
     "iopub.execute_input": "2020-09-21T06:00:42.430524Z",
     "iopub.status.busy": "2020-09-21T06:00:42.429449Z",
     "iopub.status.idle": "2020-09-21T06:00:42.432955Z",
     "shell.execute_reply": "2020-09-21T06:00:42.432149Z"
    },
    "papermill": {
     "duration": 0.086463,
     "end_time": "2020-09-21T06:00:42.433110",
     "exception": false,
     "start_time": "2020-09-21T06:00:42.346647",
     "status": "completed"
    },
    "tags": []
   },
   "outputs": [],
   "source": [
    "#model_tuning.best_estimator_"
   ]
  },
  {
   "cell_type": "code",
   "execution_count": 51,
   "metadata": {
    "execution": {
     "iopub.execute_input": "2020-09-21T06:00:42.596370Z",
     "iopub.status.busy": "2020-09-21T06:00:42.595658Z",
     "iopub.status.idle": "2020-09-21T06:00:55.682370Z",
     "shell.execute_reply": "2020-09-21T06:00:55.681478Z"
    },
    "papermill": {
     "duration": 13.17117,
     "end_time": "2020-09-21T06:00:55.682542",
     "exception": false,
     "start_time": "2020-09-21T06:00:42.511372",
     "status": "completed"
    },
    "tags": []
   },
   "outputs": [
    {
     "data": {
      "text/plain": [
       "LGBMClassifier(colsample_bytree=0.5, learning_rate=0.03, n_estimators=600,\n",
       "               objective='binary', random_state=101, reg_alpha=0.1,\n",
       "               reg_lambda=0.8)"
      ]
     },
     "execution_count": 51,
     "metadata": {},
     "output_type": "execute_result"
    }
   ],
   "source": [
    "model=LGBMClassifier(colsample_bytree=0.5, learning_rate=0.03,\n",
    "                     n_estimators=600, objective='binary', reg_alpha=0.1,\n",
    "                     random_state=101,reg_lambda=0.8)\n",
    "\n",
    "model.fit(X_train,y_train)"
   ]
  },
  {
   "cell_type": "code",
   "execution_count": 52,
   "metadata": {
    "execution": {
     "iopub.execute_input": "2020-09-21T06:00:56.035174Z",
     "iopub.status.busy": "2020-09-21T06:00:56.034153Z",
     "iopub.status.idle": "2020-09-21T06:01:21.952813Z",
     "shell.execute_reply": "2020-09-21T06:01:21.953664Z"
    },
    "papermill": {
     "duration": 26.168706,
     "end_time": "2020-09-21T06:01:21.953850",
     "exception": false,
     "start_time": "2020-09-21T06:00:55.785144",
     "status": "completed"
    },
    "tags": []
   },
   "outputs": [
    {
     "data": {
      "text/plain": [
       "0.8621796288560294"
      ]
     },
     "execution_count": 52,
     "metadata": {},
     "output_type": "execute_result"
    }
   ],
   "source": [
    "cv = ShuffleSplit(n_splits=5, test_size=0.3, random_state=0)\n",
    "scores=cross_val_score(model, X_val, y_val, cv=cv,scoring='roc_auc')\n",
    "scores.mean()"
   ]
  },
  {
   "cell_type": "code",
   "execution_count": 53,
   "metadata": {
    "execution": {
     "iopub.execute_input": "2020-09-21T06:01:22.151829Z",
     "iopub.status.busy": "2020-09-21T06:01:22.151091Z",
     "iopub.status.idle": "2020-09-21T06:01:24.613586Z",
     "shell.execute_reply": "2020-09-21T06:01:24.614273Z"
    },
    "papermill": {
     "duration": 2.557472,
     "end_time": "2020-09-21T06:01:24.614449",
     "exception": false,
     "start_time": "2020-09-21T06:01:22.056977",
     "status": "completed"
    },
    "tags": []
   },
   "outputs": [],
   "source": [
    "val_pred= model.predict_proba(X_val)[:,1]"
   ]
  },
  {
   "cell_type": "code",
   "execution_count": 54,
   "metadata": {
    "execution": {
     "iopub.execute_input": "2020-09-21T06:01:24.863073Z",
     "iopub.status.busy": "2020-09-21T06:01:24.861860Z",
     "iopub.status.idle": "2020-09-21T06:01:24.871502Z",
     "shell.execute_reply": "2020-09-21T06:01:24.871995Z"
    },
    "papermill": {
     "duration": 0.155949,
     "end_time": "2020-09-21T06:01:24.872180",
     "exception": false,
     "start_time": "2020-09-21T06:01:24.716231",
     "status": "completed"
    },
    "tags": []
   },
   "outputs": [
    {
     "data": {
      "text/plain": [
       "array([0.7255665 , 0.76566746, 0.00116814, ..., 0.00340806, 0.79594706,\n",
       "       0.21848363])"
      ]
     },
     "execution_count": 54,
     "metadata": {},
     "output_type": "execute_result"
    }
   ],
   "source": [
    "val_pred"
   ]
  },
  {
   "cell_type": "code",
   "execution_count": 55,
   "metadata": {
    "execution": {
     "iopub.execute_input": "2020-09-21T06:01:25.048351Z",
     "iopub.status.busy": "2020-09-21T06:01:25.047314Z",
     "iopub.status.idle": "2020-09-21T06:01:25.126542Z",
     "shell.execute_reply": "2020-09-21T06:01:25.127479Z"
    },
    "papermill": {
     "duration": 0.167327,
     "end_time": "2020-09-21T06:01:25.127676",
     "exception": false,
     "start_time": "2020-09-21T06:01:24.960349",
     "status": "completed"
    },
    "tags": []
   },
   "outputs": [
    {
     "name": "stdout",
     "output_type": "stream",
     "text": [
      "0.8639176278141021\n"
     ]
    }
   ],
   "source": [
    "print(roc_auc_score(y_val,val_pred))"
   ]
  },
  {
   "cell_type": "code",
   "execution_count": 56,
   "metadata": {
    "execution": {
     "iopub.execute_input": "2020-09-21T06:01:25.292384Z",
     "iopub.status.busy": "2020-09-21T06:01:25.291278Z",
     "iopub.status.idle": "2020-09-21T06:01:26.885010Z",
     "shell.execute_reply": "2020-09-21T06:01:26.885776Z"
    },
    "papermill": {
     "duration": 1.678165,
     "end_time": "2020-09-21T06:01:26.885966",
     "exception": false,
     "start_time": "2020-09-21T06:01:25.207801",
     "status": "completed"
    },
    "tags": []
   },
   "outputs": [],
   "source": [
    "pred= model.predict_proba(test_new)[:,1]"
   ]
  },
  {
   "cell_type": "markdown",
   "metadata": {
    "papermill": {
     "duration": 0.09191,
     "end_time": "2020-09-21T06:01:27.083931",
     "exception": false,
     "start_time": "2020-09-21T06:01:26.992021",
     "status": "completed"
    },
    "tags": []
   },
   "source": [
    "# File submission"
   ]
  },
  {
   "cell_type": "code",
   "execution_count": 57,
   "metadata": {
    "execution": {
     "iopub.execute_input": "2020-09-21T06:01:27.254642Z",
     "iopub.status.busy": "2020-09-21T06:01:27.253541Z",
     "iopub.status.idle": "2020-09-21T06:01:27.257763Z",
     "shell.execute_reply": "2020-09-21T06:01:27.258269Z"
    },
    "papermill": {
     "duration": 0.0936,
     "end_time": "2020-09-21T06:01:27.258439",
     "exception": false,
     "start_time": "2020-09-21T06:01:27.164839",
     "status": "completed"
    },
    "tags": []
   },
   "outputs": [
    {
     "data": {
      "text/html": [
       "<div>\n",
       "<style scoped>\n",
       "    .dataframe tbody tr th:only-of-type {\n",
       "        vertical-align: middle;\n",
       "    }\n",
       "\n",
       "    .dataframe tbody tr th {\n",
       "        vertical-align: top;\n",
       "    }\n",
       "\n",
       "    .dataframe thead th {\n",
       "        text-align: right;\n",
       "    }\n",
       "</style>\n",
       "<table border=\"1\" class=\"dataframe\">\n",
       "  <thead>\n",
       "    <tr style=\"text-align: right;\">\n",
       "      <th></th>\n",
       "      <th>id</th>\n",
       "      <th>Response</th>\n",
       "    </tr>\n",
       "  </thead>\n",
       "  <tbody>\n",
       "    <tr>\n",
       "      <th>0</th>\n",
       "      <td>381110</td>\n",
       "      <td>0</td>\n",
       "    </tr>\n",
       "    <tr>\n",
       "      <th>1</th>\n",
       "      <td>381111</td>\n",
       "      <td>0</td>\n",
       "    </tr>\n",
       "    <tr>\n",
       "      <th>2</th>\n",
       "      <td>381112</td>\n",
       "      <td>0</td>\n",
       "    </tr>\n",
       "    <tr>\n",
       "      <th>3</th>\n",
       "      <td>381113</td>\n",
       "      <td>0</td>\n",
       "    </tr>\n",
       "    <tr>\n",
       "      <th>4</th>\n",
       "      <td>381114</td>\n",
       "      <td>0</td>\n",
       "    </tr>\n",
       "  </tbody>\n",
       "</table>\n",
       "</div>"
      ],
      "text/plain": [
       "       id  Response\n",
       "0  381110         0\n",
       "1  381111         0\n",
       "2  381112         0\n",
       "3  381113         0\n",
       "4  381114         0"
      ]
     },
     "execution_count": 57,
     "metadata": {},
     "output_type": "execute_result"
    }
   ],
   "source": [
    "subm.head()"
   ]
  },
  {
   "cell_type": "code",
   "execution_count": 58,
   "metadata": {
    "execution": {
     "iopub.execute_input": "2020-09-21T06:01:27.463096Z",
     "iopub.status.busy": "2020-09-21T06:01:27.462086Z",
     "iopub.status.idle": "2020-09-21T06:01:27.467691Z",
     "shell.execute_reply": "2020-09-21T06:01:27.466784Z"
    },
    "papermill": {
     "duration": 0.122469,
     "end_time": "2020-09-21T06:01:27.467876",
     "exception": false,
     "start_time": "2020-09-21T06:01:27.345407",
     "status": "completed"
    },
    "tags": []
   },
   "outputs": [],
   "source": [
    "subm['Response']= pred"
   ]
  },
  {
   "cell_type": "code",
   "execution_count": 59,
   "metadata": {
    "execution": {
     "iopub.execute_input": "2020-09-21T06:01:27.648673Z",
     "iopub.status.busy": "2020-09-21T06:01:27.647859Z",
     "iopub.status.idle": "2020-09-21T06:01:28.531617Z",
     "shell.execute_reply": "2020-09-21T06:01:28.530847Z"
    },
    "papermill": {
     "duration": 0.970434,
     "end_time": "2020-09-21T06:01:28.531746",
     "exception": false,
     "start_time": "2020-09-21T06:01:27.561312",
     "status": "completed"
    },
    "tags": []
   },
   "outputs": [],
   "source": [
    "subm.to_csv('submission.csv',index=False)"
   ]
  },
  {
   "cell_type": "markdown",
   "metadata": {
    "papermill": {
     "duration": 0.085117,
     "end_time": "2020-09-21T06:01:28.700248",
     "exception": false,
     "start_time": "2020-09-21T06:01:28.615131",
     "status": "completed"
    },
    "tags": []
   },
   "source": [
    "# Thank You\n",
    "# Please upvote, if you find it insightful."
   ]
  }
 ],
 "metadata": {
  "kernelspec": {
   "display_name": "Python 3",
   "language": "python",
   "name": "python3"
  },
  "language_info": {
   "codemirror_mode": {
    "name": "ipython",
    "version": 3
   },
   "file_extension": ".py",
   "mimetype": "text/x-python",
   "name": "python",
   "nbconvert_exporter": "python",
   "pygments_lexer": "ipython3",
   "version": "3.7.6"
  },
  "papermill": {
   "duration": 76.123857,
   "end_time": "2020-09-21T06:01:28.896289",
   "environment_variables": {},
   "exception": null,
   "input_path": "__notebook__.ipynb",
   "output_path": "__notebook__.ipynb",
   "parameters": {},
   "start_time": "2020-09-21T06:00:12.772432",
   "version": "2.1.0"
  }
 },
 "nbformat": 4,
 "nbformat_minor": 4
}
