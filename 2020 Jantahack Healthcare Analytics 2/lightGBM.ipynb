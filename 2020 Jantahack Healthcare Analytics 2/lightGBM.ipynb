{
 "cells": [
  {
   "cell_type": "markdown",
   "metadata": {},
   "source": [
    "# Importing libraries and Loading the Data"
   ]
  },
  {
   "cell_type": "code",
   "execution_count": 1,
   "metadata": {},
   "outputs": [],
   "source": [
    "import pandas as pd\n",
    "import numpy as np\n",
    "import seaborn as sns\n",
    "import matplotlib.pyplot as plt\n",
    "%matplotlib inline"
   ]
  },
  {
   "cell_type": "code",
   "execution_count": 2,
   "metadata": {},
   "outputs": [],
   "source": [
    "train_orig= pd.read_csv('train.csv')\n",
    "test_orig= pd.read_csv('test.csv')\n",
    "subm= pd.read_csv('sample_submission_lfbv3c3.csv')"
   ]
  },
  {
   "cell_type": "markdown",
   "metadata": {},
   "source": [
    "**Number of unique values for each column in train and test dataset**"
   ]
  },
  {
   "cell_type": "code",
   "execution_count": 3,
   "metadata": {},
   "outputs": [
    {
     "name": "stdout",
     "output_type": "stream",
     "text": [
      "case_id:\n",
      "train:318438\n",
      "test:137057\n",
      "=======================================\n",
      "Hospital_code:\n",
      "train:32\n",
      "test:32\n",
      "=======================================\n",
      "Hospital_type_code:\n",
      "train:7\n",
      "test:7\n",
      "=======================================\n",
      "City_Code_Hospital:\n",
      "train:11\n",
      "test:11\n",
      "=======================================\n",
      "Hospital_region_code:\n",
      "train:3\n",
      "test:3\n",
      "=======================================\n",
      "Available Extra Rooms in Hospital:\n",
      "train:18\n",
      "test:15\n",
      "=======================================\n",
      "Department:\n",
      "train:5\n",
      "test:5\n",
      "=======================================\n",
      "Ward_Type:\n",
      "train:6\n",
      "test:6\n",
      "=======================================\n",
      "Ward_Facility_Code:\n",
      "train:6\n",
      "test:6\n",
      "=======================================\n",
      "Bed Grade:\n",
      "train:4\n",
      "test:4\n",
      "=======================================\n",
      "patientid:\n",
      "train:92017\n",
      "test:39607\n",
      "=======================================\n",
      "City_Code_Patient:\n",
      "train:37\n",
      "test:37\n",
      "=======================================\n",
      "Type of Admission:\n",
      "train:3\n",
      "test:3\n",
      "=======================================\n",
      "Severity of Illness:\n",
      "train:3\n",
      "test:3\n",
      "=======================================\n",
      "Visitors with Patient:\n",
      "train:28\n",
      "test:27\n",
      "=======================================\n",
      "Age:\n",
      "train:10\n",
      "test:10\n",
      "=======================================\n",
      "Admission_Deposit:\n",
      "train:7300\n",
      "test:6609\n",
      "=======================================\n"
     ]
    }
   ],
   "source": [
    "for col in test_orig.columns:\n",
    "    print(\"{}:\\ntrain:{}\\ntest:{}\".format(col,train_orig[col].nunique(),test_orig[col].nunique()))\n",
    "    print(\"=======================================\")"
   ]
  },
  {
   "cell_type": "code",
   "execution_count": 4,
   "metadata": {},
   "outputs": [
    {
     "data": {
      "text/plain": [
       "case_id                                 0\n",
       "Hospital_code                           0\n",
       "Hospital_type_code                      0\n",
       "City_Code_Hospital                      0\n",
       "Hospital_region_code                    0\n",
       "Available Extra Rooms in Hospital       0\n",
       "Department                              0\n",
       "Ward_Type                               0\n",
       "Ward_Facility_Code                      0\n",
       "Bed Grade                              35\n",
       "patientid                               0\n",
       "City_Code_Patient                    2157\n",
       "Type of Admission                       0\n",
       "Severity of Illness                     0\n",
       "Visitors with Patient                   0\n",
       "Age                                     0\n",
       "Admission_Deposit                       0\n",
       "dtype: int64"
      ]
     },
     "execution_count": 4,
     "metadata": {},
     "output_type": "execute_result"
    }
   ],
   "source": [
    "test_orig.isna().sum()"
   ]
  },
  {
   "cell_type": "code",
   "execution_count": 5,
   "metadata": {},
   "outputs": [
    {
     "data": {
      "text/plain": [
       "case_id                                 0\n",
       "Hospital_code                           0\n",
       "Hospital_type_code                      0\n",
       "City_Code_Hospital                      0\n",
       "Hospital_region_code                    0\n",
       "Available Extra Rooms in Hospital       0\n",
       "Department                              0\n",
       "Ward_Type                               0\n",
       "Ward_Facility_Code                      0\n",
       "Bed Grade                             113\n",
       "patientid                               0\n",
       "City_Code_Patient                    4532\n",
       "Type of Admission                       0\n",
       "Severity of Illness                     0\n",
       "Visitors with Patient                   0\n",
       "Age                                     0\n",
       "Admission_Deposit                       0\n",
       "Stay                                    0\n",
       "dtype: int64"
      ]
     },
     "execution_count": 5,
     "metadata": {},
     "output_type": "execute_result"
    }
   ],
   "source": [
    "train_orig.isna().sum()"
   ]
  },
  {
   "cell_type": "code",
   "execution_count": 6,
   "metadata": {},
   "outputs": [
    {
     "data": {
      "text/plain": [
       "count    318438.000000\n",
       "mean       4880.749392\n",
       "std        1086.776254\n",
       "min        1800.000000\n",
       "25%        4186.000000\n",
       "50%        4741.000000\n",
       "75%        5409.000000\n",
       "max       11008.000000\n",
       "Name: Admission_Deposit, dtype: float64"
      ]
     },
     "execution_count": 6,
     "metadata": {},
     "output_type": "execute_result"
    }
   ],
   "source": [
    "train_orig['Admission_Deposit'].describe()"
   ]
  },
  {
   "cell_type": "code",
   "execution_count": 7,
   "metadata": {},
   "outputs": [
    {
     "data": {
      "text/plain": [
       "count    137057.000000\n",
       "mean       4869.731097\n",
       "std        1080.766723\n",
       "min        1800.000000\n",
       "25%        4178.000000\n",
       "50%        4731.000000\n",
       "75%        5398.000000\n",
       "max       11920.000000\n",
       "Name: Admission_Deposit, dtype: float64"
      ]
     },
     "execution_count": 7,
     "metadata": {},
     "output_type": "execute_result"
    }
   ],
   "source": [
    "test_orig['Admission_Deposit'].describe()"
   ]
  },
  {
   "cell_type": "code",
   "execution_count": 8,
   "metadata": {},
   "outputs": [
    {
     "data": {
      "text/html": [
       "<div>\n",
       "<style scoped>\n",
       "    .dataframe tbody tr th:only-of-type {\n",
       "        vertical-align: middle;\n",
       "    }\n",
       "\n",
       "    .dataframe tbody tr th {\n",
       "        vertical-align: top;\n",
       "    }\n",
       "\n",
       "    .dataframe thead th {\n",
       "        text-align: right;\n",
       "    }\n",
       "</style>\n",
       "<table border=\"1\" class=\"dataframe\">\n",
       "  <thead>\n",
       "    <tr style=\"text-align: right;\">\n",
       "      <th></th>\n",
       "      <th>case_id</th>\n",
       "      <th>Hospital_code</th>\n",
       "      <th>Hospital_type_code</th>\n",
       "      <th>City_Code_Hospital</th>\n",
       "      <th>Hospital_region_code</th>\n",
       "      <th>Available Extra Rooms in Hospital</th>\n",
       "      <th>Department</th>\n",
       "      <th>Ward_Type</th>\n",
       "      <th>Ward_Facility_Code</th>\n",
       "      <th>Bed Grade</th>\n",
       "      <th>patientid</th>\n",
       "      <th>City_Code_Patient</th>\n",
       "      <th>Type of Admission</th>\n",
       "      <th>Severity of Illness</th>\n",
       "      <th>Visitors with Patient</th>\n",
       "      <th>Age</th>\n",
       "      <th>Admission_Deposit</th>\n",
       "      <th>Stay</th>\n",
       "    </tr>\n",
       "  </thead>\n",
       "  <tbody>\n",
       "    <tr>\n",
       "      <td>0</td>\n",
       "      <td>1</td>\n",
       "      <td>8</td>\n",
       "      <td>c</td>\n",
       "      <td>3</td>\n",
       "      <td>Z</td>\n",
       "      <td>3</td>\n",
       "      <td>radiotherapy</td>\n",
       "      <td>R</td>\n",
       "      <td>F</td>\n",
       "      <td>2.0</td>\n",
       "      <td>31397</td>\n",
       "      <td>7.0</td>\n",
       "      <td>Emergency</td>\n",
       "      <td>Extreme</td>\n",
       "      <td>2</td>\n",
       "      <td>51-60</td>\n",
       "      <td>4911.0</td>\n",
       "      <td>0-10</td>\n",
       "    </tr>\n",
       "    <tr>\n",
       "      <td>1</td>\n",
       "      <td>2</td>\n",
       "      <td>2</td>\n",
       "      <td>c</td>\n",
       "      <td>5</td>\n",
       "      <td>Z</td>\n",
       "      <td>2</td>\n",
       "      <td>radiotherapy</td>\n",
       "      <td>S</td>\n",
       "      <td>F</td>\n",
       "      <td>2.0</td>\n",
       "      <td>31397</td>\n",
       "      <td>7.0</td>\n",
       "      <td>Trauma</td>\n",
       "      <td>Extreme</td>\n",
       "      <td>2</td>\n",
       "      <td>51-60</td>\n",
       "      <td>5954.0</td>\n",
       "      <td>41-50</td>\n",
       "    </tr>\n",
       "    <tr>\n",
       "      <td>2</td>\n",
       "      <td>3</td>\n",
       "      <td>10</td>\n",
       "      <td>e</td>\n",
       "      <td>1</td>\n",
       "      <td>X</td>\n",
       "      <td>2</td>\n",
       "      <td>anesthesia</td>\n",
       "      <td>S</td>\n",
       "      <td>E</td>\n",
       "      <td>2.0</td>\n",
       "      <td>31397</td>\n",
       "      <td>7.0</td>\n",
       "      <td>Trauma</td>\n",
       "      <td>Extreme</td>\n",
       "      <td>2</td>\n",
       "      <td>51-60</td>\n",
       "      <td>4745.0</td>\n",
       "      <td>31-40</td>\n",
       "    </tr>\n",
       "    <tr>\n",
       "      <td>3</td>\n",
       "      <td>4</td>\n",
       "      <td>26</td>\n",
       "      <td>b</td>\n",
       "      <td>2</td>\n",
       "      <td>Y</td>\n",
       "      <td>2</td>\n",
       "      <td>radiotherapy</td>\n",
       "      <td>R</td>\n",
       "      <td>D</td>\n",
       "      <td>2.0</td>\n",
       "      <td>31397</td>\n",
       "      <td>7.0</td>\n",
       "      <td>Trauma</td>\n",
       "      <td>Extreme</td>\n",
       "      <td>2</td>\n",
       "      <td>51-60</td>\n",
       "      <td>7272.0</td>\n",
       "      <td>41-50</td>\n",
       "    </tr>\n",
       "    <tr>\n",
       "      <td>4</td>\n",
       "      <td>5</td>\n",
       "      <td>26</td>\n",
       "      <td>b</td>\n",
       "      <td>2</td>\n",
       "      <td>Y</td>\n",
       "      <td>2</td>\n",
       "      <td>radiotherapy</td>\n",
       "      <td>S</td>\n",
       "      <td>D</td>\n",
       "      <td>2.0</td>\n",
       "      <td>31397</td>\n",
       "      <td>7.0</td>\n",
       "      <td>Trauma</td>\n",
       "      <td>Extreme</td>\n",
       "      <td>2</td>\n",
       "      <td>51-60</td>\n",
       "      <td>5558.0</td>\n",
       "      <td>41-50</td>\n",
       "    </tr>\n",
       "  </tbody>\n",
       "</table>\n",
       "</div>"
      ],
      "text/plain": [
       "   case_id  Hospital_code Hospital_type_code  City_Code_Hospital  \\\n",
       "0        1              8                  c                   3   \n",
       "1        2              2                  c                   5   \n",
       "2        3             10                  e                   1   \n",
       "3        4             26                  b                   2   \n",
       "4        5             26                  b                   2   \n",
       "\n",
       "  Hospital_region_code  Available Extra Rooms in Hospital    Department  \\\n",
       "0                    Z                                  3  radiotherapy   \n",
       "1                    Z                                  2  radiotherapy   \n",
       "2                    X                                  2    anesthesia   \n",
       "3                    Y                                  2  radiotherapy   \n",
       "4                    Y                                  2  radiotherapy   \n",
       "\n",
       "  Ward_Type Ward_Facility_Code  Bed Grade  patientid  City_Code_Patient  \\\n",
       "0         R                  F        2.0      31397                7.0   \n",
       "1         S                  F        2.0      31397                7.0   \n",
       "2         S                  E        2.0      31397                7.0   \n",
       "3         R                  D        2.0      31397                7.0   \n",
       "4         S                  D        2.0      31397                7.0   \n",
       "\n",
       "  Type of Admission Severity of Illness  Visitors with Patient    Age  \\\n",
       "0         Emergency             Extreme                      2  51-60   \n",
       "1            Trauma             Extreme                      2  51-60   \n",
       "2            Trauma             Extreme                      2  51-60   \n",
       "3            Trauma             Extreme                      2  51-60   \n",
       "4            Trauma             Extreme                      2  51-60   \n",
       "\n",
       "   Admission_Deposit   Stay  \n",
       "0             4911.0   0-10  \n",
       "1             5954.0  41-50  \n",
       "2             4745.0  31-40  \n",
       "3             7272.0  41-50  \n",
       "4             5558.0  41-50  "
      ]
     },
     "execution_count": 8,
     "metadata": {},
     "output_type": "execute_result"
    }
   ],
   "source": [
    "train_orig.head()"
   ]
  },
  {
   "cell_type": "code",
   "execution_count": 9,
   "metadata": {},
   "outputs": [
    {
     "data": {
      "text/html": [
       "<div>\n",
       "<style scoped>\n",
       "    .dataframe tbody tr th:only-of-type {\n",
       "        vertical-align: middle;\n",
       "    }\n",
       "\n",
       "    .dataframe tbody tr th {\n",
       "        vertical-align: top;\n",
       "    }\n",
       "\n",
       "    .dataframe thead th {\n",
       "        text-align: right;\n",
       "    }\n",
       "</style>\n",
       "<table border=\"1\" class=\"dataframe\">\n",
       "  <thead>\n",
       "    <tr style=\"text-align: right;\">\n",
       "      <th></th>\n",
       "      <th>case_id</th>\n",
       "      <th>Hospital_code</th>\n",
       "      <th>Hospital_type_code</th>\n",
       "      <th>City_Code_Hospital</th>\n",
       "      <th>Hospital_region_code</th>\n",
       "      <th>Available Extra Rooms in Hospital</th>\n",
       "      <th>Department</th>\n",
       "      <th>Ward_Type</th>\n",
       "      <th>Ward_Facility_Code</th>\n",
       "      <th>Bed Grade</th>\n",
       "      <th>patientid</th>\n",
       "      <th>City_Code_Patient</th>\n",
       "      <th>Type of Admission</th>\n",
       "      <th>Severity of Illness</th>\n",
       "      <th>Visitors with Patient</th>\n",
       "      <th>Age</th>\n",
       "      <th>Admission_Deposit</th>\n",
       "    </tr>\n",
       "  </thead>\n",
       "  <tbody>\n",
       "    <tr>\n",
       "      <td>0</td>\n",
       "      <td>318439</td>\n",
       "      <td>21</td>\n",
       "      <td>c</td>\n",
       "      <td>3</td>\n",
       "      <td>Z</td>\n",
       "      <td>3</td>\n",
       "      <td>gynecology</td>\n",
       "      <td>S</td>\n",
       "      <td>A</td>\n",
       "      <td>2.0</td>\n",
       "      <td>17006</td>\n",
       "      <td>2.0</td>\n",
       "      <td>Emergency</td>\n",
       "      <td>Moderate</td>\n",
       "      <td>2</td>\n",
       "      <td>71-80</td>\n",
       "      <td>3095.0</td>\n",
       "    </tr>\n",
       "    <tr>\n",
       "      <td>1</td>\n",
       "      <td>318440</td>\n",
       "      <td>29</td>\n",
       "      <td>a</td>\n",
       "      <td>4</td>\n",
       "      <td>X</td>\n",
       "      <td>2</td>\n",
       "      <td>gynecology</td>\n",
       "      <td>S</td>\n",
       "      <td>F</td>\n",
       "      <td>2.0</td>\n",
       "      <td>17006</td>\n",
       "      <td>2.0</td>\n",
       "      <td>Trauma</td>\n",
       "      <td>Moderate</td>\n",
       "      <td>4</td>\n",
       "      <td>71-80</td>\n",
       "      <td>4018.0</td>\n",
       "    </tr>\n",
       "    <tr>\n",
       "      <td>2</td>\n",
       "      <td>318441</td>\n",
       "      <td>26</td>\n",
       "      <td>b</td>\n",
       "      <td>2</td>\n",
       "      <td>Y</td>\n",
       "      <td>3</td>\n",
       "      <td>gynecology</td>\n",
       "      <td>Q</td>\n",
       "      <td>D</td>\n",
       "      <td>4.0</td>\n",
       "      <td>17006</td>\n",
       "      <td>2.0</td>\n",
       "      <td>Emergency</td>\n",
       "      <td>Moderate</td>\n",
       "      <td>3</td>\n",
       "      <td>71-80</td>\n",
       "      <td>4492.0</td>\n",
       "    </tr>\n",
       "    <tr>\n",
       "      <td>3</td>\n",
       "      <td>318442</td>\n",
       "      <td>6</td>\n",
       "      <td>a</td>\n",
       "      <td>6</td>\n",
       "      <td>X</td>\n",
       "      <td>3</td>\n",
       "      <td>gynecology</td>\n",
       "      <td>Q</td>\n",
       "      <td>F</td>\n",
       "      <td>2.0</td>\n",
       "      <td>17006</td>\n",
       "      <td>2.0</td>\n",
       "      <td>Trauma</td>\n",
       "      <td>Moderate</td>\n",
       "      <td>3</td>\n",
       "      <td>71-80</td>\n",
       "      <td>4173.0</td>\n",
       "    </tr>\n",
       "    <tr>\n",
       "      <td>4</td>\n",
       "      <td>318443</td>\n",
       "      <td>28</td>\n",
       "      <td>b</td>\n",
       "      <td>11</td>\n",
       "      <td>X</td>\n",
       "      <td>2</td>\n",
       "      <td>gynecology</td>\n",
       "      <td>R</td>\n",
       "      <td>F</td>\n",
       "      <td>2.0</td>\n",
       "      <td>17006</td>\n",
       "      <td>2.0</td>\n",
       "      <td>Trauma</td>\n",
       "      <td>Moderate</td>\n",
       "      <td>4</td>\n",
       "      <td>71-80</td>\n",
       "      <td>4161.0</td>\n",
       "    </tr>\n",
       "  </tbody>\n",
       "</table>\n",
       "</div>"
      ],
      "text/plain": [
       "   case_id  Hospital_code Hospital_type_code  City_Code_Hospital  \\\n",
       "0   318439             21                  c                   3   \n",
       "1   318440             29                  a                   4   \n",
       "2   318441             26                  b                   2   \n",
       "3   318442              6                  a                   6   \n",
       "4   318443             28                  b                  11   \n",
       "\n",
       "  Hospital_region_code  Available Extra Rooms in Hospital  Department  \\\n",
       "0                    Z                                  3  gynecology   \n",
       "1                    X                                  2  gynecology   \n",
       "2                    Y                                  3  gynecology   \n",
       "3                    X                                  3  gynecology   \n",
       "4                    X                                  2  gynecology   \n",
       "\n",
       "  Ward_Type Ward_Facility_Code  Bed Grade  patientid  City_Code_Patient  \\\n",
       "0         S                  A        2.0      17006                2.0   \n",
       "1         S                  F        2.0      17006                2.0   \n",
       "2         Q                  D        4.0      17006                2.0   \n",
       "3         Q                  F        2.0      17006                2.0   \n",
       "4         R                  F        2.0      17006                2.0   \n",
       "\n",
       "  Type of Admission Severity of Illness  Visitors with Patient    Age  \\\n",
       "0         Emergency            Moderate                      2  71-80   \n",
       "1            Trauma            Moderate                      4  71-80   \n",
       "2         Emergency            Moderate                      3  71-80   \n",
       "3            Trauma            Moderate                      3  71-80   \n",
       "4            Trauma            Moderate                      4  71-80   \n",
       "\n",
       "   Admission_Deposit  \n",
       "0             3095.0  \n",
       "1             4018.0  \n",
       "2             4492.0  \n",
       "3             4173.0  \n",
       "4             4161.0  "
      ]
     },
     "execution_count": 9,
     "metadata": {},
     "output_type": "execute_result"
    }
   ],
   "source": [
    "test_orig.head()"
   ]
  },
  {
   "cell_type": "code",
   "execution_count": 10,
   "metadata": {},
   "outputs": [
    {
     "name": "stdout",
     "output_type": "stream",
     "text": [
      "<class 'pandas.core.frame.DataFrame'>\n",
      "RangeIndex: 318438 entries, 0 to 318437\n",
      "Data columns (total 18 columns):\n",
      "case_id                              318438 non-null int64\n",
      "Hospital_code                        318438 non-null int64\n",
      "Hospital_type_code                   318438 non-null object\n",
      "City_Code_Hospital                   318438 non-null int64\n",
      "Hospital_region_code                 318438 non-null object\n",
      "Available Extra Rooms in Hospital    318438 non-null int64\n",
      "Department                           318438 non-null object\n",
      "Ward_Type                            318438 non-null object\n",
      "Ward_Facility_Code                   318438 non-null object\n",
      "Bed Grade                            318325 non-null float64\n",
      "patientid                            318438 non-null int64\n",
      "City_Code_Patient                    313906 non-null float64\n",
      "Type of Admission                    318438 non-null object\n",
      "Severity of Illness                  318438 non-null object\n",
      "Visitors with Patient                318438 non-null int64\n",
      "Age                                  318438 non-null object\n",
      "Admission_Deposit                    318438 non-null float64\n",
      "Stay                                 318438 non-null object\n",
      "dtypes: float64(3), int64(6), object(9)\n",
      "memory usage: 43.7+ MB\n"
     ]
    }
   ],
   "source": [
    "train_orig.info()"
   ]
  },
  {
   "cell_type": "code",
   "execution_count": 11,
   "metadata": {},
   "outputs": [
    {
     "name": "stdout",
     "output_type": "stream",
     "text": [
      "['0-10' '41-50' '31-40' '11-20' '51-60' '21-30' '71-80'\n",
      " 'More than 100 Days' '81-90' '61-70' '91-100']\n",
      "\n",
      "Total number of target values:11\n"
     ]
    }
   ],
   "source": [
    "print(train_orig['Stay'].unique())\n",
    "print(f\"\\nTotal number of target values:{train_orig['Stay'].nunique()}\")"
   ]
  },
  {
   "cell_type": "markdown",
   "metadata": {},
   "source": [
    "**Concatenating train and test data for further inspection**"
   ]
  },
  {
   "cell_type": "code",
   "execution_count": 12,
   "metadata": {},
   "outputs": [],
   "source": [
    "data= pd.concat([train_orig,test_orig],sort=False)"
   ]
  },
  {
   "cell_type": "code",
   "execution_count": 13,
   "metadata": {},
   "outputs": [
    {
     "data": {
      "text/plain": [
       "case_id                                   0\n",
       "Hospital_code                             0\n",
       "Hospital_type_code                        0\n",
       "City_Code_Hospital                        0\n",
       "Hospital_region_code                      0\n",
       "Available Extra Rooms in Hospital         0\n",
       "Department                                0\n",
       "Ward_Type                                 0\n",
       "Ward_Facility_Code                        0\n",
       "Bed Grade                               148\n",
       "patientid                                 0\n",
       "City_Code_Patient                      6689\n",
       "Type of Admission                         0\n",
       "Severity of Illness                       0\n",
       "Visitors with Patient                     0\n",
       "Age                                       0\n",
       "Admission_Deposit                         0\n",
       "Stay                                 137057\n",
       "dtype: int64"
      ]
     },
     "execution_count": 13,
     "metadata": {},
     "output_type": "execute_result"
    }
   ],
   "source": [
    "data.isna().sum()"
   ]
  },
  {
   "cell_type": "code",
   "execution_count": 14,
   "metadata": {},
   "outputs": [
    {
     "name": "stdout",
     "output_type": "stream",
     "text": [
      "<class 'pandas.core.frame.DataFrame'>\n",
      "Int64Index: 455495 entries, 0 to 137056\n",
      "Data columns (total 18 columns):\n",
      "case_id                              455495 non-null int64\n",
      "Hospital_code                        455495 non-null int64\n",
      "Hospital_type_code                   455495 non-null object\n",
      "City_Code_Hospital                   455495 non-null int64\n",
      "Hospital_region_code                 455495 non-null object\n",
      "Available Extra Rooms in Hospital    455495 non-null int64\n",
      "Department                           455495 non-null object\n",
      "Ward_Type                            455495 non-null object\n",
      "Ward_Facility_Code                   455495 non-null object\n",
      "Bed Grade                            455347 non-null float64\n",
      "patientid                            455495 non-null int64\n",
      "City_Code_Patient                    448806 non-null float64\n",
      "Type of Admission                    455495 non-null object\n",
      "Severity of Illness                  455495 non-null object\n",
      "Visitors with Patient                455495 non-null int64\n",
      "Age                                  455495 non-null object\n",
      "Admission_Deposit                    455495 non-null float64\n",
      "Stay                                 318438 non-null object\n",
      "dtypes: float64(3), int64(6), object(9)\n",
      "memory usage: 66.0+ MB\n"
     ]
    }
   ],
   "source": [
    "data.info()"
   ]
  },
  {
   "cell_type": "code",
   "execution_count": 15,
   "metadata": {},
   "outputs": [
    {
     "name": "stdout",
     "output_type": "stream",
     "text": [
      "case_id:455495\n",
      "=======================================\n",
      "Hospital_code:32\n",
      "=======================================\n",
      "Hospital_type_code:7\n",
      "=======================================\n",
      "City_Code_Hospital:11\n",
      "=======================================\n",
      "Hospital_region_code:3\n",
      "=======================================\n",
      "Available Extra Rooms in Hospital:18\n",
      "=======================================\n",
      "Department:5\n",
      "=======================================\n",
      "Ward_Type:6\n",
      "=======================================\n",
      "Ward_Facility_Code:6\n",
      "=======================================\n",
      "Bed Grade:4\n",
      "=======================================\n",
      "patientid:131624\n",
      "=======================================\n",
      "City_Code_Patient:37\n",
      "=======================================\n",
      "Type of Admission:3\n",
      "=======================================\n",
      "Severity of Illness:3\n",
      "=======================================\n",
      "Visitors with Patient:29\n",
      "=======================================\n",
      "Age:10\n",
      "=======================================\n",
      "Admission_Deposit:7634\n",
      "=======================================\n",
      "Stay:11\n",
      "=======================================\n"
     ]
    }
   ],
   "source": [
    "for col in data.columns:\n",
    "    print(\"{}:{}\".format(col,data[col].nunique()))\n",
    "    print(\"=======================================\")\n",
    "    \n",
    "# Hence case_id is unique for every row"
   ]
  },
  {
   "cell_type": "markdown",
   "metadata": {},
   "source": [
    "## Feature Preprocessing and Feature Generation"
   ]
  },
  {
   "cell_type": "code",
   "execution_count": 16,
   "metadata": {},
   "outputs": [
    {
     "name": "stdout",
     "output_type": "stream",
     "text": [
      "['Hospital_type_code', 'Hospital_region_code', 'Department', 'Ward_Type', 'Ward_Facility_Code', 'Type of Admission', 'Severity of Illness', 'Age', 'Stay']\n"
     ]
    }
   ],
   "source": [
    "categorical_col=[]\n",
    "for col in data.columns:\n",
    "    if data[col].dtype== object and data[col].nunique()<=50:\n",
    "        categorical_col.append(col)\n",
    "print(categorical_col)"
   ]
  },
  {
   "cell_type": "code",
   "execution_count": 17,
   "metadata": {},
   "outputs": [
    {
     "name": "stdout",
     "output_type": "stream",
     "text": [
      "Hospital_type_code:\n",
      "a    204730\n",
      "b     98884\n",
      "c     66147\n",
      "e     35428\n",
      "d     29048\n",
      "f     15252\n",
      "g      6006\n",
      "Name: Hospital_type_code, dtype: int64\n",
      "=======================================\n",
      "Hospital_region_code:\n",
      "X    190849\n",
      "Y    174707\n",
      "Z     89939\n",
      "Name: Hospital_region_code, dtype: int64\n",
      "=======================================\n",
      "Department:\n",
      "gynecology            356688\n",
      "anesthesia             42358\n",
      "radiotherapy           41033\n",
      "TB & Chest disease     13751\n",
      "surgery                 1665\n",
      "Name: Department, dtype: int64\n",
      "=======================================\n",
      "Ward_Type:\n",
      "R    182939\n",
      "Q    152046\n",
      "S    111166\n",
      "P      7199\n",
      "T      2133\n",
      "U        12\n",
      "Name: Ward_Type, dtype: int64\n",
      "=======================================\n",
      "Ward_Facility_Code:\n",
      "F    161470\n",
      "E     79058\n",
      "D     74312\n",
      "C     50279\n",
      "B     50116\n",
      "A     40260\n",
      "Name: Ward_Facility_Code, dtype: int64\n",
      "=======================================\n",
      "Type of Admission:\n",
      "Trauma       217672\n",
      "Emergency    168363\n",
      "Urgent        69460\n",
      "Name: Type of Admission, dtype: int64\n",
      "=======================================\n",
      "Severity of Illness:\n",
      "Moderate    251565\n",
      "Minor       122735\n",
      "Extreme      81195\n",
      "Name: Severity of Illness, dtype: int64\n",
      "=======================================\n",
      "Age:\n",
      "41-50     91495\n",
      "31-40     90420\n",
      "51-60     69506\n",
      "21-30     58560\n",
      "71-80     50737\n",
      "61-70     48619\n",
      "11-20     23871\n",
      "81-90     11240\n",
      "0-10       9140\n",
      "91-100     1907\n",
      "Name: Age, dtype: int64\n",
      "=======================================\n",
      "Stay:\n",
      "21-30                 87491\n",
      "11-20                 78139\n",
      "31-40                 55159\n",
      "51-60                 35018\n",
      "0-10                  23604\n",
      "41-50                 11743\n",
      "71-80                 10254\n",
      "More than 100 Days     6683\n",
      "81-90                  4838\n",
      "91-100                 2765\n",
      "61-70                  2744\n",
      "Name: Stay, dtype: int64\n",
      "=======================================\n"
     ]
    }
   ],
   "source": [
    "for col in categorical_col:\n",
    "    print(f\"{col}:\\n{data[col].value_counts()}\")\n",
    "    print(\"=======================================\")"
   ]
  },
  {
   "cell_type": "code",
   "execution_count": 18,
   "metadata": {},
   "outputs": [
    {
     "data": {
      "text/plain": [
       "Hospital_region_code  Ward_Facility_Code\n",
       "X                     E                      79058\n",
       "                      F                     111791\n",
       "Y                     B                      50116\n",
       "                      C                      50279\n",
       "                      D                      74312\n",
       "Z                     A                      40260\n",
       "                      F                      49679\n",
       "dtype: int64"
      ]
     },
     "execution_count": 18,
     "metadata": {},
     "output_type": "execute_result"
    }
   ],
   "source": [
    "data.groupby(['Hospital_region_code','Ward_Facility_Code']).size()"
   ]
  },
  {
   "cell_type": "markdown",
   "metadata": {},
   "source": [
    "**Generating a feature for Hospital_region_code_FEAT_Ward_Facility_Code because particular ward_Facility_Code corresponds to particular Hospital_region_code**"
   ]
  },
  {
   "cell_type": "code",
   "execution_count": 19,
   "metadata": {},
   "outputs": [],
   "source": [
    "data['Hospital_region_code_FEAT_Ward_Facility_Code']= data['Hospital_region_code']+'_'+data['Ward_Facility_Code']"
   ]
  },
  {
   "cell_type": "code",
   "execution_count": 20,
   "metadata": {},
   "outputs": [
    {
     "data": {
      "text/plain": [
       "Hospital_type_code  Hospital_code\n",
       "a                   4                 1749\n",
       "                    5                 7448\n",
       "                    6                29221\n",
       "                    7                 1871\n",
       "                    12               16170\n",
       "                    13                7432\n",
       "                    14               24715\n",
       "                    19               30036\n",
       "                    23               38220\n",
       "                    24               11467\n",
       "                    27               20243\n",
       "                    29               16158\n",
       "b                   11               24827\n",
       "                    20                1962\n",
       "                    26               47523\n",
       "                    28               24572\n",
       "c                   2                 7277\n",
       "                    3                10277\n",
       "                    8                 5284\n",
       "                    15               13326\n",
       "                    16                5244\n",
       "                    21               11784\n",
       "                    30                7215\n",
       "                    31                5740\n",
       "d                   1                 7460\n",
       "                    9                16360\n",
       "                    18                5228\n",
       "e                   10               13538\n",
       "                    17                7844\n",
       "                    25               14046\n",
       "f                   32               15252\n",
       "g                   22                6006\n",
       "dtype: int64"
      ]
     },
     "execution_count": 20,
     "metadata": {},
     "output_type": "execute_result"
    }
   ],
   "source": [
    "data.groupby(['Hospital_type_code','Hospital_code']).size()"
   ]
  },
  {
   "cell_type": "markdown",
   "metadata": {},
   "source": [
    "**Generating a feature for Hospital_type_code_FEAT_Hospital_Code because particular Hospital_Code corresponds to particular Hospital_type_code**"
   ]
  },
  {
   "cell_type": "code",
   "execution_count": 21,
   "metadata": {},
   "outputs": [],
   "source": [
    "data['Hospital_code']= data['Hospital_code'].apply(lambda x: str(x))\n",
    "data['Hospital_type_code_FEAT_Hospital_code']= data['Hospital_type_code']+'_'+data['Hospital_code']\n",
    "data['Hospital_code']= data['Hospital_code'].apply(lambda x: int(x))"
   ]
  },
  {
   "cell_type": "code",
   "execution_count": 22,
   "metadata": {},
   "outputs": [
    {
     "data": {
      "text/plain": [
       "Hospital_type_code  Hospital_region_code\n",
       "a                   X                       130849\n",
       "                    Y                        66449\n",
       "                    Z                         7432\n",
       "b                   X                        24572\n",
       "                    Y                        74312\n",
       "c                   Z                        66147\n",
       "d                   Y                        12688\n",
       "                    Z                        16360\n",
       "e                   X                        35428\n",
       "f                   Y                        15252\n",
       "g                   Y                         6006\n",
       "dtype: int64"
      ]
     },
     "execution_count": 22,
     "metadata": {},
     "output_type": "execute_result"
    }
   ],
   "source": [
    "data.groupby(['Hospital_type_code','Hospital_region_code']).size()"
   ]
  },
  {
   "cell_type": "code",
   "execution_count": 23,
   "metadata": {},
   "outputs": [],
   "source": [
    "data['Hospital_type_code_FEAT_Hospital_region_code']= data['Hospital_type_code']+'_'+data['Hospital_region_code']"
   ]
  },
  {
   "cell_type": "code",
   "execution_count": 24,
   "metadata": {},
   "outputs": [
    {
     "data": {
      "text/plain": [
       "Hospital_region_code  City_Code_Hospital\n",
       "X                     1                     79058\n",
       "                      4                     19778\n",
       "                      6                     67441\n",
       "                      11                    24572\n",
       "Y                     2                     74312\n",
       "                      7                     50279\n",
       "                      9                     37428\n",
       "                      10                     7460\n",
       "                      13                     5228\n",
       "Z                     3                     45544\n",
       "                      5                     44395\n",
       "dtype: int64"
      ]
     },
     "execution_count": 24,
     "metadata": {},
     "output_type": "execute_result"
    }
   ],
   "source": [
    "data.groupby(['Hospital_region_code','City_Code_Hospital']).size()"
   ]
  },
  {
   "cell_type": "code",
   "execution_count": 25,
   "metadata": {},
   "outputs": [],
   "source": [
    "data['City_Code_Hospital']= data['City_Code_Hospital'].apply(lambda x: str(x))\n",
    "data['Hospital_region_code_FEAT_City_Code_Hospital']= data['Hospital_region_code']+'_'+data['City_Code_Hospital']\n",
    "data['City_Code_Hospital']= data['City_Code_Hospital'].apply(lambda x: int(x))"
   ]
  },
  {
   "cell_type": "code",
   "execution_count": 26,
   "metadata": {},
   "outputs": [
    {
     "data": {
      "text/plain": [
       "Bed Grade  Ward_Facility_Code\n",
       "1.0        A                      2919\n",
       "           B                      3809\n",
       "           C                      8790\n",
       "           D                      5755\n",
       "           E                      5694\n",
       "           F                     10600\n",
       "2.0        A                     15875\n",
       "           B                     20960\n",
       "           C                     23911\n",
       "           D                     29051\n",
       "           E                     26618\n",
       "           F                     60036\n",
       "3.0        A                     13832\n",
       "           B                     18101\n",
       "           C                     12923\n",
       "           D                     25251\n",
       "           E                     30909\n",
       "           F                     57926\n",
       "4.0        A                      7634\n",
       "           B                      7246\n",
       "           C                      4654\n",
       "           D                     14255\n",
       "           E                     15837\n",
       "           F                     32761\n",
       "dtype: int64"
      ]
     },
     "execution_count": 26,
     "metadata": {},
     "output_type": "execute_result"
    }
   ],
   "source": [
    "data.groupby(['Bed Grade','Ward_Facility_Code']).size()"
   ]
  },
  {
   "cell_type": "code",
   "execution_count": 27,
   "metadata": {},
   "outputs": [
    {
     "data": {
      "text/plain": [
       "array([ 2,  4,  3,  8,  6,  7, 13,  5,  1, 10, 15, 11, 12,  9, 24, 16, 14,\n",
       "       20,  0, 19, 18, 17, 23, 21, 32, 30, 22, 25, 29], dtype=int64)"
      ]
     },
     "execution_count": 27,
     "metadata": {},
     "output_type": "execute_result"
    }
   ],
   "source": [
    "data['Visitors with Patient'].unique()"
   ]
  },
  {
   "cell_type": "code",
   "execution_count": 28,
   "metadata": {},
   "outputs": [
    {
     "data": {
      "text/plain": [
       "array([ 7.,  8.,  2.,  5.,  6.,  3.,  4.,  1.,  9., 14., nan, 25., 15.,\n",
       "       12., 10., 28., 24., 23., 20., 11., 13., 21., 18., 16., 26., 27.,\n",
       "       22., 19., 31., 34., 32., 30., 29., 37., 33., 35., 36., 38.])"
      ]
     },
     "execution_count": 28,
     "metadata": {},
     "output_type": "execute_result"
    }
   ],
   "source": [
    "data['City_Code_Patient'].unique()"
   ]
  },
  {
   "cell_type": "code",
   "execution_count": 29,
   "metadata": {},
   "outputs": [
    {
     "data": {
      "text/plain": [
       "21-30                 87491\n",
       "11-20                 78139\n",
       "31-40                 55159\n",
       "51-60                 35018\n",
       "0-10                  23604\n",
       "41-50                 11743\n",
       "71-80                 10254\n",
       "More than 100 Days     6683\n",
       "81-90                  4838\n",
       "91-100                 2765\n",
       "61-70                  2744\n",
       "Name: Stay, dtype: int64"
      ]
     },
     "execution_count": 29,
     "metadata": {},
     "output_type": "execute_result"
    }
   ],
   "source": [
    "data['Stay'].value_counts()"
   ]
  },
  {
   "cell_type": "code",
   "execution_count": 32,
   "metadata": {},
   "outputs": [
    {
     "data": {
      "text/html": [
       "<div>\n",
       "<style scoped>\n",
       "    .dataframe tbody tr th:only-of-type {\n",
       "        vertical-align: middle;\n",
       "    }\n",
       "\n",
       "    .dataframe tbody tr th {\n",
       "        vertical-align: top;\n",
       "    }\n",
       "\n",
       "    .dataframe thead th {\n",
       "        text-align: right;\n",
       "    }\n",
       "</style>\n",
       "<table border=\"1\" class=\"dataframe\">\n",
       "  <thead>\n",
       "    <tr style=\"text-align: right;\">\n",
       "      <th></th>\n",
       "      <th>0</th>\n",
       "      <th>1</th>\n",
       "      <th>2</th>\n",
       "      <th>3</th>\n",
       "      <th>4</th>\n",
       "    </tr>\n",
       "  </thead>\n",
       "  <tbody>\n",
       "    <tr>\n",
       "      <td>case_id</td>\n",
       "      <td>1</td>\n",
       "      <td>2</td>\n",
       "      <td>3</td>\n",
       "      <td>4</td>\n",
       "      <td>5</td>\n",
       "    </tr>\n",
       "    <tr>\n",
       "      <td>Hospital_code</td>\n",
       "      <td>8</td>\n",
       "      <td>2</td>\n",
       "      <td>10</td>\n",
       "      <td>26</td>\n",
       "      <td>26</td>\n",
       "    </tr>\n",
       "    <tr>\n",
       "      <td>Hospital_type_code</td>\n",
       "      <td>c</td>\n",
       "      <td>c</td>\n",
       "      <td>e</td>\n",
       "      <td>b</td>\n",
       "      <td>b</td>\n",
       "    </tr>\n",
       "    <tr>\n",
       "      <td>City_Code_Hospital</td>\n",
       "      <td>3</td>\n",
       "      <td>5</td>\n",
       "      <td>1</td>\n",
       "      <td>2</td>\n",
       "      <td>2</td>\n",
       "    </tr>\n",
       "    <tr>\n",
       "      <td>Hospital_region_code</td>\n",
       "      <td>Z</td>\n",
       "      <td>Z</td>\n",
       "      <td>X</td>\n",
       "      <td>Y</td>\n",
       "      <td>Y</td>\n",
       "    </tr>\n",
       "    <tr>\n",
       "      <td>Available Extra Rooms in Hospital</td>\n",
       "      <td>3</td>\n",
       "      <td>2</td>\n",
       "      <td>2</td>\n",
       "      <td>2</td>\n",
       "      <td>2</td>\n",
       "    </tr>\n",
       "    <tr>\n",
       "      <td>Department</td>\n",
       "      <td>radiotherapy</td>\n",
       "      <td>radiotherapy</td>\n",
       "      <td>anesthesia</td>\n",
       "      <td>radiotherapy</td>\n",
       "      <td>radiotherapy</td>\n",
       "    </tr>\n",
       "    <tr>\n",
       "      <td>Ward_Type</td>\n",
       "      <td>R</td>\n",
       "      <td>S</td>\n",
       "      <td>S</td>\n",
       "      <td>R</td>\n",
       "      <td>S</td>\n",
       "    </tr>\n",
       "    <tr>\n",
       "      <td>Ward_Facility_Code</td>\n",
       "      <td>F</td>\n",
       "      <td>F</td>\n",
       "      <td>E</td>\n",
       "      <td>D</td>\n",
       "      <td>D</td>\n",
       "    </tr>\n",
       "    <tr>\n",
       "      <td>Bed Grade</td>\n",
       "      <td>2</td>\n",
       "      <td>2</td>\n",
       "      <td>2</td>\n",
       "      <td>2</td>\n",
       "      <td>2</td>\n",
       "    </tr>\n",
       "    <tr>\n",
       "      <td>patientid</td>\n",
       "      <td>31397</td>\n",
       "      <td>31397</td>\n",
       "      <td>31397</td>\n",
       "      <td>31397</td>\n",
       "      <td>31397</td>\n",
       "    </tr>\n",
       "    <tr>\n",
       "      <td>City_Code_Patient</td>\n",
       "      <td>7</td>\n",
       "      <td>7</td>\n",
       "      <td>7</td>\n",
       "      <td>7</td>\n",
       "      <td>7</td>\n",
       "    </tr>\n",
       "    <tr>\n",
       "      <td>Type of Admission</td>\n",
       "      <td>Emergency</td>\n",
       "      <td>Trauma</td>\n",
       "      <td>Trauma</td>\n",
       "      <td>Trauma</td>\n",
       "      <td>Trauma</td>\n",
       "    </tr>\n",
       "    <tr>\n",
       "      <td>Severity of Illness</td>\n",
       "      <td>Extreme</td>\n",
       "      <td>Extreme</td>\n",
       "      <td>Extreme</td>\n",
       "      <td>Extreme</td>\n",
       "      <td>Extreme</td>\n",
       "    </tr>\n",
       "    <tr>\n",
       "      <td>Visitors with Patient</td>\n",
       "      <td>2</td>\n",
       "      <td>2</td>\n",
       "      <td>2</td>\n",
       "      <td>2</td>\n",
       "      <td>2</td>\n",
       "    </tr>\n",
       "    <tr>\n",
       "      <td>Age</td>\n",
       "      <td>51-60</td>\n",
       "      <td>51-60</td>\n",
       "      <td>51-60</td>\n",
       "      <td>51-60</td>\n",
       "      <td>51-60</td>\n",
       "    </tr>\n",
       "    <tr>\n",
       "      <td>Admission_Deposit</td>\n",
       "      <td>4911</td>\n",
       "      <td>5954</td>\n",
       "      <td>4745</td>\n",
       "      <td>7272</td>\n",
       "      <td>5558</td>\n",
       "    </tr>\n",
       "    <tr>\n",
       "      <td>Stay</td>\n",
       "      <td>0-10</td>\n",
       "      <td>41-50</td>\n",
       "      <td>31-40</td>\n",
       "      <td>41-50</td>\n",
       "      <td>41-50</td>\n",
       "    </tr>\n",
       "    <tr>\n",
       "      <td>Hospital_region_code_FEAT_Ward_Facility_Code</td>\n",
       "      <td>Z_F</td>\n",
       "      <td>Z_F</td>\n",
       "      <td>X_E</td>\n",
       "      <td>Y_D</td>\n",
       "      <td>Y_D</td>\n",
       "    </tr>\n",
       "    <tr>\n",
       "      <td>Hospital_type_code_FEAT_Hospital_code</td>\n",
       "      <td>c_8</td>\n",
       "      <td>c_2</td>\n",
       "      <td>e_10</td>\n",
       "      <td>b_26</td>\n",
       "      <td>b_26</td>\n",
       "    </tr>\n",
       "    <tr>\n",
       "      <td>Hospital_type_code_FEAT_Hospital_region_code</td>\n",
       "      <td>c_Z</td>\n",
       "      <td>c_Z</td>\n",
       "      <td>e_X</td>\n",
       "      <td>b_Y</td>\n",
       "      <td>b_Y</td>\n",
       "    </tr>\n",
       "    <tr>\n",
       "      <td>Hospital_region_code_FEAT_City_Code_Hospital</td>\n",
       "      <td>Z_3</td>\n",
       "      <td>Z_5</td>\n",
       "      <td>X_1</td>\n",
       "      <td>Y_2</td>\n",
       "      <td>Y_2</td>\n",
       "    </tr>\n",
       "  </tbody>\n",
       "</table>\n",
       "</div>"
      ],
      "text/plain": [
       "                                                         0             1  \\\n",
       "case_id                                                  1             2   \n",
       "Hospital_code                                            8             2   \n",
       "Hospital_type_code                                       c             c   \n",
       "City_Code_Hospital                                       3             5   \n",
       "Hospital_region_code                                     Z             Z   \n",
       "Available Extra Rooms in Hospital                        3             2   \n",
       "Department                                    radiotherapy  radiotherapy   \n",
       "Ward_Type                                                R             S   \n",
       "Ward_Facility_Code                                       F             F   \n",
       "Bed Grade                                                2             2   \n",
       "patientid                                            31397         31397   \n",
       "City_Code_Patient                                        7             7   \n",
       "Type of Admission                                Emergency        Trauma   \n",
       "Severity of Illness                                Extreme       Extreme   \n",
       "Visitors with Patient                                    2             2   \n",
       "Age                                                  51-60         51-60   \n",
       "Admission_Deposit                                     4911          5954   \n",
       "Stay                                                  0-10         41-50   \n",
       "Hospital_region_code_FEAT_Ward_Facility_Code           Z_F           Z_F   \n",
       "Hospital_type_code_FEAT_Hospital_code                  c_8           c_2   \n",
       "Hospital_type_code_FEAT_Hospital_region_code           c_Z           c_Z   \n",
       "Hospital_region_code_FEAT_City_Code_Hospital           Z_3           Z_5   \n",
       "\n",
       "                                                       2             3  \\\n",
       "case_id                                                3             4   \n",
       "Hospital_code                                         10            26   \n",
       "Hospital_type_code                                     e             b   \n",
       "City_Code_Hospital                                     1             2   \n",
       "Hospital_region_code                                   X             Y   \n",
       "Available Extra Rooms in Hospital                      2             2   \n",
       "Department                                    anesthesia  radiotherapy   \n",
       "Ward_Type                                              S             R   \n",
       "Ward_Facility_Code                                     E             D   \n",
       "Bed Grade                                              2             2   \n",
       "patientid                                          31397         31397   \n",
       "City_Code_Patient                                      7             7   \n",
       "Type of Admission                                 Trauma        Trauma   \n",
       "Severity of Illness                              Extreme       Extreme   \n",
       "Visitors with Patient                                  2             2   \n",
       "Age                                                51-60         51-60   \n",
       "Admission_Deposit                                   4745          7272   \n",
       "Stay                                               31-40         41-50   \n",
       "Hospital_region_code_FEAT_Ward_Facility_Code         X_E           Y_D   \n",
       "Hospital_type_code_FEAT_Hospital_code               e_10          b_26   \n",
       "Hospital_type_code_FEAT_Hospital_region_code         e_X           b_Y   \n",
       "Hospital_region_code_FEAT_City_Code_Hospital         X_1           Y_2   \n",
       "\n",
       "                                                         4  \n",
       "case_id                                                  5  \n",
       "Hospital_code                                           26  \n",
       "Hospital_type_code                                       b  \n",
       "City_Code_Hospital                                       2  \n",
       "Hospital_region_code                                     Y  \n",
       "Available Extra Rooms in Hospital                        2  \n",
       "Department                                    radiotherapy  \n",
       "Ward_Type                                                S  \n",
       "Ward_Facility_Code                                       D  \n",
       "Bed Grade                                                2  \n",
       "patientid                                            31397  \n",
       "City_Code_Patient                                        7  \n",
       "Type of Admission                                   Trauma  \n",
       "Severity of Illness                                Extreme  \n",
       "Visitors with Patient                                    2  \n",
       "Age                                                  51-60  \n",
       "Admission_Deposit                                     5558  \n",
       "Stay                                                 41-50  \n",
       "Hospital_region_code_FEAT_Ward_Facility_Code           Y_D  \n",
       "Hospital_type_code_FEAT_Hospital_code                 b_26  \n",
       "Hospital_type_code_FEAT_Hospital_region_code           b_Y  \n",
       "Hospital_region_code_FEAT_City_Code_Hospital           Y_2  "
      ]
     },
     "execution_count": 32,
     "metadata": {},
     "output_type": "execute_result"
    }
   ],
   "source": [
    "data.head().T"
   ]
  },
  {
   "cell_type": "markdown",
   "metadata": {},
   "source": [
    "**Dropping unnecessary columns from the data**"
   ]
  },
  {
   "cell_type": "code",
   "execution_count": 33,
   "metadata": {},
   "outputs": [],
   "source": [
    "data.drop(['case_id','patientid','Stay'],axis=1,inplace=True)"
   ]
  },
  {
   "cell_type": "markdown",
   "metadata": {},
   "source": [
    "## Label Encoding all the Categorical Features."
   ]
  },
  {
   "cell_type": "code",
   "execution_count": 34,
   "metadata": {},
   "outputs": [
    {
     "name": "stdout",
     "output_type": "stream",
     "text": [
      "['Hospital_type_code', 'Hospital_region_code', 'Department', 'Ward_Type', 'Ward_Facility_Code', 'Type of Admission', 'Severity of Illness', 'Age', 'Hospital_region_code_FEAT_Ward_Facility_Code', 'Hospital_type_code_FEAT_Hospital_code', 'Hospital_type_code_FEAT_Hospital_region_code', 'Hospital_region_code_FEAT_City_Code_Hospital']\n"
     ]
    }
   ],
   "source": [
    "categorical_col=[]\n",
    "for col in data.columns:\n",
    "    if data[col].dtype== object and data[col].nunique()<=50:\n",
    "        categorical_col.append(col)\n",
    "print(categorical_col)"
   ]
  },
  {
   "cell_type": "code",
   "execution_count": 35,
   "metadata": {},
   "outputs": [],
   "source": [
    "from sklearn.preprocessing import LabelEncoder\n",
    "le= LabelEncoder()"
   ]
  },
  {
   "cell_type": "code",
   "execution_count": 36,
   "metadata": {},
   "outputs": [],
   "source": [
    "for col in categorical_col:\n",
    "    data[col]= le.fit_transform(data[col])"
   ]
  },
  {
   "cell_type": "markdown",
   "metadata": {},
   "source": [
    "## Imputing Missing Values"
   ]
  },
  {
   "cell_type": "code",
   "execution_count": 37,
   "metadata": {},
   "outputs": [],
   "source": [
    "#Filling null values\n",
    "data['City_Code_Patient'].fillna(data['City_Code_Patient'].median(),inplace=True)\n",
    "data['Bed Grade'].fillna(-1,inplace=True)"
   ]
  },
  {
   "cell_type": "code",
   "execution_count": 38,
   "metadata": {},
   "outputs": [],
   "source": [
    "train_new= data[:len(train_orig)]\n",
    "test_new= data[len(train_orig):]"
   ]
  },
  {
   "cell_type": "code",
   "execution_count": 39,
   "metadata": {},
   "outputs": [],
   "source": [
    "y_le= LabelEncoder()\n",
    "\n",
    "y= y_le.fit_transform(train_orig['Stay'])"
   ]
  },
  {
   "cell_type": "markdown",
   "metadata": {},
   "source": [
    "## Checking correlation of features with the target Column."
   ]
  },
  {
   "cell_type": "code",
   "execution_count": 40,
   "metadata": {},
   "outputs": [],
   "source": [
    "check=pd.concat([train_new,pd.DataFrame(data=y,columns=['Stay'])],axis=1)"
   ]
  },
  {
   "cell_type": "code",
   "execution_count": 41,
   "metadata": {},
   "outputs": [
    {
     "data": {
      "text/plain": [
       "Available Extra Rooms in Hospital              -0.121120\n",
       "Admission_Deposit                              -0.052077\n",
       "Severity of Illness                            -0.031188\n",
       "City_Code_Patient                              -0.009447\n",
       "Ward_Facility_Code                             -0.004552\n",
       "City_Code_Hospital                              0.006381\n",
       "Hospital_region_code                            0.011905\n",
       "Hospital_region_code_FEAT_City_Code_Hospital    0.011975\n",
       "Hospital_region_code_FEAT_Ward_Facility_Code    0.017004\n",
       "Type of Admission                               0.023617\n",
       "Bed Grade                                       0.025416\n",
       "Department                                      0.033287\n",
       "Hospital_code                                   0.042846\n",
       "Hospital_type_code                              0.058592\n",
       "Hospital_type_code_FEAT_Hospital_region_code    0.058990\n",
       "Hospital_type_code_FEAT_Hospital_code           0.063436\n",
       "Age                                             0.094163\n",
       "Ward_Type                                       0.185191\n",
       "Visitors with Patient                           0.537537\n",
       "Stay                                            1.000000\n",
       "Name: Stay, dtype: float64"
      ]
     },
     "execution_count": 41,
     "metadata": {},
     "output_type": "execute_result"
    }
   ],
   "source": [
    "check.corr()['Stay'].sort_values()"
   ]
  },
  {
   "cell_type": "code",
   "execution_count": 42,
   "metadata": {},
   "outputs": [
    {
     "data": {
      "text/plain": [
       "array(['0-10', '11-20', '21-30', '31-40', '41-50', '51-60', '61-70',\n",
       "       '71-80', '81-90', '91-100', 'More than 100 Days'], dtype=object)"
      ]
     },
     "execution_count": 42,
     "metadata": {},
     "output_type": "execute_result"
    }
   ],
   "source": [
    "y_le.classes_"
   ]
  },
  {
   "cell_type": "markdown",
   "metadata": {},
   "source": [
    "# Model Building- LightGBM"
   ]
  },
  {
   "cell_type": "code",
   "execution_count": 43,
   "metadata": {},
   "outputs": [],
   "source": [
    "from sklearn.model_selection import train_test_split\n",
    "\n",
    "X_train, X_test, y_train, y_test = train_test_split(train_new, y, test_size=0.2, random_state=101)"
   ]
  },
  {
   "cell_type": "code",
   "execution_count": 44,
   "metadata": {},
   "outputs": [],
   "source": [
    "import lightgbm as lgb\n",
    "\n",
    "model= lgb.LGBMClassifier()"
   ]
  },
  {
   "cell_type": "raw",
   "metadata": {},
   "source": [
    "from sklearn.model_selection import RandomizedSearchCV\n",
    "\n",
    "rs_params = {\n",
    "              'bagging_fraction': [0.85, 0.95],\n",
    "              'feature_fraction': [0.8, 0.9],\n",
    "              'max_depth': [30,50],\n",
    "              'num_leaves': [75, 90]\n",
    "              }"
   ]
  },
  {
   "cell_type": "raw",
   "metadata": {},
   "source": [
    "model_tuning= RandomizedSearchCV(estimator=model,\n",
    "                                 param_distributions=rs_params,\n",
    "                                 n_jobs=-1, verbose=2, cv=3)"
   ]
  },
  {
   "cell_type": "raw",
   "metadata": {
    "scrolled": true
   },
   "source": [
    "model_tuning.fit(X_train,y_train,verbose=2)"
   ]
  },
  {
   "cell_type": "raw",
   "metadata": {},
   "source": [
    "model_tuning.best_estimator_"
   ]
  },
  {
   "cell_type": "code",
   "execution_count": 45,
   "metadata": {},
   "outputs": [],
   "source": [
    "best_model=lgb.LGBMClassifier(bagging_fraction=0.95, feature_fraction=0.9, max_depth=50,\n",
    "                              learning_rate=0.03,n_estimators=400,num_leaves=75)"
   ]
  },
  {
   "cell_type": "code",
   "execution_count": 46,
   "metadata": {},
   "outputs": [
    {
     "name": "stdout",
     "output_type": "stream",
     "text": [
      "[LightGBM] [Warning] feature_fraction is set=0.9, colsample_bytree=1.0 will be ignored. Current value: feature_fraction=0.9\n",
      "[LightGBM] [Warning] bagging_fraction is set=0.95, subsample=1.0 will be ignored. Current value: bagging_fraction=0.95\n"
     ]
    },
    {
     "data": {
      "text/plain": [
       "LGBMClassifier(bagging_fraction=0.95, feature_fraction=0.9, learning_rate=0.03,\n",
       "               max_depth=50, n_estimators=400, num_leaves=75)"
      ]
     },
     "execution_count": 46,
     "metadata": {},
     "output_type": "execute_result"
    }
   ],
   "source": [
    "best_model.fit(X_train,y_train)"
   ]
  },
  {
   "cell_type": "code",
   "execution_count": 47,
   "metadata": {},
   "outputs": [],
   "source": [
    "pred= best_model.predict(X_test)"
   ]
  },
  {
   "cell_type": "code",
   "execution_count": 48,
   "metadata": {},
   "outputs": [],
   "source": [
    "from sklearn.metrics import classification_report, confusion_matrix"
   ]
  },
  {
   "cell_type": "markdown",
   "metadata": {},
   "source": [
    "## Got 43% accuracy on Validation set."
   ]
  },
  {
   "cell_type": "code",
   "execution_count": 49,
   "metadata": {},
   "outputs": [
    {
     "name": "stdout",
     "output_type": "stream",
     "text": [
      "              precision    recall  f1-score   support\n",
      "\n",
      "           0       0.16      0.39      0.23      2048\n",
      "           1       0.50      0.43      0.46     18051\n",
      "           2       0.67      0.43      0.52     27227\n",
      "           3       0.23      0.43      0.30      5871\n",
      "           4       0.00      0.19      0.01        37\n",
      "           5       0.50      0.41      0.45      8593\n",
      "           6       0.00      0.29      0.01         7\n",
      "           7       0.03      0.37      0.06       169\n",
      "           8       0.23      0.41      0.29       545\n",
      "           9       0.05      0.46      0.08        59\n",
      "          10       0.44      0.53      0.48      1081\n",
      "\n",
      "    accuracy                           0.43     63688\n",
      "   macro avg       0.26      0.39      0.26     63688\n",
      "weighted avg       0.53      0.43      0.46     63688\n",
      "\n"
     ]
    }
   ],
   "source": [
    "print(classification_report(pred,y_test))"
   ]
  },
  {
   "cell_type": "code",
   "execution_count": 56,
   "metadata": {},
   "outputs": [
    {
     "data": {
      "image/png": "[encoded data removed]",
      "text/plain": [
       "<Figure size 432x288 with 1 Axes>"
      ]
     },
     "metadata": {
      "needs_background": "light"
     },
     "output_type": "display_data"
    }
   ],
   "source": [
    "from lightgbm import plot_importance\n",
    "\n",
    "plot_importance(best_model);"
   ]
  },
  {
   "cell_type": "markdown",
   "metadata": {},
   "source": [
    "## Prediction on Test set \n",
    "## Got an accuracy of 42.723% on Public leaderboard."
   ]
  },
  {
   "cell_type": "code",
   "execution_count": 50,
   "metadata": {},
   "outputs": [],
   "source": [
    "testset_pred= best_model.predict(test_new)"
   ]
  },
  {
   "cell_type": "code",
   "execution_count": 51,
   "metadata": {},
   "outputs": [],
   "source": [
    "testset_pred= list(y_le.inverse_transform(testset_pred))"
   ]
  },
  {
   "cell_type": "code",
   "execution_count": 52,
   "metadata": {},
   "outputs": [
    {
     "data": {
      "text/html": [
       "<div>\n",
       "<style scoped>\n",
       "    .dataframe tbody tr th:only-of-type {\n",
       "        vertical-align: middle;\n",
       "    }\n",
       "\n",
       "    .dataframe tbody tr th {\n",
       "        vertical-align: top;\n",
       "    }\n",
       "\n",
       "    .dataframe thead th {\n",
       "        text-align: right;\n",
       "    }\n",
       "</style>\n",
       "<table border=\"1\" class=\"dataframe\">\n",
       "  <thead>\n",
       "    <tr style=\"text-align: right;\">\n",
       "      <th></th>\n",
       "      <th>case_id</th>\n",
       "      <th>Stay</th>\n",
       "    </tr>\n",
       "  </thead>\n",
       "  <tbody>\n",
       "    <tr>\n",
       "      <td>0</td>\n",
       "      <td>318439</td>\n",
       "      <td>0-10</td>\n",
       "    </tr>\n",
       "    <tr>\n",
       "      <td>1</td>\n",
       "      <td>318440</td>\n",
       "      <td>0-10</td>\n",
       "    </tr>\n",
       "    <tr>\n",
       "      <td>2</td>\n",
       "      <td>318441</td>\n",
       "      <td>0-10</td>\n",
       "    </tr>\n",
       "    <tr>\n",
       "      <td>3</td>\n",
       "      <td>318442</td>\n",
       "      <td>0-10</td>\n",
       "    </tr>\n",
       "    <tr>\n",
       "      <td>4</td>\n",
       "      <td>318443</td>\n",
       "      <td>0-10</td>\n",
       "    </tr>\n",
       "  </tbody>\n",
       "</table>\n",
       "</div>"
      ],
      "text/plain": [
       "   case_id  Stay\n",
       "0   318439  0-10\n",
       "1   318440  0-10\n",
       "2   318441  0-10\n",
       "3   318442  0-10\n",
       "4   318443  0-10"
      ]
     },
     "execution_count": 52,
     "metadata": {},
     "output_type": "execute_result"
    }
   ],
   "source": [
    "subm.head()"
   ]
  },
  {
   "cell_type": "code",
   "execution_count": 53,
   "metadata": {},
   "outputs": [],
   "source": [
    "final_subm= pd.DataFrame(data= testset_pred,index=subm['case_id'],columns=['Stay'])"
   ]
  },
  {
   "cell_type": "code",
   "execution_count": 54,
   "metadata": {},
   "outputs": [],
   "source": [
    "final_subm.to_csv('lgb_subm.csv')"
   ]
  },
  {
   "cell_type": "code",
   "execution_count": 55,
   "metadata": {},
   "outputs": [
    {
     "data": {
      "text/html": [
       "<div>\n",
       "<style scoped>\n",
       "    .dataframe tbody tr th:only-of-type {\n",
       "        vertical-align: middle;\n",
       "    }\n",
       "\n",
       "    .dataframe tbody tr th {\n",
       "        vertical-align: top;\n",
       "    }\n",
       "\n",
       "    .dataframe thead th {\n",
       "        text-align: right;\n",
       "    }\n",
       "</style>\n",
       "<table border=\"1\" class=\"dataframe\">\n",
       "  <thead>\n",
       "    <tr style=\"text-align: right;\">\n",
       "      <th></th>\n",
       "      <th>case_id</th>\n",
       "      <th>Stay</th>\n",
       "    </tr>\n",
       "  </thead>\n",
       "  <tbody>\n",
       "    <tr>\n",
       "      <td>0</td>\n",
       "      <td>318439</td>\n",
       "      <td>0-10</td>\n",
       "    </tr>\n",
       "    <tr>\n",
       "      <td>1</td>\n",
       "      <td>318440</td>\n",
       "      <td>51-60</td>\n",
       "    </tr>\n",
       "    <tr>\n",
       "      <td>2</td>\n",
       "      <td>318441</td>\n",
       "      <td>21-30</td>\n",
       "    </tr>\n",
       "    <tr>\n",
       "      <td>3</td>\n",
       "      <td>318442</td>\n",
       "      <td>21-30</td>\n",
       "    </tr>\n",
       "    <tr>\n",
       "      <td>4</td>\n",
       "      <td>318443</td>\n",
       "      <td>51-60</td>\n",
       "    </tr>\n",
       "  </tbody>\n",
       "</table>\n",
       "</div>"
      ],
      "text/plain": [
       "   case_id   Stay\n",
       "0   318439   0-10\n",
       "1   318440  51-60\n",
       "2   318441  21-30\n",
       "3   318442  21-30\n",
       "4   318443  51-60"
      ]
     },
     "execution_count": 55,
     "metadata": {},
     "output_type": "execute_result"
    }
   ],
   "source": [
    "df= pd.read_csv('lgb_subm.csv')\n",
    "df.head()"
   ]
  }
 ],
 "metadata": {
  "kernelspec": {
   "display_name": "Python 3",
   "language": "python",
   "name": "python3"
  },
  "language_info": {
   "codemirror_mode": {
    "name": "ipython",
    "version": 3
   },
   "file_extension": ".py",
   "mimetype": "text/x-python",
   "name": "python",
   "nbconvert_exporter": "python",
   "pygments_lexer": "ipython3",
   "version": "3.7.4"
  }
 },
 "nbformat": 4,
 "nbformat_minor": 2
}
